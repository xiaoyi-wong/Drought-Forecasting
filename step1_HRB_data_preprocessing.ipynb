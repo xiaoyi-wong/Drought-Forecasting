{
 "cells": [
  {
   "cell_type": "code",
   "execution_count": 1,
   "id": "b62329c3",
   "metadata": {},
   "outputs": [],
   "source": [
    "import xarray as xr\n",
    "import os \n",
    "import glob\n",
    "#import netCDF4 as nc\n",
    "import numpy as np\n",
    "import pandas as pd\n",
    "#import geopandas as gpd\n",
    "import netCDF4 as nc\n",
    "import matplotlib.pyplot as plt\n",
    "#import regionmask"
   ]
  },
  {
   "cell_type": "code",
   "execution_count": 2,
   "id": "4d8cbeb6",
   "metadata": {},
   "outputs": [],
   "source": [
    "def attr_vars_read(head):\n",
    "    vars_list = []\n",
    "    dir_subfolders = []\n",
    "    for sub_folder in os.listdir(head):\n",
    "        print(sub_folder)\n",
    "        files = os.listdir(os.path.join(head,sub_folder))\n",
    "        dir_subfolders.append(os.path.join(head,sub_folder))\n",
    "        med_dir = os.path.join(head,sub_folder,files[0])\n",
    "        dset = nc.Dataset(med_dir)\n",
    "        med_var = list(set(dset.variables.keys()-['longitude','latitude','time']))\n",
    "        if len(med_var) == 1:\n",
    "            vars_list.append(med_var[0])\n",
    "        else:\n",
    "            print(\"The %s has external vars (%)\" %(sub_folder,med_var))   \n",
    "    sub_files = os.listdir(dir_subfolders[0])\n",
    "    sample = xr.open_dataset(os.path.join(head,dir_subfolders[0],sub_files[0]))\n",
    "    #sample = getattr(sample_file, vars_list[0])    \n",
    "    return dir_subfolders, vars_list, sample"
   ]
  },
  {
   "cell_type": "code",
   "execution_count": 6,
   "id": "01adf0b2",
   "metadata": {},
   "outputs": [],
   "source": [
    "from tqdm import notebook as tqdm\n",
    "import time\n",
    "# import numba  \n",
    " \n",
    "# @numba.jit(nopython=True) \n",
    "def data_mean(dir_folder,dir_var):\n",
    "    sub_filenames = os.listdir(os.path.join(dir_folder))\n",
    "    ds = xr.open_dataset(os.path.join(dir_folder,sub_filenames[0]))\n",
    "#     min_lon = 114 \n",
    "#     min_lat = 31.5 \n",
    "#     max_lon = 119.5 \n",
    "#     max_lat = 35.5\n",
    "    min_lon = 111.5 \n",
    "    min_lat = 30.5 \n",
    "    max_lon = 121.8 \n",
    "    max_lat = 36.8\n",
    "    mask_lon = (ds.longitude >= min_lon) & (ds.longitude <= max_lon)\n",
    "    mask_lat = (ds.latitude >= min_lat) & (ds.latitude <= max_lat)\n",
    "    data = np.zeros([len(sub_filenames), 64,104])\n",
    "    for i in tqdm.tqdm(range(len(sub_filenames))):\n",
    "        med_ds = xr.open_dataset(os.path.join(dir_folder,sub_filenames[i]))\n",
    "        ds_hbp = med_ds.where(mask_lon & mask_lat, drop=True)\n",
    "        ds_aggre = ds_hbp.resample(time='1D').mean(skipna=True)\n",
    "        med_data = getattr(ds_aggre, dir_var)\n",
    "        data[i,:,:] = med_data[0,:,:]\n",
    "    #template = getattr(sample, 'evavt')  \n",
    "    #template = getattr(sample, 'swvl1')\n",
    "    #data_masked = np.where(~np.isnan(MASK.region),data, np.nan)\n",
    "    return data#data_masked"
   ]
  },
  {
   "cell_type": "code",
   "execution_count": 7,
   "id": "eacaab3c",
   "metadata": {},
   "outputs": [
    {
     "name": "stdout",
     "output_type": "stream",
     "text": [
      "Volumetric soil water layer 1-HRB\n"
     ]
    }
   ],
   "source": [
    "#from multiprocessing import Pool\n",
    "head = r'G:\\ERA5_Land_surface-HRB\\soil_moisture'\n",
    "#head = r'G:\\ERA5_validation_period'\n",
    "vars_folder, vars_attr, ds  = attr_vars_read(head)\n",
    "##\n",
    "# ds_var = list(set(ds.variables.keys()-['longitude','latitude','time']))\n",
    "# ds_single = getattr(ds, ds_var[0])  \n",
    "# mask = xr.open_dataset(r'G:\\mask_info\\Spain_mainland.nc') \n",
    "# outline = gpd.read_file(r'G:\\mask_info\\Spian_mainland\\spain_mainland.shp')"
   ]
  },
  {
   "cell_type": "code",
   "execution_count": 8,
   "id": "91cd413d",
   "metadata": {},
   "outputs": [
    {
     "data": {
      "application/vnd.jupyter.widget-view+json": {
       "model_id": "621927fc0f8b4482839ff05ce6fa5aa2",
       "version_major": 2,
       "version_minor": 0
      },
      "text/plain": [
       "  0%|          | 0/14980 [00:00<?, ?it/s]"
      ]
     },
     "metadata": {},
     "output_type": "display_data"
    }
   ],
   "source": [
    "ii = 0\n",
    "ds_m = data_mean(vars_folder[ii],vars_attr[ii])"
   ]
  },
  {
   "cell_type": "code",
   "execution_count": 9,
   "id": "38375de3",
   "metadata": {},
   "outputs": [],
   "source": [
    "#ds = xr.open_dataset(os.path.join(vars_folder[0],sub_filenames[0]))\n",
    "min_lon = 111.5 \n",
    "min_lat = 30.5 \n",
    "max_lon = 121.8 \n",
    "max_lat = 36.8\n",
    "mask_lon = (ds.longitude >= min_lon) & (ds.longitude <= max_lon)\n",
    "mask_lat = (ds.latitude >= min_lat) & (ds.latitude <= max_lat)\n",
    "# save as nc\n",
    "template = getattr(ds, vars_attr[0])\n",
    "lat = template.latitude\n",
    "lon = template.longitude\n",
    "LON,LAT = np.meshgrid(lon[mask_lon],lat[mask_lat])\n",
    "reference_time = pd.Timestamp(\"now\")\n",
    "date = pd.date_range(start='19791231',end='20210103',freq='D')\n",
    "da = xr.Dataset(\n",
    "    {vars_attr[0]: ((\"time\",\"rows\", \"colms\"), ds_m)},\n",
    "    coords=dict(\n",
    "        time=date,\n",
    "        lon=(['rows', \"colms\"], LON),\n",
    "        lat=([\"rows\", \"colms\"], LAT),\n",
    "        reference_time=reference_time,\n",
    "    ),\n",
    "    attrs=dict(\n",
    "        description=\"daily means calculated from hourly data.\",\n",
    "        units=\"refer to the variable\",\n",
    "    ),  \n",
    "    )\n",
    "#da.to_netcdf('G:\\\\ERA5_Land_surface-HRB\\\\'+vars_attr[ii]+'_HuaibeiPlain_from_1980_to_2021.nc')"
   ]
  },
  {
   "cell_type": "code",
   "execution_count": 10,
   "id": "0ed36d66",
   "metadata": {},
   "outputs": [],
   "source": [
    "da_week = da['swvl1'].resample(time=\"7D\").mean(dim=\"time\")"
   ]
  },
  {
   "cell_type": "code",
   "execution_count": 11,
   "id": "50b7c499",
   "metadata": {},
   "outputs": [],
   "source": [
    "da.to_netcdf('G:\\\\ERA5_Land_surface-HRB\\\\'+vars_attr[ii]+'_HRB_from_1980_to_2021.nc')"
   ]
  },
  {
   "cell_type": "code",
   "execution_count": 12,
   "id": "c882b285",
   "metadata": {},
   "outputs": [],
   "source": [
    "da_week.to_netcdf('G:\\\\ERA5_Land_surface-HRB\\\\'+vars_attr[ii]+'_weekly_HRB_from_1980_to_2021.nc')"
   ]
  },
  {
   "cell_type": "code",
   "execution_count": null,
   "id": "f1dbbaab",
   "metadata": {},
   "outputs": [],
   "source": []
  }
 ],
 "metadata": {
  "kernelspec": {
   "display_name": "Python 3 (ipykernel)",
   "language": "python",
   "name": "python3"
  },
  "language_info": {
   "codemirror_mode": {
    "name": "ipython",
    "version": 3
   },
   "file_extension": ".py",
   "mimetype": "text/x-python",
   "name": "python",
   "nbconvert_exporter": "python",
   "pygments_lexer": "ipython3",
   "version": "3.10.4"
  }
 },
 "nbformat": 4,
 "nbformat_minor": 5
}
