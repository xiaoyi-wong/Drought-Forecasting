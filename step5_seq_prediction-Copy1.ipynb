{
 "cells": [
  {
   "cell_type": "code",
   "execution_count": 1,
   "id": "d9238a1e",
   "metadata": {},
   "outputs": [],
   "source": [
    "#----------------------------#\n",
    "# 本程序为了按照imf预测模型的顺序，对2019-3 ~ 2020.12每周的土壤湿度进行预测\n",
    "# This procedure in order to follow the sequence of the imf prediction model for weekly soil moisture predictions for 2019-3 ~ 2020.12\n",
    "# 数据导入：各个文件夹存在每个imf的csv文件\n",
    "#----------------------------#\n",
    "import fostool\n",
    "from fostool.pipeline import Pipeline\n",
    "import numpy as np\n",
    "import matplotlib.pyplot as plt\n",
    "import io\n",
    "import os\n",
    "from tqdm.notebook import tqdm\n",
    "import xarray as xr\n",
    "import pandas as pd\n",
    "#from .dataset.data_utils import DataHandler"
   ]
  },
  {
   "cell_type": "code",
   "execution_count": 2,
   "id": "5ec7e4ea",
   "metadata": {},
   "outputs": [],
   "source": [
    "# 读取文件名的函数\n",
    "def read_file(path, file_type):  # path 是指需要提取的文件夹所在路径;file_type是指文件的拓展名;txt格式的文件则输入‘.txt’\n",
    "    filenames = os.listdir(path)\n",
    "    filenames1 = []\n",
    "    for filename in filenames:\n",
    "        if os.path.splitext(filename)[1] == file_type:\n",
    "            filenames1.append(filename)\n",
    "    return filenames1"
   ]
  },
  {
   "cell_type": "code",
   "execution_count": 3,
   "id": "3cd0bdba",
   "metadata": {},
   "outputs": [],
   "source": [
    "def pad(value):\n",
    "    try:\n",
    "        return '{0:0>2}'.format(int(value))\n",
    "    except:\n",
    "        return value\n",
    "\n",
    "vfunc = np.vectorize(pad)\n",
    "# arr = vfunc(month)\n",
    "# print(arr)"
   ]
  },
  {
   "cell_type": "code",
   "execution_count": 7,
   "id": "389223cc",
   "metadata": {},
   "outputs": [
    {
     "data": {
      "application/vnd.jupyter.widget-view+json": {
       "model_id": "bae62b1e4f8746cf9eb8ca58685c1b5e",
       "version_major": 2,
       "version_minor": 0
      },
      "text/plain": [
       "  0%|          | 0/8 [00:00<?, ?it/s]"
      ]
     },
     "metadata": {},
     "output_type": "display_data"
    },
    {
     "name": "stderr",
     "output_type": "stream",
     "text": [
      "2022-07-03 19:00:00 fostool\\task\\config_handler.py 28 \\ - INFO - yaml handler load path: C:\\Users\\Xiaoyi Wang\\.conda\\envs\\geo_env\\lib\\site-packages\\fostool\\config/default.yaml\n",
      "2022-07-03 19:00:01 fostool\\dataset\\data_utils.py 426 \\ - INFO - 54537 Rows Before Time Reindex.\n",
      "2022-07-03 19:00:01 fostool\\dataset\\data_utils.py 428 \\ - INFO - 54537 Rows After Time Reindex.\n",
      "2022-07-03 19:00:01 fostool\\dataset\\data_utils.py 429 \\ - INFO - --------------------\n",
      "2022-07-03 19:00:01 fostool\\dataset\\data_utils.py 457 \\ - INFO - 54537 Rows Before Fill Missing.\n"
     ]
    },
    {
     "name": "stdout",
     "output_type": "stream",
     "text": [
      "imf0_HRB_pd_melt_2019-03-03.csv\n"
     ]
    },
    {
     "name": "stderr",
     "output_type": "stream",
     "text": [
      "2022-07-03 19:00:07 fostool\\dataset\\data_utils.py 461 \\ - INFO - 54537 Rows After Fill Missing.\n",
      "2022-07-03 19:00:07 fostool\\dataset\\data_utils.py 462 \\ - INFO - --------------------\n",
      "2022-07-03 19:00:41 fostool\\task\\fusion.py 71 \\ - INFO -    val_loss             model_name\n",
      "0  0.179740      KRNNModel_01c6_14\n",
      "1  0.156839      KRNNModel_b07a_21\n",
      "4  0.187240        MLP_Res_8f02_21\n",
      "7  0.205605  SandwichModel_7e50_21\n",
      "2022-07-03 19:00:41 fostool\\dataset\\data_utils.py 426 \\ - INFO - 54537 Rows Before Time Reindex.\n",
      "2022-07-03 19:00:41 fostool\\dataset\\data_utils.py 428 \\ - INFO - 54537 Rows After Time Reindex.\n",
      "2022-07-03 19:00:41 fostool\\dataset\\data_utils.py 429 \\ - INFO - --------------------\n",
      "2022-07-03 19:00:41 fostool\\dataset\\data_utils.py 457 \\ - INFO - 54537 Rows Before Fill Missing.\n"
     ]
    },
    {
     "name": "stdout",
     "output_type": "stream",
     "text": [
      "CPU times: total: 1min 7s\n",
      "Wall time: 40.2 s\n",
      "imf0_HRB_pd_melt_2019-03-31.csv\n"
     ]
    },
    {
     "name": "stderr",
     "output_type": "stream",
     "text": [
      "2022-07-03 19:00:47 fostool\\dataset\\data_utils.py 461 \\ - INFO - 54537 Rows After Fill Missing.\n",
      "2022-07-03 19:00:47 fostool\\dataset\\data_utils.py 462 \\ - INFO - --------------------\n",
      "2022-07-03 19:01:21 fostool\\task\\fusion.py 71 \\ - INFO -    val_loss             model_name\n",
      "0  0.179740      KRNNModel_01c6_14\n",
      "1  0.156839      KRNNModel_b07a_21\n",
      "4  0.187240        MLP_Res_8f02_21\n",
      "7  0.205605  SandwichModel_7e50_21\n",
      "2022-07-03 19:01:21 fostool\\dataset\\data_utils.py 426 \\ - INFO - 54537 Rows Before Time Reindex.\n",
      "2022-07-03 19:01:21 fostool\\dataset\\data_utils.py 428 \\ - INFO - 54537 Rows After Time Reindex.\n",
      "2022-07-03 19:01:21 fostool\\dataset\\data_utils.py 429 \\ - INFO - --------------------\n",
      "2022-07-03 19:01:21 fostool\\dataset\\data_utils.py 457 \\ - INFO - 54537 Rows Before Fill Missing.\n"
     ]
    },
    {
     "name": "stdout",
     "output_type": "stream",
     "text": [
      "CPU times: total: 1min 3s\n",
      "Wall time: 39.9 s\n",
      "imf0_HRB_pd_melt_2019-04-28.csv\n"
     ]
    },
    {
     "name": "stderr",
     "output_type": "stream",
     "text": [
      "2022-07-03 19:01:27 fostool\\dataset\\data_utils.py 461 \\ - INFO - 54537 Rows After Fill Missing.\n",
      "2022-07-03 19:01:27 fostool\\dataset\\data_utils.py 462 \\ - INFO - --------------------\n",
      "2022-07-03 19:02:01 fostool\\task\\fusion.py 71 \\ - INFO -    val_loss             model_name\n",
      "0  0.179740      KRNNModel_01c6_14\n",
      "1  0.156839      KRNNModel_b07a_21\n",
      "4  0.187240        MLP_Res_8f02_21\n",
      "7  0.205605  SandwichModel_7e50_21\n",
      "2022-07-03 19:02:01 fostool\\dataset\\data_utils.py 426 \\ - INFO - 54537 Rows Before Time Reindex.\n",
      "2022-07-03 19:02:01 fostool\\dataset\\data_utils.py 428 \\ - INFO - 54537 Rows After Time Reindex.\n",
      "2022-07-03 19:02:01 fostool\\dataset\\data_utils.py 429 \\ - INFO - --------------------\n",
      "2022-07-03 19:02:01 fostool\\dataset\\data_utils.py 457 \\ - INFO - 54537 Rows Before Fill Missing.\n"
     ]
    },
    {
     "name": "stdout",
     "output_type": "stream",
     "text": [
      "CPU times: total: 1min 5s\n",
      "Wall time: 40.7 s\n",
      "imf0_HRB_pd_melt_2019-05-26.csv\n"
     ]
    },
    {
     "name": "stderr",
     "output_type": "stream",
     "text": [
      "2022-07-03 19:02:08 fostool\\dataset\\data_utils.py 461 \\ - INFO - 54537 Rows After Fill Missing.\n",
      "2022-07-03 19:02:08 fostool\\dataset\\data_utils.py 462 \\ - INFO - --------------------\n",
      "2022-07-03 19:02:44 fostool\\task\\fusion.py 71 \\ - INFO -    val_loss             model_name\n",
      "0  0.179740      KRNNModel_01c6_14\n",
      "1  0.156839      KRNNModel_b07a_21\n",
      "4  0.187240        MLP_Res_8f02_21\n",
      "7  0.205605  SandwichModel_7e50_21\n",
      "2022-07-03 19:02:44 fostool\\dataset\\data_utils.py 426 \\ - INFO - 54537 Rows Before Time Reindex.\n",
      "2022-07-03 19:02:44 fostool\\dataset\\data_utils.py 428 \\ - INFO - 54537 Rows After Time Reindex.\n",
      "2022-07-03 19:02:44 fostool\\dataset\\data_utils.py 429 \\ - INFO - --------------------\n",
      "2022-07-03 19:02:44 fostool\\dataset\\data_utils.py 457 \\ - INFO - 54537 Rows Before Fill Missing.\n"
     ]
    },
    {
     "name": "stdout",
     "output_type": "stream",
     "text": [
      "CPU times: total: 1min 10s\n",
      "Wall time: 42.3 s\n",
      "imf0_HRB_pd_melt_2019-06-23.csv\n"
     ]
    },
    {
     "name": "stderr",
     "output_type": "stream",
     "text": [
      "2022-07-03 19:02:51 fostool\\dataset\\data_utils.py 461 \\ - INFO - 54537 Rows After Fill Missing.\n",
      "2022-07-03 19:02:51 fostool\\dataset\\data_utils.py 462 \\ - INFO - --------------------\n",
      "2022-07-03 19:03:25 fostool\\task\\fusion.py 71 \\ - INFO -    val_loss             model_name\n",
      "0  0.179740      KRNNModel_01c6_14\n",
      "1  0.156839      KRNNModel_b07a_21\n",
      "4  0.187240        MLP_Res_8f02_21\n",
      "7  0.205605  SandwichModel_7e50_21\n",
      "2022-07-03 19:03:25 fostool\\dataset\\data_utils.py 426 \\ - INFO - 54537 Rows Before Time Reindex.\n",
      "2022-07-03 19:03:25 fostool\\dataset\\data_utils.py 428 \\ - INFO - 54537 Rows After Time Reindex.\n",
      "2022-07-03 19:03:25 fostool\\dataset\\data_utils.py 429 \\ - INFO - --------------------\n",
      "2022-07-03 19:03:25 fostool\\dataset\\data_utils.py 457 \\ - INFO - 54537 Rows Before Fill Missing.\n"
     ]
    },
    {
     "name": "stdout",
     "output_type": "stream",
     "text": [
      "CPU times: total: 1min 6s\n",
      "Wall time: 41 s\n",
      "imf0_HRB_pd_melt_2019-07-21.csv\n"
     ]
    },
    {
     "name": "stderr",
     "output_type": "stream",
     "text": [
      "2022-07-03 19:03:32 fostool\\dataset\\data_utils.py 461 \\ - INFO - 54537 Rows After Fill Missing.\n",
      "2022-07-03 19:03:32 fostool\\dataset\\data_utils.py 462 \\ - INFO - --------------------\n",
      "2022-07-03 19:04:06 fostool\\task\\fusion.py 71 \\ - INFO -    val_loss             model_name\n",
      "0  0.179740      KRNNModel_01c6_14\n",
      "1  0.156839      KRNNModel_b07a_21\n",
      "4  0.187240        MLP_Res_8f02_21\n",
      "7  0.205605  SandwichModel_7e50_21\n",
      "2022-07-03 19:04:06 fostool\\dataset\\data_utils.py 426 \\ - INFO - 54537 Rows Before Time Reindex.\n",
      "2022-07-03 19:04:06 fostool\\dataset\\data_utils.py 428 \\ - INFO - 54537 Rows After Time Reindex.\n",
      "2022-07-03 19:04:06 fostool\\dataset\\data_utils.py 429 \\ - INFO - --------------------\n",
      "2022-07-03 19:04:06 fostool\\dataset\\data_utils.py 457 \\ - INFO - 54537 Rows Before Fill Missing.\n"
     ]
    },
    {
     "name": "stdout",
     "output_type": "stream",
     "text": [
      "CPU times: total: 1min 6s\n",
      "Wall time: 41 s\n",
      "imf0_HRB_pd_melt_2019-08-18.csv\n"
     ]
    },
    {
     "name": "stderr",
     "output_type": "stream",
     "text": [
      "2022-07-03 19:04:13 fostool\\dataset\\data_utils.py 461 \\ - INFO - 54537 Rows After Fill Missing.\n",
      "2022-07-03 19:04:13 fostool\\dataset\\data_utils.py 462 \\ - INFO - --------------------\n",
      "2022-07-03 19:04:45 fostool\\task\\fusion.py 71 \\ - INFO -    val_loss             model_name\n",
      "0  0.179740      KRNNModel_01c6_14\n",
      "1  0.156839      KRNNModel_b07a_21\n",
      "4  0.187240        MLP_Res_8f02_21\n",
      "7  0.205605  SandwichModel_7e50_21\n",
      "2022-07-03 19:04:45 fostool\\dataset\\data_utils.py 426 \\ - INFO - 54537 Rows Before Time Reindex.\n",
      "2022-07-03 19:04:45 fostool\\dataset\\data_utils.py 428 \\ - INFO - 54537 Rows After Time Reindex.\n",
      "2022-07-03 19:04:45 fostool\\dataset\\data_utils.py 429 \\ - INFO - --------------------\n",
      "2022-07-03 19:04:45 fostool\\dataset\\data_utils.py 457 \\ - INFO - 54537 Rows Before Fill Missing.\n"
     ]
    },
    {
     "name": "stdout",
     "output_type": "stream",
     "text": [
      "CPU times: total: 1min 2s\n",
      "Wall time: 38.8 s\n",
      "imf0_HRB_pd_melt_2019-09-15.csv\n"
     ]
    },
    {
     "name": "stderr",
     "output_type": "stream",
     "text": [
      "2022-07-03 19:04:52 fostool\\dataset\\data_utils.py 461 \\ - INFO - 54537 Rows After Fill Missing.\n",
      "2022-07-03 19:04:52 fostool\\dataset\\data_utils.py 462 \\ - INFO - --------------------\n",
      "2022-07-03 19:05:25 fostool\\task\\fusion.py 71 \\ - INFO -    val_loss             model_name\n",
      "0  0.179740      KRNNModel_01c6_14\n",
      "1  0.156839      KRNNModel_b07a_21\n",
      "4  0.187240        MLP_Res_8f02_21\n",
      "7  0.205605  SandwichModel_7e50_21\n",
      "2022-07-03 19:05:25 fostool\\dataset\\data_utils.py 426 \\ - INFO - 54537 Rows Before Time Reindex.\n",
      "2022-07-03 19:05:25 fostool\\dataset\\data_utils.py 428 \\ - INFO - 54537 Rows After Time Reindex.\n",
      "2022-07-03 19:05:25 fostool\\dataset\\data_utils.py 429 \\ - INFO - --------------------\n"
     ]
    },
    {
     "name": "stdout",
     "output_type": "stream",
     "text": [
      "CPU times: total: 1min 5s\n",
      "Wall time: 40.5 s\n",
      "imf0_HRB_pd_melt_2019-10-13.csv\n"
     ]
    },
    {
     "name": "stderr",
     "output_type": "stream",
     "text": [
      "2022-07-03 19:05:25 fostool\\dataset\\data_utils.py 457 \\ - INFO - 54537 Rows Before Fill Missing.\n",
      "2022-07-03 19:05:32 fostool\\dataset\\data_utils.py 461 \\ - INFO - 54537 Rows After Fill Missing.\n",
      "2022-07-03 19:05:32 fostool\\dataset\\data_utils.py 462 \\ - INFO - --------------------\n",
      "2022-07-03 19:06:07 fostool\\task\\fusion.py 71 \\ - INFO -    val_loss             model_name\n",
      "0  0.179740      KRNNModel_01c6_14\n",
      "1  0.156839      KRNNModel_b07a_21\n",
      "4  0.187240        MLP_Res_8f02_21\n",
      "7  0.205605  SandwichModel_7e50_21\n",
      "2022-07-03 19:06:07 fostool\\dataset\\data_utils.py 426 \\ - INFO - 54537 Rows Before Time Reindex.\n",
      "2022-07-03 19:06:07 fostool\\dataset\\data_utils.py 428 \\ - INFO - 54537 Rows After Time Reindex.\n",
      "2022-07-03 19:06:07 fostool\\dataset\\data_utils.py 429 \\ - INFO - --------------------\n",
      "2022-07-03 19:06:07 fostool\\dataset\\data_utils.py 457 \\ - INFO - 54537 Rows Before Fill Missing.\n"
     ]
    },
    {
     "name": "stdout",
     "output_type": "stream",
     "text": [
      "CPU times: total: 1min 7s\n",
      "Wall time: 41.3 s\n",
      "imf0_HRB_pd_melt_2019-11-10.csv\n"
     ]
    },
    {
     "name": "stderr",
     "output_type": "stream",
     "text": [
      "2022-07-03 19:06:13 fostool\\dataset\\data_utils.py 461 \\ - INFO - 54537 Rows After Fill Missing.\n",
      "2022-07-03 19:06:13 fostool\\dataset\\data_utils.py 462 \\ - INFO - --------------------\n",
      "2022-07-03 19:06:47 fostool\\task\\fusion.py 71 \\ - INFO -    val_loss             model_name\n",
      "0  0.179740      KRNNModel_01c6_14\n",
      "1  0.156839      KRNNModel_b07a_21\n",
      "4  0.187240        MLP_Res_8f02_21\n",
      "7  0.205605  SandwichModel_7e50_21\n",
      "2022-07-03 19:06:47 fostool\\dataset\\data_utils.py 426 \\ - INFO - 54537 Rows Before Time Reindex.\n",
      "2022-07-03 19:06:47 fostool\\dataset\\data_utils.py 428 \\ - INFO - 54537 Rows After Time Reindex.\n",
      "2022-07-03 19:06:47 fostool\\dataset\\data_utils.py 429 \\ - INFO - --------------------\n",
      "2022-07-03 19:06:47 fostool\\dataset\\data_utils.py 457 \\ - INFO - 54537 Rows Before Fill Missing.\n"
     ]
    },
    {
     "name": "stdout",
     "output_type": "stream",
     "text": [
      "CPU times: total: 1min 6s\n",
      "Wall time: 40.7 s\n",
      "imf0_HRB_pd_melt_2019-12-08.csv\n"
     ]
    },
    {
     "name": "stderr",
     "output_type": "stream",
     "text": [
      "2022-07-03 19:06:54 fostool\\dataset\\data_utils.py 461 \\ - INFO - 54537 Rows After Fill Missing.\n",
      "2022-07-03 19:06:54 fostool\\dataset\\data_utils.py 462 \\ - INFO - --------------------\n",
      "2022-07-03 19:07:28 fostool\\task\\fusion.py 71 \\ - INFO -    val_loss             model_name\n",
      "0  0.179740      KRNNModel_01c6_14\n",
      "1  0.156839      KRNNModel_b07a_21\n",
      "4  0.187240        MLP_Res_8f02_21\n",
      "7  0.205605  SandwichModel_7e50_21\n",
      "2022-07-03 19:07:28 fostool\\dataset\\data_utils.py 426 \\ - INFO - 54537 Rows Before Time Reindex.\n",
      "2022-07-03 19:07:28 fostool\\dataset\\data_utils.py 428 \\ - INFO - 54537 Rows After Time Reindex.\n",
      "2022-07-03 19:07:28 fostool\\dataset\\data_utils.py 429 \\ - INFO - --------------------\n",
      "2022-07-03 19:07:28 fostool\\dataset\\data_utils.py 457 \\ - INFO - 54537 Rows Before Fill Missing.\n"
     ]
    },
    {
     "name": "stdout",
     "output_type": "stream",
     "text": [
      "CPU times: total: 1min 5s\n",
      "Wall time: 40.9 s\n",
      "imf0_HRB_pd_melt_2020-01-05.csv\n"
     ]
    },
    {
     "name": "stderr",
     "output_type": "stream",
     "text": [
      "2022-07-03 19:07:35 fostool\\dataset\\data_utils.py 461 \\ - INFO - 54537 Rows After Fill Missing.\n",
      "2022-07-03 19:07:35 fostool\\dataset\\data_utils.py 462 \\ - INFO - --------------------\n",
      "2022-07-03 19:08:08 fostool\\task\\fusion.py 71 \\ - INFO -    val_loss             model_name\n",
      "0  0.179740      KRNNModel_01c6_14\n",
      "1  0.156839      KRNNModel_b07a_21\n",
      "4  0.187240        MLP_Res_8f02_21\n",
      "7  0.205605  SandwichModel_7e50_21\n",
      "2022-07-03 19:08:08 fostool\\dataset\\data_utils.py 426 \\ - INFO - 54537 Rows Before Time Reindex.\n",
      "2022-07-03 19:08:08 fostool\\dataset\\data_utils.py 428 \\ - INFO - 54537 Rows After Time Reindex.\n",
      "2022-07-03 19:08:08 fostool\\dataset\\data_utils.py 429 \\ - INFO - --------------------\n",
      "2022-07-03 19:08:08 fostool\\dataset\\data_utils.py 457 \\ - INFO - 54537 Rows Before Fill Missing.\n"
     ]
    },
    {
     "name": "stdout",
     "output_type": "stream",
     "text": [
      "CPU times: total: 1min 2s\n",
      "Wall time: 39.5 s\n",
      "imf0_HRB_pd_melt_2020-02-02.csv\n"
     ]
    },
    {
     "name": "stderr",
     "output_type": "stream",
     "text": [
      "2022-07-03 19:08:15 fostool\\dataset\\data_utils.py 461 \\ - INFO - 54537 Rows After Fill Missing.\n",
      "2022-07-03 19:08:15 fostool\\dataset\\data_utils.py 462 \\ - INFO - --------------------\n",
      "2022-07-03 19:08:48 fostool\\task\\fusion.py 71 \\ - INFO -    val_loss             model_name\n",
      "0  0.179740      KRNNModel_01c6_14\n",
      "1  0.156839      KRNNModel_b07a_21\n",
      "4  0.187240        MLP_Res_8f02_21\n",
      "7  0.205605  SandwichModel_7e50_21\n",
      "2022-07-03 19:08:49 fostool\\dataset\\data_utils.py 426 \\ - INFO - 54537 Rows Before Time Reindex.\n",
      "2022-07-03 19:08:49 fostool\\dataset\\data_utils.py 428 \\ - INFO - 54537 Rows After Time Reindex.\n",
      "2022-07-03 19:08:49 fostool\\dataset\\data_utils.py 429 \\ - INFO - --------------------\n",
      "2022-07-03 19:08:49 fostool\\dataset\\data_utils.py 457 \\ - INFO - 54537 Rows Before Fill Missing.\n"
     ]
    },
    {
     "name": "stdout",
     "output_type": "stream",
     "text": [
      "CPU times: total: 1min 5s\n",
      "Wall time: 40.6 s\n",
      "imf0_HRB_pd_melt_2020-03-01.csv\n"
     ]
    },
    {
     "name": "stderr",
     "output_type": "stream",
     "text": [
      "2022-07-03 19:08:56 fostool\\dataset\\data_utils.py 461 \\ - INFO - 54537 Rows After Fill Missing.\n",
      "2022-07-03 19:08:56 fostool\\dataset\\data_utils.py 462 \\ - INFO - --------------------\n",
      "2022-07-03 19:09:30 fostool\\task\\fusion.py 71 \\ - INFO -    val_loss             model_name\n",
      "0  0.179740      KRNNModel_01c6_14\n",
      "1  0.156839      KRNNModel_b07a_21\n",
      "4  0.187240        MLP_Res_8f02_21\n",
      "7  0.205605  SandwichModel_7e50_21\n",
      "2022-07-03 19:09:30 fostool\\dataset\\data_utils.py 426 \\ - INFO - 54537 Rows Before Time Reindex.\n"
     ]
    },
    {
     "name": "stdout",
     "output_type": "stream",
     "text": [
      "CPU times: total: 1min 6s\n",
      "Wall time: 41.1 s\n",
      "imf0_HRB_pd_melt_2020-03-29.csv\n"
     ]
    },
    {
     "name": "stderr",
     "output_type": "stream",
     "text": [
      "2022-07-03 19:09:30 fostool\\dataset\\data_utils.py 428 \\ - INFO - 54537 Rows After Time Reindex.\n",
      "2022-07-03 19:09:30 fostool\\dataset\\data_utils.py 429 \\ - INFO - --------------------\n",
      "2022-07-03 19:09:30 fostool\\dataset\\data_utils.py 457 \\ - INFO - 54537 Rows Before Fill Missing.\n",
      "2022-07-03 19:09:37 fostool\\dataset\\data_utils.py 461 \\ - INFO - 54537 Rows After Fill Missing.\n",
      "2022-07-03 19:09:37 fostool\\dataset\\data_utils.py 462 \\ - INFO - --------------------\n",
      "2022-07-03 19:10:10 fostool\\task\\fusion.py 71 \\ - INFO -    val_loss             model_name\n",
      "0  0.179740      KRNNModel_01c6_14\n",
      "1  0.156839      KRNNModel_b07a_21\n",
      "4  0.187240        MLP_Res_8f02_21\n",
      "7  0.205605  SandwichModel_7e50_21\n",
      "2022-07-03 19:10:10 fostool\\dataset\\data_utils.py 426 \\ - INFO - 54537 Rows Before Time Reindex.\n",
      "2022-07-03 19:10:10 fostool\\dataset\\data_utils.py 428 \\ - INFO - 54537 Rows After Time Reindex.\n",
      "2022-07-03 19:10:10 fostool\\dataset\\data_utils.py 429 \\ - INFO - --------------------\n",
      "2022-07-03 19:10:10 fostool\\dataset\\data_utils.py 457 \\ - INFO - 54537 Rows Before Fill Missing.\n"
     ]
    },
    {
     "name": "stdout",
     "output_type": "stream",
     "text": [
      "CPU times: total: 1min 4s\n",
      "Wall time: 40.2 s\n",
      "imf0_HRB_pd_melt_2020-04-26.csv\n"
     ]
    },
    {
     "name": "stderr",
     "output_type": "stream",
     "text": [
      "2022-07-03 19:10:17 fostool\\dataset\\data_utils.py 461 \\ - INFO - 54537 Rows After Fill Missing.\n",
      "2022-07-03 19:10:17 fostool\\dataset\\data_utils.py 462 \\ - INFO - --------------------\n",
      "2022-07-03 19:10:51 fostool\\task\\fusion.py 71 \\ - INFO -    val_loss             model_name\n",
      "0  0.179740      KRNNModel_01c6_14\n",
      "1  0.156839      KRNNModel_b07a_21\n",
      "4  0.187240        MLP_Res_8f02_21\n",
      "7  0.205605  SandwichModel_7e50_21\n",
      "2022-07-03 19:10:51 fostool\\dataset\\data_utils.py 426 \\ - INFO - 54537 Rows Before Time Reindex.\n",
      "2022-07-03 19:10:51 fostool\\dataset\\data_utils.py 428 \\ - INFO - 54537 Rows After Time Reindex.\n",
      "2022-07-03 19:10:51 fostool\\dataset\\data_utils.py 429 \\ - INFO - --------------------\n",
      "2022-07-03 19:10:51 fostool\\dataset\\data_utils.py 457 \\ - INFO - 54537 Rows Before Fill Missing.\n"
     ]
    },
    {
     "name": "stdout",
     "output_type": "stream",
     "text": [
      "CPU times: total: 1min 6s\n",
      "Wall time: 40.8 s\n",
      "imf0_HRB_pd_melt_2020-05-24.csv\n"
     ]
    },
    {
     "name": "stderr",
     "output_type": "stream",
     "text": [
      "2022-07-03 19:10:57 fostool\\dataset\\data_utils.py 461 \\ - INFO - 54537 Rows After Fill Missing.\n",
      "2022-07-03 19:10:57 fostool\\dataset\\data_utils.py 462 \\ - INFO - --------------------\n",
      "2022-07-03 19:11:30 fostool\\task\\fusion.py 71 \\ - INFO -    val_loss             model_name\n",
      "0  0.179740      KRNNModel_01c6_14\n",
      "1  0.156839      KRNNModel_b07a_21\n",
      "4  0.187240        MLP_Res_8f02_21\n",
      "7  0.205605  SandwichModel_7e50_21\n",
      "2022-07-03 19:11:31 fostool\\dataset\\data_utils.py 426 \\ - INFO - 54537 Rows Before Time Reindex.\n",
      "2022-07-03 19:11:31 fostool\\dataset\\data_utils.py 428 \\ - INFO - 54537 Rows After Time Reindex.\n",
      "2022-07-03 19:11:31 fostool\\dataset\\data_utils.py 429 \\ - INFO - --------------------\n",
      "2022-07-03 19:11:31 fostool\\dataset\\data_utils.py 457 \\ - INFO - 54537 Rows Before Fill Missing.\n"
     ]
    },
    {
     "name": "stdout",
     "output_type": "stream",
     "text": [
      "CPU times: total: 1min 4s\n",
      "Wall time: 39.7 s\n",
      "imf0_HRB_pd_melt_2020-06-21.csv\n"
     ]
    },
    {
     "name": "stderr",
     "output_type": "stream",
     "text": [
      "2022-07-03 19:11:38 fostool\\dataset\\data_utils.py 461 \\ - INFO - 54537 Rows After Fill Missing.\n",
      "2022-07-03 19:11:38 fostool\\dataset\\data_utils.py 462 \\ - INFO - --------------------\n",
      "2022-07-03 19:12:12 fostool\\task\\fusion.py 71 \\ - INFO -    val_loss             model_name\n",
      "0  0.179740      KRNNModel_01c6_14\n",
      "1  0.156839      KRNNModel_b07a_21\n",
      "4  0.187240        MLP_Res_8f02_21\n",
      "7  0.205605  SandwichModel_7e50_21\n",
      "2022-07-03 19:12:12 fostool\\dataset\\data_utils.py 426 \\ - INFO - 54537 Rows Before Time Reindex.\n",
      "2022-07-03 19:12:12 fostool\\dataset\\data_utils.py 428 \\ - INFO - 54537 Rows After Time Reindex.\n",
      "2022-07-03 19:12:12 fostool\\dataset\\data_utils.py 429 \\ - INFO - --------------------\n",
      "2022-07-03 19:12:12 fostool\\dataset\\data_utils.py 457 \\ - INFO - 54537 Rows Before Fill Missing.\n"
     ]
    },
    {
     "name": "stdout",
     "output_type": "stream",
     "text": [
      "CPU times: total: 1min 8s\n",
      "Wall time: 41.5 s\n",
      "imf0_HRB_pd_melt_2020-07-19.csv\n"
     ]
    },
    {
     "name": "stderr",
     "output_type": "stream",
     "text": [
      "2022-07-03 19:12:19 fostool\\dataset\\data_utils.py 461 \\ - INFO - 54537 Rows After Fill Missing.\n",
      "2022-07-03 19:12:19 fostool\\dataset\\data_utils.py 462 \\ - INFO - --------------------\n",
      "2022-07-03 19:12:53 fostool\\task\\fusion.py 71 \\ - INFO -    val_loss             model_name\n",
      "0  0.179740      KRNNModel_01c6_14\n",
      "1  0.156839      KRNNModel_b07a_21\n",
      "4  0.187240        MLP_Res_8f02_21\n",
      "7  0.205605  SandwichModel_7e50_21\n",
      "2022-07-03 19:12:53 fostool\\dataset\\data_utils.py 426 \\ - INFO - 54537 Rows Before Time Reindex.\n",
      "2022-07-03 19:12:53 fostool\\dataset\\data_utils.py 428 \\ - INFO - 54537 Rows After Time Reindex.\n",
      "2022-07-03 19:12:53 fostool\\dataset\\data_utils.py 429 \\ - INFO - --------------------\n",
      "2022-07-03 19:12:53 fostool\\dataset\\data_utils.py 457 \\ - INFO - 54537 Rows Before Fill Missing.\n"
     ]
    },
    {
     "name": "stdout",
     "output_type": "stream",
     "text": [
      "CPU times: total: 1min 6s\n",
      "Wall time: 41 s\n",
      "imf0_HRB_pd_melt_2020-08-16.csv\n"
     ]
    },
    {
     "name": "stderr",
     "output_type": "stream",
     "text": [
      "2022-07-03 19:13:00 fostool\\dataset\\data_utils.py 461 \\ - INFO - 54537 Rows After Fill Missing.\n",
      "2022-07-03 19:13:00 fostool\\dataset\\data_utils.py 462 \\ - INFO - --------------------\n",
      "2022-07-03 19:13:33 fostool\\task\\fusion.py 71 \\ - INFO -    val_loss             model_name\n",
      "0  0.179740      KRNNModel_01c6_14\n",
      "1  0.156839      KRNNModel_b07a_21\n",
      "4  0.187240        MLP_Res_8f02_21\n",
      "7  0.205605  SandwichModel_7e50_21\n",
      "2022-07-03 19:13:33 fostool\\dataset\\data_utils.py 426 \\ - INFO - 54537 Rows Before Time Reindex.\n",
      "2022-07-03 19:13:33 fostool\\dataset\\data_utils.py 428 \\ - INFO - 54537 Rows After Time Reindex.\n",
      "2022-07-03 19:13:33 fostool\\dataset\\data_utils.py 429 \\ - INFO - --------------------\n",
      "2022-07-03 19:13:33 fostool\\dataset\\data_utils.py 457 \\ - INFO - 54537 Rows Before Fill Missing.\n"
     ]
    },
    {
     "name": "stdout",
     "output_type": "stream",
     "text": [
      "CPU times: total: 1min 3s\n",
      "Wall time: 39.5 s\n",
      "imf0_HRB_pd_melt_2020-09-13.csv\n"
     ]
    },
    {
     "name": "stderr",
     "output_type": "stream",
     "text": [
      "2022-07-03 19:13:39 fostool\\dataset\\data_utils.py 461 \\ - INFO - 54537 Rows After Fill Missing.\n",
      "2022-07-03 19:13:39 fostool\\dataset\\data_utils.py 462 \\ - INFO - --------------------\n",
      "2022-07-03 19:14:14 fostool\\task\\fusion.py 71 \\ - INFO -    val_loss             model_name\n",
      "0  0.179740      KRNNModel_01c6_14\n",
      "1  0.156839      KRNNModel_b07a_21\n",
      "4  0.187240        MLP_Res_8f02_21\n",
      "7  0.205605  SandwichModel_7e50_21\n",
      "2022-07-03 19:14:14 fostool\\dataset\\data_utils.py 426 \\ - INFO - 54537 Rows Before Time Reindex.\n",
      "2022-07-03 19:14:14 fostool\\dataset\\data_utils.py 428 \\ - INFO - 54537 Rows After Time Reindex.\n",
      "2022-07-03 19:14:14 fostool\\dataset\\data_utils.py 429 \\ - INFO - --------------------\n",
      "2022-07-03 19:14:14 fostool\\dataset\\data_utils.py 457 \\ - INFO - 54537 Rows Before Fill Missing.\n"
     ]
    },
    {
     "name": "stdout",
     "output_type": "stream",
     "text": [
      "CPU times: total: 1min 5s\n",
      "Wall time: 41.1 s\n",
      "imf0_HRB_pd_melt_2020-10-11.csv\n"
     ]
    },
    {
     "name": "stderr",
     "output_type": "stream",
     "text": [
      "2022-07-03 19:14:21 fostool\\dataset\\data_utils.py 461 \\ - INFO - 54537 Rows After Fill Missing.\n",
      "2022-07-03 19:14:21 fostool\\dataset\\data_utils.py 462 \\ - INFO - --------------------\n",
      "2022-07-03 19:14:50 fostool\\task\\fusion.py 71 \\ - INFO -    val_loss             model_name\n",
      "0  0.179740      KRNNModel_01c6_14\n",
      "1  0.156839      KRNNModel_b07a_21\n",
      "4  0.187240        MLP_Res_8f02_21\n",
      "7  0.205605  SandwichModel_7e50_21\n",
      "2022-07-03 19:14:50 fostool\\dataset\\data_utils.py 426 \\ - INFO - 54537 Rows Before Time Reindex.\n",
      "2022-07-03 19:14:50 fostool\\dataset\\data_utils.py 428 \\ - INFO - 54537 Rows After Time Reindex.\n",
      "2022-07-03 19:14:50 fostool\\dataset\\data_utils.py 429 \\ - INFO - --------------------\n",
      "2022-07-03 19:14:50 fostool\\dataset\\data_utils.py 457 \\ - INFO - 54537 Rows Before Fill Missing.\n"
     ]
    },
    {
     "name": "stdout",
     "output_type": "stream",
     "text": [
      "CPU times: total: 59.2 s\n",
      "Wall time: 36.1 s\n",
      "imf0_HRB_pd_melt_2020-11-08.csv\n"
     ]
    },
    {
     "name": "stderr",
     "output_type": "stream",
     "text": [
      "2022-07-03 19:14:56 fostool\\dataset\\data_utils.py 461 \\ - INFO - 54537 Rows After Fill Missing.\n",
      "2022-07-03 19:14:56 fostool\\dataset\\data_utils.py 462 \\ - INFO - --------------------\n",
      "2022-07-03 19:15:29 fostool\\task\\fusion.py 71 \\ - INFO -    val_loss             model_name\n",
      "0  0.179740      KRNNModel_01c6_14\n",
      "1  0.156839      KRNNModel_b07a_21\n",
      "4  0.187240        MLP_Res_8f02_21\n",
      "7  0.205605  SandwichModel_7e50_21\n"
     ]
    },
    {
     "name": "stdout",
     "output_type": "stream",
     "text": [
      "CPU times: total: 1min 4s\n",
      "Wall time: 39.2 s\n",
      "imf0_HRB_pd_melt_2020-12-06.csv\n"
     ]
    },
    {
     "name": "stderr",
     "output_type": "stream",
     "text": [
      "2022-07-03 19:15:29 fostool\\dataset\\data_utils.py 426 \\ - INFO - 54537 Rows Before Time Reindex.\n",
      "2022-07-03 19:15:29 fostool\\dataset\\data_utils.py 428 \\ - INFO - 54537 Rows After Time Reindex.\n",
      "2022-07-03 19:15:29 fostool\\dataset\\data_utils.py 429 \\ - INFO - --------------------\n",
      "2022-07-03 19:15:29 fostool\\dataset\\data_utils.py 457 \\ - INFO - 54537 Rows Before Fill Missing.\n",
      "2022-07-03 19:15:36 fostool\\dataset\\data_utils.py 461 \\ - INFO - 54537 Rows After Fill Missing.\n",
      "2022-07-03 19:15:36 fostool\\dataset\\data_utils.py 462 \\ - INFO - --------------------\n",
      "2022-07-03 19:16:09 fostool\\task\\fusion.py 71 \\ - INFO -    val_loss             model_name\n",
      "0  0.179740      KRNNModel_01c6_14\n",
      "1  0.156839      KRNNModel_b07a_21\n",
      "4  0.187240        MLP_Res_8f02_21\n",
      "7  0.205605  SandwichModel_7e50_21\n",
      "2022-07-03 19:16:09 fostool\\dataset\\data_utils.py 426 \\ - INFO - 54537 Rows Before Time Reindex.\n",
      "2022-07-03 19:16:09 fostool\\dataset\\data_utils.py 428 \\ - INFO - 54537 Rows After Time Reindex.\n",
      "2022-07-03 19:16:09 fostool\\dataset\\data_utils.py 429 \\ - INFO - --------------------\n",
      "2022-07-03 19:16:09 fostool\\dataset\\data_utils.py 457 \\ - INFO - 54537 Rows Before Fill Missing.\n"
     ]
    },
    {
     "name": "stdout",
     "output_type": "stream",
     "text": [
      "CPU times: total: 1min 3s\n",
      "Wall time: 40 s\n",
      "imf0_HRB_pd_melt_2021-01-03.csv\n"
     ]
    },
    {
     "name": "stderr",
     "output_type": "stream",
     "text": [
      "2022-07-03 19:16:16 fostool\\dataset\\data_utils.py 461 \\ - INFO - 54537 Rows After Fill Missing.\n",
      "2022-07-03 19:16:16 fostool\\dataset\\data_utils.py 462 \\ - INFO - --------------------\n",
      "2022-07-03 19:16:47 fostool\\task\\fusion.py 71 \\ - INFO -    val_loss             model_name\n",
      "0  0.179740      KRNNModel_01c6_14\n",
      "1  0.156839      KRNNModel_b07a_21\n",
      "4  0.187240        MLP_Res_8f02_21\n",
      "7  0.205605  SandwichModel_7e50_21\n",
      "2022-07-03 19:16:47 fostool\\task\\config_handler.py 28 \\ - INFO - yaml handler load path: C:\\Users\\Xiaoyi Wang\\.conda\\envs\\geo_env\\lib\\site-packages\\fostool\\config/default.yaml\n"
     ]
    },
    {
     "name": "stdout",
     "output_type": "stream",
     "text": [
      "CPU times: total: 59.9 s\n",
      "Wall time: 37.5 s\n",
      "imf1_HRB_pd_melt_2019-03-03.csv\n"
     ]
    },
    {
     "name": "stderr",
     "output_type": "stream",
     "text": [
      "2022-07-03 19:16:47 fostool\\dataset\\data_utils.py 426 \\ - INFO - 54537 Rows Before Time Reindex.\n",
      "2022-07-03 19:16:47 fostool\\dataset\\data_utils.py 428 \\ - INFO - 54537 Rows After Time Reindex.\n",
      "2022-07-03 19:16:47 fostool\\dataset\\data_utils.py 429 \\ - INFO - --------------------\n",
      "2022-07-03 19:16:47 fostool\\dataset\\data_utils.py 457 \\ - INFO - 54537 Rows Before Fill Missing.\n",
      "2022-07-03 19:16:53 fostool\\dataset\\data_utils.py 461 \\ - INFO - 54537 Rows After Fill Missing.\n",
      "2022-07-03 19:16:53 fostool\\dataset\\data_utils.py 462 \\ - INFO - --------------------\n",
      "2022-07-03 19:17:26 fostool\\task\\fusion.py 71 \\ - INFO -    val_loss             model_name\n",
      "3  0.250860        MLP_Res_2975_14\n",
      "6  0.319875  SandwichModel_1f18_14\n",
      "2022-07-03 19:17:26 fostool\\dataset\\data_utils.py 426 \\ - INFO - 54537 Rows Before Time Reindex.\n",
      "2022-07-03 19:17:26 fostool\\dataset\\data_utils.py 428 \\ - INFO - 54537 Rows After Time Reindex.\n",
      "2022-07-03 19:17:26 fostool\\dataset\\data_utils.py 429 \\ - INFO - --------------------\n",
      "2022-07-03 19:17:26 fostool\\dataset\\data_utils.py 457 \\ - INFO - 54537 Rows Before Fill Missing.\n"
     ]
    },
    {
     "name": "stdout",
     "output_type": "stream",
     "text": [
      "CPU times: total: 1min 4s\n",
      "Wall time: 39.4 s\n",
      "imf1_HRB_pd_melt_2019-03-31.csv\n"
     ]
    },
    {
     "name": "stderr",
     "output_type": "stream",
     "text": [
      "2022-07-03 19:17:33 fostool\\dataset\\data_utils.py 461 \\ - INFO - 54537 Rows After Fill Missing.\n",
      "2022-07-03 19:17:33 fostool\\dataset\\data_utils.py 462 \\ - INFO - --------------------\n",
      "2022-07-03 19:18:02 fostool\\task\\fusion.py 71 \\ - INFO -    val_loss             model_name\n",
      "3  0.250860        MLP_Res_2975_14\n",
      "6  0.319875  SandwichModel_1f18_14\n",
      "2022-07-03 19:18:02 fostool\\dataset\\data_utils.py 426 \\ - INFO - 54537 Rows Before Time Reindex.\n",
      "2022-07-03 19:18:02 fostool\\dataset\\data_utils.py 428 \\ - INFO - 54537 Rows After Time Reindex.\n",
      "2022-07-03 19:18:02 fostool\\dataset\\data_utils.py 429 \\ - INFO - --------------------\n",
      "2022-07-03 19:18:02 fostool\\dataset\\data_utils.py 457 \\ - INFO - 54537 Rows Before Fill Missing.\n"
     ]
    },
    {
     "name": "stdout",
     "output_type": "stream",
     "text": [
      "CPU times: total: 57.9 s\n",
      "Wall time: 36.1 s\n",
      "imf1_HRB_pd_melt_2019-04-28.csv\n"
     ]
    },
    {
     "name": "stderr",
     "output_type": "stream",
     "text": [
      "2022-07-03 19:18:08 fostool\\dataset\\data_utils.py 461 \\ - INFO - 54537 Rows After Fill Missing.\n",
      "2022-07-03 19:18:08 fostool\\dataset\\data_utils.py 462 \\ - INFO - --------------------\n",
      "2022-07-03 19:18:40 fostool\\task\\fusion.py 71 \\ - INFO -    val_loss             model_name\n",
      "3  0.250860        MLP_Res_2975_14\n",
      "6  0.319875  SandwichModel_1f18_14\n",
      "2022-07-03 19:18:40 fostool\\dataset\\data_utils.py 426 \\ - INFO - 54537 Rows Before Time Reindex.\n",
      "2022-07-03 19:18:40 fostool\\dataset\\data_utils.py 428 \\ - INFO - 54537 Rows After Time Reindex.\n",
      "2022-07-03 19:18:40 fostool\\dataset\\data_utils.py 429 \\ - INFO - --------------------\n",
      "2022-07-03 19:18:40 fostool\\dataset\\data_utils.py 457 \\ - INFO - 54537 Rows Before Fill Missing.\n"
     ]
    },
    {
     "name": "stdout",
     "output_type": "stream",
     "text": [
      "CPU times: total: 1min 1s\n",
      "Wall time: 37.7 s\n",
      "imf1_HRB_pd_melt_2019-05-26.csv\n"
     ]
    },
    {
     "name": "stderr",
     "output_type": "stream",
     "text": [
      "2022-07-03 19:18:47 fostool\\dataset\\data_utils.py 461 \\ - INFO - 54537 Rows After Fill Missing.\n",
      "2022-07-03 19:18:47 fostool\\dataset\\data_utils.py 462 \\ - INFO - --------------------\n",
      "2022-07-03 19:19:18 fostool\\task\\fusion.py 71 \\ - INFO -    val_loss             model_name\n",
      "3  0.250860        MLP_Res_2975_14\n",
      "6  0.319875  SandwichModel_1f18_14\n",
      "2022-07-03 19:19:18 fostool\\dataset\\data_utils.py 426 \\ - INFO - 54537 Rows Before Time Reindex.\n",
      "2022-07-03 19:19:18 fostool\\dataset\\data_utils.py 428 \\ - INFO - 54537 Rows After Time Reindex.\n",
      "2022-07-03 19:19:18 fostool\\dataset\\data_utils.py 429 \\ - INFO - --------------------\n",
      "2022-07-03 19:19:18 fostool\\dataset\\data_utils.py 457 \\ - INFO - 54537 Rows Before Fill Missing.\n"
     ]
    },
    {
     "name": "stdout",
     "output_type": "stream",
     "text": [
      "CPU times: total: 1min 1s\n",
      "Wall time: 38.1 s\n",
      "imf1_HRB_pd_melt_2019-06-23.csv\n"
     ]
    },
    {
     "name": "stderr",
     "output_type": "stream",
     "text": [
      "2022-07-03 19:19:25 fostool\\dataset\\data_utils.py 461 \\ - INFO - 54537 Rows After Fill Missing.\n",
      "2022-07-03 19:19:25 fostool\\dataset\\data_utils.py 462 \\ - INFO - --------------------\n",
      "2022-07-03 19:19:58 fostool\\task\\fusion.py 71 \\ - INFO -    val_loss             model_name\n",
      "3  0.250860        MLP_Res_2975_14\n",
      "6  0.319875  SandwichModel_1f18_14\n",
      "2022-07-03 19:19:58 fostool\\dataset\\data_utils.py 426 \\ - INFO - 54537 Rows Before Time Reindex.\n",
      "2022-07-03 19:19:58 fostool\\dataset\\data_utils.py 428 \\ - INFO - 54537 Rows After Time Reindex.\n",
      "2022-07-03 19:19:58 fostool\\dataset\\data_utils.py 429 \\ - INFO - --------------------\n",
      "2022-07-03 19:19:58 fostool\\dataset\\data_utils.py 457 \\ - INFO - 54537 Rows Before Fill Missing.\n"
     ]
    },
    {
     "name": "stdout",
     "output_type": "stream",
     "text": [
      "CPU times: total: 1min 3s\n",
      "Wall time: 39.8 s\n",
      "imf1_HRB_pd_melt_2019-07-21.csv\n"
     ]
    },
    {
     "name": "stderr",
     "output_type": "stream",
     "text": [
      "2022-07-03 19:20:05 fostool\\dataset\\data_utils.py 461 \\ - INFO - 54537 Rows After Fill Missing.\n",
      "2022-07-03 19:20:05 fostool\\dataset\\data_utils.py 462 \\ - INFO - --------------------\n",
      "2022-07-03 19:20:39 fostool\\task\\fusion.py 71 \\ - INFO -    val_loss             model_name\n",
      "3  0.250860        MLP_Res_2975_14\n",
      "6  0.319875  SandwichModel_1f18_14\n",
      "2022-07-03 19:20:39 fostool\\dataset\\data_utils.py 426 \\ - INFO - 54537 Rows Before Time Reindex.\n",
      "2022-07-03 19:20:39 fostool\\dataset\\data_utils.py 428 \\ - INFO - 54537 Rows After Time Reindex.\n",
      "2022-07-03 19:20:39 fostool\\dataset\\data_utils.py 429 \\ - INFO - --------------------\n",
      "2022-07-03 19:20:39 fostool\\dataset\\data_utils.py 457 \\ - INFO - 54537 Rows Before Fill Missing.\n"
     ]
    },
    {
     "name": "stdout",
     "output_type": "stream",
     "text": [
      "CPU times: total: 1min 4s\n",
      "Wall time: 41 s\n",
      "imf1_HRB_pd_melt_2019-08-18.csv\n"
     ]
    },
    {
     "name": "stderr",
     "output_type": "stream",
     "text": [
      "2022-07-03 19:20:46 fostool\\dataset\\data_utils.py 461 \\ - INFO - 54537 Rows After Fill Missing.\n",
      "2022-07-03 19:20:46 fostool\\dataset\\data_utils.py 462 \\ - INFO - --------------------\n",
      "2022-07-03 19:21:19 fostool\\task\\fusion.py 71 \\ - INFO -    val_loss             model_name\n",
      "3  0.250860        MLP_Res_2975_14\n",
      "6  0.319875  SandwichModel_1f18_14\n",
      "2022-07-03 19:21:19 fostool\\dataset\\data_utils.py 426 \\ - INFO - 54537 Rows Before Time Reindex.\n",
      "2022-07-03 19:21:19 fostool\\dataset\\data_utils.py 428 \\ - INFO - 54537 Rows After Time Reindex.\n",
      "2022-07-03 19:21:19 fostool\\dataset\\data_utils.py 429 \\ - INFO - --------------------\n",
      "2022-07-03 19:21:19 fostool\\dataset\\data_utils.py 457 \\ - INFO - 54537 Rows Before Fill Missing.\n"
     ]
    },
    {
     "name": "stdout",
     "output_type": "stream",
     "text": [
      "CPU times: total: 1min 2s\n",
      "Wall time: 39.6 s\n",
      "imf1_HRB_pd_melt_2019-09-15.csv\n"
     ]
    },
    {
     "name": "stderr",
     "output_type": "stream",
     "text": [
      "2022-07-03 19:21:26 fostool\\dataset\\data_utils.py 461 \\ - INFO - 54537 Rows After Fill Missing.\n",
      "2022-07-03 19:21:26 fostool\\dataset\\data_utils.py 462 \\ - INFO - --------------------\n",
      "2022-07-03 19:21:59 fostool\\task\\fusion.py 71 \\ - INFO -    val_loss             model_name\n",
      "3  0.250860        MLP_Res_2975_14\n",
      "6  0.319875  SandwichModel_1f18_14\n",
      "2022-07-03 19:22:00 fostool\\dataset\\data_utils.py 426 \\ - INFO - 54537 Rows Before Time Reindex.\n",
      "2022-07-03 19:22:00 fostool\\dataset\\data_utils.py 428 \\ - INFO - 54537 Rows After Time Reindex.\n",
      "2022-07-03 19:22:00 fostool\\dataset\\data_utils.py 429 \\ - INFO - --------------------\n",
      "2022-07-03 19:22:00 fostool\\dataset\\data_utils.py 457 \\ - INFO - 54537 Rows Before Fill Missing.\n"
     ]
    },
    {
     "name": "stdout",
     "output_type": "stream",
     "text": [
      "CPU times: total: 1min 4s\n",
      "Wall time: 40.6 s\n",
      "imf1_HRB_pd_melt_2019-10-13.csv\n"
     ]
    },
    {
     "name": "stderr",
     "output_type": "stream",
     "text": [
      "2022-07-03 19:22:06 fostool\\dataset\\data_utils.py 461 \\ - INFO - 54537 Rows After Fill Missing.\n",
      "2022-07-03 19:22:06 fostool\\dataset\\data_utils.py 462 \\ - INFO - --------------------\n",
      "2022-07-03 19:22:40 fostool\\task\\fusion.py 71 \\ - INFO -    val_loss             model_name\n",
      "3  0.250860        MLP_Res_2975_14\n",
      "6  0.319875  SandwichModel_1f18_14\n",
      "2022-07-03 19:22:40 fostool\\dataset\\data_utils.py 426 \\ - INFO - 54537 Rows Before Time Reindex.\n",
      "2022-07-03 19:22:40 fostool\\dataset\\data_utils.py 428 \\ - INFO - 54537 Rows After Time Reindex.\n",
      "2022-07-03 19:22:40 fostool\\dataset\\data_utils.py 429 \\ - INFO - --------------------\n",
      "2022-07-03 19:22:40 fostool\\dataset\\data_utils.py 457 \\ - INFO - 54537 Rows Before Fill Missing.\n"
     ]
    },
    {
     "name": "stdout",
     "output_type": "stream",
     "text": [
      "CPU times: total: 1min 4s\n",
      "Wall time: 40.7 s\n",
      "imf1_HRB_pd_melt_2019-11-10.csv\n"
     ]
    },
    {
     "name": "stderr",
     "output_type": "stream",
     "text": [
      "2022-07-03 19:22:47 fostool\\dataset\\data_utils.py 461 \\ - INFO - 54537 Rows After Fill Missing.\n",
      "2022-07-03 19:22:47 fostool\\dataset\\data_utils.py 462 \\ - INFO - --------------------\n",
      "2022-07-03 19:23:20 fostool\\task\\fusion.py 71 \\ - INFO -    val_loss             model_name\n",
      "3  0.250860        MLP_Res_2975_14\n",
      "6  0.319875  SandwichModel_1f18_14\n",
      "2022-07-03 19:23:20 fostool\\dataset\\data_utils.py 426 \\ - INFO - 54537 Rows Before Time Reindex.\n",
      "2022-07-03 19:23:20 fostool\\dataset\\data_utils.py 428 \\ - INFO - 54537 Rows After Time Reindex.\n",
      "2022-07-03 19:23:20 fostool\\dataset\\data_utils.py 429 \\ - INFO - --------------------\n",
      "2022-07-03 19:23:20 fostool\\dataset\\data_utils.py 457 \\ - INFO - 54537 Rows Before Fill Missing.\n"
     ]
    },
    {
     "name": "stdout",
     "output_type": "stream",
     "text": [
      "CPU times: total: 1min 3s\n",
      "Wall time: 40 s\n",
      "imf1_HRB_pd_melt_2019-12-08.csv\n"
     ]
    },
    {
     "name": "stderr",
     "output_type": "stream",
     "text": [
      "2022-07-03 19:23:27 fostool\\dataset\\data_utils.py 461 \\ - INFO - 54537 Rows After Fill Missing.\n",
      "2022-07-03 19:23:27 fostool\\dataset\\data_utils.py 462 \\ - INFO - --------------------\n",
      "2022-07-03 19:23:59 fostool\\task\\fusion.py 71 \\ - INFO -    val_loss             model_name\n",
      "3  0.250860        MLP_Res_2975_14\n",
      "6  0.319875  SandwichModel_1f18_14\n",
      "2022-07-03 19:24:00 fostool\\dataset\\data_utils.py 426 \\ - INFO - 54537 Rows Before Time Reindex.\n",
      "2022-07-03 19:24:00 fostool\\dataset\\data_utils.py 428 \\ - INFO - 54537 Rows After Time Reindex.\n",
      "2022-07-03 19:24:00 fostool\\dataset\\data_utils.py 429 \\ - INFO - --------------------\n",
      "2022-07-03 19:24:00 fostool\\dataset\\data_utils.py 457 \\ - INFO - 54537 Rows Before Fill Missing.\n"
     ]
    },
    {
     "name": "stdout",
     "output_type": "stream",
     "text": [
      "CPU times: total: 1min 1s\n",
      "Wall time: 39.3 s\n",
      "imf1_HRB_pd_melt_2020-01-05.csv\n"
     ]
    },
    {
     "name": "stderr",
     "output_type": "stream",
     "text": [
      "2022-07-03 19:24:06 fostool\\dataset\\data_utils.py 461 \\ - INFO - 54537 Rows After Fill Missing.\n",
      "2022-07-03 19:24:06 fostool\\dataset\\data_utils.py 462 \\ - INFO - --------------------\n",
      "2022-07-03 19:24:39 fostool\\task\\fusion.py 71 \\ - INFO -    val_loss             model_name\n",
      "3  0.250860        MLP_Res_2975_14\n",
      "6  0.319875  SandwichModel_1f18_14\n",
      "2022-07-03 19:24:39 fostool\\dataset\\data_utils.py 426 \\ - INFO - 54537 Rows Before Time Reindex.\n",
      "2022-07-03 19:24:39 fostool\\dataset\\data_utils.py 428 \\ - INFO - 54537 Rows After Time Reindex.\n",
      "2022-07-03 19:24:39 fostool\\dataset\\data_utils.py 429 \\ - INFO - --------------------\n",
      "2022-07-03 19:24:39 fostool\\dataset\\data_utils.py 457 \\ - INFO - 54537 Rows Before Fill Missing.\n"
     ]
    },
    {
     "name": "stdout",
     "output_type": "stream",
     "text": [
      "CPU times: total: 1min 4s\n",
      "Wall time: 39.8 s\n",
      "imf1_HRB_pd_melt_2020-02-02.csv\n"
     ]
    },
    {
     "name": "stderr",
     "output_type": "stream",
     "text": [
      "2022-07-03 19:24:46 fostool\\dataset\\data_utils.py 461 \\ - INFO - 54537 Rows After Fill Missing.\n",
      "2022-07-03 19:24:46 fostool\\dataset\\data_utils.py 462 \\ - INFO - --------------------\n",
      "2022-07-03 19:25:19 fostool\\task\\fusion.py 71 \\ - INFO -    val_loss             model_name\n",
      "3  0.250860        MLP_Res_2975_14\n",
      "6  0.319875  SandwichModel_1f18_14\n",
      "2022-07-03 19:25:19 fostool\\dataset\\data_utils.py 426 \\ - INFO - 54537 Rows Before Time Reindex.\n",
      "2022-07-03 19:25:19 fostool\\dataset\\data_utils.py 428 \\ - INFO - 54537 Rows After Time Reindex.\n",
      "2022-07-03 19:25:19 fostool\\dataset\\data_utils.py 429 \\ - INFO - --------------------\n",
      "2022-07-03 19:25:19 fostool\\dataset\\data_utils.py 457 \\ - INFO - 54537 Rows Before Fill Missing.\n"
     ]
    },
    {
     "name": "stdout",
     "output_type": "stream",
     "text": [
      "CPU times: total: 1min 4s\n",
      "Wall time: 39.7 s\n",
      "imf1_HRB_pd_melt_2020-03-01.csv\n"
     ]
    },
    {
     "name": "stderr",
     "output_type": "stream",
     "text": [
      "2022-07-03 19:25:26 fostool\\dataset\\data_utils.py 461 \\ - INFO - 54537 Rows After Fill Missing.\n",
      "2022-07-03 19:25:26 fostool\\dataset\\data_utils.py 462 \\ - INFO - --------------------\n",
      "2022-07-03 19:25:58 fostool\\task\\fusion.py 71 \\ - INFO -    val_loss             model_name\n",
      "3  0.250860        MLP_Res_2975_14\n",
      "6  0.319875  SandwichModel_1f18_14\n",
      "2022-07-03 19:25:58 fostool\\dataset\\data_utils.py 426 \\ - INFO - 54537 Rows Before Time Reindex.\n",
      "2022-07-03 19:25:58 fostool\\dataset\\data_utils.py 428 \\ - INFO - 54537 Rows After Time Reindex.\n",
      "2022-07-03 19:25:58 fostool\\dataset\\data_utils.py 429 \\ - INFO - --------------------\n",
      "2022-07-03 19:25:58 fostool\\dataset\\data_utils.py 457 \\ - INFO - 54537 Rows Before Fill Missing.\n"
     ]
    },
    {
     "name": "stdout",
     "output_type": "stream",
     "text": [
      "CPU times: total: 1min 3s\n",
      "Wall time: 38.7 s\n",
      "imf1_HRB_pd_melt_2020-03-29.csv\n"
     ]
    },
    {
     "name": "stderr",
     "output_type": "stream",
     "text": [
      "2022-07-03 19:26:05 fostool\\dataset\\data_utils.py 461 \\ - INFO - 54537 Rows After Fill Missing.\n",
      "2022-07-03 19:26:05 fostool\\dataset\\data_utils.py 462 \\ - INFO - --------------------\n",
      "2022-07-03 19:26:40 fostool\\task\\fusion.py 71 \\ - INFO -    val_loss             model_name\n",
      "3  0.250860        MLP_Res_2975_14\n",
      "6  0.319875  SandwichModel_1f18_14\n",
      "2022-07-03 19:26:40 fostool\\dataset\\data_utils.py 426 \\ - INFO - 54537 Rows Before Time Reindex.\n",
      "2022-07-03 19:26:40 fostool\\dataset\\data_utils.py 428 \\ - INFO - 54537 Rows After Time Reindex.\n",
      "2022-07-03 19:26:40 fostool\\dataset\\data_utils.py 429 \\ - INFO - --------------------\n",
      "2022-07-03 19:26:40 fostool\\dataset\\data_utils.py 457 \\ - INFO - 54537 Rows Before Fill Missing.\n"
     ]
    },
    {
     "name": "stdout",
     "output_type": "stream",
     "text": [
      "CPU times: total: 1min 7s\n",
      "Wall time: 42.6 s\n",
      "imf1_HRB_pd_melt_2020-04-26.csv\n"
     ]
    },
    {
     "name": "stderr",
     "output_type": "stream",
     "text": [
      "2022-07-03 19:26:47 fostool\\dataset\\data_utils.py 461 \\ - INFO - 54537 Rows After Fill Missing.\n",
      "2022-07-03 19:26:47 fostool\\dataset\\data_utils.py 462 \\ - INFO - --------------------\n",
      "2022-07-03 19:27:19 fostool\\task\\fusion.py 71 \\ - INFO -    val_loss             model_name\n",
      "3  0.250860        MLP_Res_2975_14\n",
      "6  0.319875  SandwichModel_1f18_14\n",
      "2022-07-03 19:27:20 fostool\\dataset\\data_utils.py 426 \\ - INFO - 54537 Rows Before Time Reindex.\n",
      "2022-07-03 19:27:20 fostool\\dataset\\data_utils.py 428 \\ - INFO - 54537 Rows After Time Reindex.\n",
      "2022-07-03 19:27:20 fostool\\dataset\\data_utils.py 429 \\ - INFO - --------------------\n",
      "2022-07-03 19:27:20 fostool\\dataset\\data_utils.py 457 \\ - INFO - 54537 Rows Before Fill Missing.\n"
     ]
    },
    {
     "name": "stdout",
     "output_type": "stream",
     "text": [
      "CPU times: total: 1min 2s\n",
      "Wall time: 39.1 s\n",
      "imf1_HRB_pd_melt_2020-05-24.csv\n"
     ]
    },
    {
     "name": "stderr",
     "output_type": "stream",
     "text": [
      "2022-07-03 19:27:26 fostool\\dataset\\data_utils.py 461 \\ - INFO - 54537 Rows After Fill Missing.\n",
      "2022-07-03 19:27:26 fostool\\dataset\\data_utils.py 462 \\ - INFO - --------------------\n",
      "2022-07-03 19:27:57 fostool\\task\\fusion.py 71 \\ - INFO -    val_loss             model_name\n",
      "3  0.250860        MLP_Res_2975_14\n",
      "6  0.319875  SandwichModel_1f18_14\n",
      "2022-07-03 19:27:58 fostool\\dataset\\data_utils.py 426 \\ - INFO - 54537 Rows Before Time Reindex.\n",
      "2022-07-03 19:27:58 fostool\\dataset\\data_utils.py 428 \\ - INFO - 54537 Rows After Time Reindex.\n",
      "2022-07-03 19:27:58 fostool\\dataset\\data_utils.py 429 \\ - INFO - --------------------\n",
      "2022-07-03 19:27:58 fostool\\dataset\\data_utils.py 457 \\ - INFO - 54537 Rows Before Fill Missing.\n"
     ]
    },
    {
     "name": "stdout",
     "output_type": "stream",
     "text": [
      "CPU times: total: 1min 2s\n",
      "Wall time: 37.9 s\n",
      "imf1_HRB_pd_melt_2020-06-21.csv\n"
     ]
    },
    {
     "name": "stderr",
     "output_type": "stream",
     "text": [
      "2022-07-03 19:28:04 fostool\\dataset\\data_utils.py 461 \\ - INFO - 54537 Rows After Fill Missing.\n",
      "2022-07-03 19:28:04 fostool\\dataset\\data_utils.py 462 \\ - INFO - --------------------\n",
      "2022-07-03 19:28:37 fostool\\task\\fusion.py 71 \\ - INFO -    val_loss             model_name\n",
      "3  0.250860        MLP_Res_2975_14\n",
      "6  0.319875  SandwichModel_1f18_14\n",
      "2022-07-03 19:28:38 fostool\\dataset\\data_utils.py 426 \\ - INFO - 54537 Rows Before Time Reindex.\n",
      "2022-07-03 19:28:38 fostool\\dataset\\data_utils.py 428 \\ - INFO - 54537 Rows After Time Reindex.\n",
      "2022-07-03 19:28:38 fostool\\dataset\\data_utils.py 429 \\ - INFO - --------------------\n",
      "2022-07-03 19:28:38 fostool\\dataset\\data_utils.py 457 \\ - INFO - 54537 Rows Before Fill Missing.\n"
     ]
    },
    {
     "name": "stdout",
     "output_type": "stream",
     "text": [
      "CPU times: total: 1min 6s\n",
      "Wall time: 40 s\n",
      "imf1_HRB_pd_melt_2020-07-19.csv\n"
     ]
    },
    {
     "name": "stderr",
     "output_type": "stream",
     "text": [
      "2022-07-03 19:28:44 fostool\\dataset\\data_utils.py 461 \\ - INFO - 54537 Rows After Fill Missing.\n",
      "2022-07-03 19:28:44 fostool\\dataset\\data_utils.py 462 \\ - INFO - --------------------\n",
      "2022-07-03 19:29:17 fostool\\task\\fusion.py 71 \\ - INFO -    val_loss             model_name\n",
      "3  0.250860        MLP_Res_2975_14\n",
      "6  0.319875  SandwichModel_1f18_14\n",
      "2022-07-03 19:29:17 fostool\\dataset\\data_utils.py 426 \\ - INFO - 54537 Rows Before Time Reindex.\n",
      "2022-07-03 19:29:17 fostool\\dataset\\data_utils.py 428 \\ - INFO - 54537 Rows After Time Reindex.\n",
      "2022-07-03 19:29:17 fostool\\dataset\\data_utils.py 429 \\ - INFO - --------------------\n",
      "2022-07-03 19:29:17 fostool\\dataset\\data_utils.py 457 \\ - INFO - 54537 Rows Before Fill Missing.\n"
     ]
    },
    {
     "name": "stdout",
     "output_type": "stream",
     "text": [
      "CPU times: total: 1min 5s\n",
      "Wall time: 39.4 s\n",
      "imf1_HRB_pd_melt_2020-08-16.csv\n"
     ]
    },
    {
     "name": "stderr",
     "output_type": "stream",
     "text": [
      "2022-07-03 19:29:23 fostool\\dataset\\data_utils.py 461 \\ - INFO - 54537 Rows After Fill Missing.\n",
      "2022-07-03 19:29:23 fostool\\dataset\\data_utils.py 462 \\ - INFO - --------------------\n",
      "2022-07-03 19:29:57 fostool\\task\\fusion.py 71 \\ - INFO -    val_loss             model_name\n",
      "3  0.250860        MLP_Res_2975_14\n",
      "6  0.319875  SandwichModel_1f18_14\n",
      "2022-07-03 19:29:57 fostool\\dataset\\data_utils.py 426 \\ - INFO - 54537 Rows Before Time Reindex.\n",
      "2022-07-03 19:29:57 fostool\\dataset\\data_utils.py 428 \\ - INFO - 54537 Rows After Time Reindex.\n",
      "2022-07-03 19:29:57 fostool\\dataset\\data_utils.py 429 \\ - INFO - --------------------\n",
      "2022-07-03 19:29:57 fostool\\dataset\\data_utils.py 457 \\ - INFO - 54537 Rows Before Fill Missing.\n"
     ]
    },
    {
     "name": "stdout",
     "output_type": "stream",
     "text": [
      "CPU times: total: 1min 9s\n",
      "Wall time: 40.2 s\n",
      "imf1_HRB_pd_melt_2020-09-13.csv\n"
     ]
    },
    {
     "name": "stderr",
     "output_type": "stream",
     "text": [
      "2022-07-03 19:30:03 fostool\\dataset\\data_utils.py 461 \\ - INFO - 54537 Rows After Fill Missing.\n",
      "2022-07-03 19:30:03 fostool\\dataset\\data_utils.py 462 \\ - INFO - --------------------\n",
      "2022-07-03 19:30:36 fostool\\task\\fusion.py 71 \\ - INFO -    val_loss             model_name\n",
      "3  0.250860        MLP_Res_2975_14\n",
      "6  0.319875  SandwichModel_1f18_14\n",
      "2022-07-03 19:30:36 fostool\\dataset\\data_utils.py 426 \\ - INFO - 54537 Rows Before Time Reindex.\n",
      "2022-07-03 19:30:36 fostool\\dataset\\data_utils.py 428 \\ - INFO - 54537 Rows After Time Reindex.\n",
      "2022-07-03 19:30:36 fostool\\dataset\\data_utils.py 429 \\ - INFO - --------------------\n",
      "2022-07-03 19:30:36 fostool\\dataset\\data_utils.py 457 \\ - INFO - 54537 Rows Before Fill Missing.\n"
     ]
    },
    {
     "name": "stdout",
     "output_type": "stream",
     "text": [
      "CPU times: total: 1min 5s\n",
      "Wall time: 39.2 s\n",
      "imf1_HRB_pd_melt_2020-10-11.csv\n"
     ]
    },
    {
     "name": "stderr",
     "output_type": "stream",
     "text": [
      "2022-07-03 19:30:43 fostool\\dataset\\data_utils.py 461 \\ - INFO - 54537 Rows After Fill Missing.\n",
      "2022-07-03 19:30:43 fostool\\dataset\\data_utils.py 462 \\ - INFO - --------------------\n",
      "2022-07-03 19:31:19 fostool\\task\\fusion.py 71 \\ - INFO -    val_loss             model_name\n",
      "3  0.250860        MLP_Res_2975_14\n",
      "6  0.319875  SandwichModel_1f18_14\n",
      "2022-07-03 19:31:19 fostool\\dataset\\data_utils.py 426 \\ - INFO - 54537 Rows Before Time Reindex.\n",
      "2022-07-03 19:31:19 fostool\\dataset\\data_utils.py 428 \\ - INFO - 54537 Rows After Time Reindex.\n",
      "2022-07-03 19:31:19 fostool\\dataset\\data_utils.py 429 \\ - INFO - --------------------\n",
      "2022-07-03 19:31:19 fostool\\dataset\\data_utils.py 457 \\ - INFO - 54537 Rows Before Fill Missing.\n"
     ]
    },
    {
     "name": "stdout",
     "output_type": "stream",
     "text": [
      "CPU times: total: 1min 9s\n",
      "Wall time: 42.6 s\n",
      "imf1_HRB_pd_melt_2020-11-08.csv\n"
     ]
    },
    {
     "name": "stderr",
     "output_type": "stream",
     "text": [
      "2022-07-03 19:31:26 fostool\\dataset\\data_utils.py 461 \\ - INFO - 54537 Rows After Fill Missing.\n",
      "2022-07-03 19:31:26 fostool\\dataset\\data_utils.py 462 \\ - INFO - --------------------\n",
      "2022-07-03 19:32:01 fostool\\task\\fusion.py 71 \\ - INFO -    val_loss             model_name\n",
      "3  0.250860        MLP_Res_2975_14\n",
      "6  0.319875  SandwichModel_1f18_14\n",
      "2022-07-03 19:32:01 fostool\\dataset\\data_utils.py 426 \\ - INFO - 54537 Rows Before Time Reindex.\n",
      "2022-07-03 19:32:01 fostool\\dataset\\data_utils.py 428 \\ - INFO - 54537 Rows After Time Reindex.\n",
      "2022-07-03 19:32:01 fostool\\dataset\\data_utils.py 429 \\ - INFO - --------------------\n",
      "2022-07-03 19:32:01 fostool\\dataset\\data_utils.py 457 \\ - INFO - 54537 Rows Before Fill Missing.\n"
     ]
    },
    {
     "name": "stdout",
     "output_type": "stream",
     "text": [
      "CPU times: total: 1min 8s\n",
      "Wall time: 42.1 s\n",
      "imf1_HRB_pd_melt_2020-12-06.csv\n"
     ]
    },
    {
     "name": "stderr",
     "output_type": "stream",
     "text": [
      "2022-07-03 19:32:08 fostool\\dataset\\data_utils.py 461 \\ - INFO - 54537 Rows After Fill Missing.\n",
      "2022-07-03 19:32:08 fostool\\dataset\\data_utils.py 462 \\ - INFO - --------------------\n",
      "2022-07-03 19:32:42 fostool\\task\\fusion.py 71 \\ - INFO -    val_loss             model_name\n",
      "3  0.250860        MLP_Res_2975_14\n",
      "6  0.319875  SandwichModel_1f18_14\n",
      "2022-07-03 19:32:42 fostool\\dataset\\data_utils.py 426 \\ - INFO - 54537 Rows Before Time Reindex.\n",
      "2022-07-03 19:32:42 fostool\\dataset\\data_utils.py 428 \\ - INFO - 54537 Rows After Time Reindex.\n",
      "2022-07-03 19:32:42 fostool\\dataset\\data_utils.py 429 \\ - INFO - --------------------\n",
      "2022-07-03 19:32:42 fostool\\dataset\\data_utils.py 457 \\ - INFO - 54537 Rows Before Fill Missing.\n"
     ]
    },
    {
     "name": "stdout",
     "output_type": "stream",
     "text": [
      "CPU times: total: 1min 6s\n",
      "Wall time: 41.1 s\n",
      "imf1_HRB_pd_melt_2021-01-03.csv\n"
     ]
    },
    {
     "name": "stderr",
     "output_type": "stream",
     "text": [
      "2022-07-03 19:32:49 fostool\\dataset\\data_utils.py 461 \\ - INFO - 54537 Rows After Fill Missing.\n",
      "2022-07-03 19:32:49 fostool\\dataset\\data_utils.py 462 \\ - INFO - --------------------\n",
      "2022-07-03 19:33:24 fostool\\task\\fusion.py 71 \\ - INFO -    val_loss             model_name\n",
      "3  0.250860        MLP_Res_2975_14\n",
      "6  0.319875  SandwichModel_1f18_14\n",
      "2022-07-03 19:33:24 fostool\\task\\config_handler.py 28 \\ - INFO - yaml handler load path: C:\\Users\\Xiaoyi Wang\\.conda\\envs\\geo_env\\lib\\site-packages\\fostool\\config/default.yaml\n"
     ]
    },
    {
     "name": "stdout",
     "output_type": "stream",
     "text": [
      "CPU times: total: 1min 7s\n",
      "Wall time: 41.5 s\n",
      "imf2_HRB_pd_melt_2019-03-03.csv\n"
     ]
    },
    {
     "name": "stderr",
     "output_type": "stream",
     "text": [
      "2022-07-03 19:33:24 fostool\\dataset\\data_utils.py 426 \\ - INFO - 54537 Rows Before Time Reindex.\n",
      "2022-07-03 19:33:24 fostool\\dataset\\data_utils.py 428 \\ - INFO - 54537 Rows After Time Reindex.\n",
      "2022-07-03 19:33:24 fostool\\dataset\\data_utils.py 429 \\ - INFO - --------------------\n",
      "2022-07-03 19:33:24 fostool\\dataset\\data_utils.py 457 \\ - INFO - 54537 Rows Before Fill Missing.\n",
      "2022-07-03 19:33:31 fostool\\dataset\\data_utils.py 461 \\ - INFO - 54537 Rows After Fill Missing.\n",
      "2022-07-03 19:33:31 fostool\\dataset\\data_utils.py 462 \\ - INFO - --------------------\n",
      "2022-07-03 19:34:05 fostool\\task\\fusion.py 71 \\ - INFO -    val_loss             model_name\n",
      "6  0.028928  SandwichModel_1f18_14\n",
      "7  0.024655  SandwichModel_7e50_21\n",
      "2022-07-03 19:34:05 fostool\\dataset\\data_utils.py 426 \\ - INFO - 54537 Rows Before Time Reindex.\n",
      "2022-07-03 19:34:05 fostool\\dataset\\data_utils.py 428 \\ - INFO - 54537 Rows After Time Reindex.\n",
      "2022-07-03 19:34:05 fostool\\dataset\\data_utils.py 429 \\ - INFO - --------------------\n",
      "2022-07-03 19:34:05 fostool\\dataset\\data_utils.py 457 \\ - INFO - 54537 Rows Before Fill Missing.\n"
     ]
    },
    {
     "name": "stdout",
     "output_type": "stream",
     "text": [
      "CPU times: total: 1min 6s\n",
      "Wall time: 40.8 s\n",
      "imf2_HRB_pd_melt_2019-03-31.csv\n"
     ]
    },
    {
     "name": "stderr",
     "output_type": "stream",
     "text": [
      "2022-07-03 19:34:12 fostool\\dataset\\data_utils.py 461 \\ - INFO - 54537 Rows After Fill Missing.\n",
      "2022-07-03 19:34:12 fostool\\dataset\\data_utils.py 462 \\ - INFO - --------------------\n",
      "2022-07-03 19:34:48 fostool\\task\\fusion.py 71 \\ - INFO -    val_loss             model_name\n",
      "6  0.028928  SandwichModel_1f18_14\n",
      "7  0.024655  SandwichModel_7e50_21\n",
      "2022-07-03 19:34:48 fostool\\dataset\\data_utils.py 426 \\ - INFO - 54537 Rows Before Time Reindex.\n",
      "2022-07-03 19:34:48 fostool\\dataset\\data_utils.py 428 \\ - INFO - 54537 Rows After Time Reindex.\n",
      "2022-07-03 19:34:48 fostool\\dataset\\data_utils.py 429 \\ - INFO - --------------------\n",
      "2022-07-03 19:34:48 fostool\\dataset\\data_utils.py 457 \\ - INFO - 54537 Rows Before Fill Missing.\n"
     ]
    },
    {
     "name": "stdout",
     "output_type": "stream",
     "text": [
      "CPU times: total: 1min 12s\n",
      "Wall time: 42.8 s\n",
      "imf2_HRB_pd_melt_2019-04-28.csv\n"
     ]
    },
    {
     "name": "stderr",
     "output_type": "stream",
     "text": [
      "2022-07-03 19:34:55 fostool\\dataset\\data_utils.py 461 \\ - INFO - 54537 Rows After Fill Missing.\n",
      "2022-07-03 19:34:55 fostool\\dataset\\data_utils.py 462 \\ - INFO - --------------------\n",
      "2022-07-03 19:35:29 fostool\\task\\fusion.py 71 \\ - INFO -    val_loss             model_name\n",
      "6  0.028928  SandwichModel_1f18_14\n",
      "7  0.024655  SandwichModel_7e50_21\n",
      "2022-07-03 19:35:29 fostool\\dataset\\data_utils.py 426 \\ - INFO - 54537 Rows Before Time Reindex.\n",
      "2022-07-03 19:35:29 fostool\\dataset\\data_utils.py 428 \\ - INFO - 54537 Rows After Time Reindex.\n",
      "2022-07-03 19:35:29 fostool\\dataset\\data_utils.py 429 \\ - INFO - --------------------\n",
      "2022-07-03 19:35:29 fostool\\dataset\\data_utils.py 457 \\ - INFO - 54537 Rows Before Fill Missing.\n"
     ]
    },
    {
     "name": "stdout",
     "output_type": "stream",
     "text": [
      "CPU times: total: 1min 6s\n",
      "Wall time: 41.7 s\n",
      "imf2_HRB_pd_melt_2019-05-26.csv\n"
     ]
    },
    {
     "name": "stderr",
     "output_type": "stream",
     "text": [
      "2022-07-03 19:35:36 fostool\\dataset\\data_utils.py 461 \\ - INFO - 54537 Rows After Fill Missing.\n",
      "2022-07-03 19:35:36 fostool\\dataset\\data_utils.py 462 \\ - INFO - --------------------\n",
      "2022-07-03 19:36:10 fostool\\task\\fusion.py 71 \\ - INFO -    val_loss             model_name\n",
      "6  0.028928  SandwichModel_1f18_14\n",
      "7  0.024655  SandwichModel_7e50_21\n",
      "2022-07-03 19:36:10 fostool\\dataset\\data_utils.py 426 \\ - INFO - 54537 Rows Before Time Reindex.\n",
      "2022-07-03 19:36:10 fostool\\dataset\\data_utils.py 428 \\ - INFO - 54537 Rows After Time Reindex.\n",
      "2022-07-03 19:36:10 fostool\\dataset\\data_utils.py 429 \\ - INFO - --------------------\n",
      "2022-07-03 19:36:10 fostool\\dataset\\data_utils.py 457 \\ - INFO - 54537 Rows Before Fill Missing.\n"
     ]
    },
    {
     "name": "stdout",
     "output_type": "stream",
     "text": [
      "CPU times: total: 1min 7s\n",
      "Wall time: 41 s\n",
      "imf2_HRB_pd_melt_2019-06-23.csv\n"
     ]
    },
    {
     "name": "stderr",
     "output_type": "stream",
     "text": [
      "2022-07-03 19:36:17 fostool\\dataset\\data_utils.py 461 \\ - INFO - 54537 Rows After Fill Missing.\n",
      "2022-07-03 19:36:17 fostool\\dataset\\data_utils.py 462 \\ - INFO - --------------------\n",
      "2022-07-03 19:36:52 fostool\\task\\fusion.py 71 \\ - INFO -    val_loss             model_name\n",
      "6  0.028928  SandwichModel_1f18_14\n",
      "7  0.024655  SandwichModel_7e50_21\n",
      "2022-07-03 19:36:53 fostool\\dataset\\data_utils.py 426 \\ - INFO - 54537 Rows Before Time Reindex.\n",
      "2022-07-03 19:36:53 fostool\\dataset\\data_utils.py 428 \\ - INFO - 54537 Rows After Time Reindex.\n",
      "2022-07-03 19:36:53 fostool\\dataset\\data_utils.py 429 \\ - INFO - --------------------\n",
      "2022-07-03 19:36:53 fostool\\dataset\\data_utils.py 457 \\ - INFO - 54537 Rows Before Fill Missing.\n"
     ]
    },
    {
     "name": "stdout",
     "output_type": "stream",
     "text": [
      "CPU times: total: 1min 9s\n",
      "Wall time: 42.2 s\n",
      "imf2_HRB_pd_melt_2019-07-21.csv\n"
     ]
    },
    {
     "name": "stderr",
     "output_type": "stream",
     "text": [
      "2022-07-03 19:37:00 fostool\\dataset\\data_utils.py 461 \\ - INFO - 54537 Rows After Fill Missing.\n",
      "2022-07-03 19:37:00 fostool\\dataset\\data_utils.py 462 \\ - INFO - --------------------\n",
      "2022-07-03 19:37:34 fostool\\task\\fusion.py 71 \\ - INFO -    val_loss             model_name\n",
      "6  0.028928  SandwichModel_1f18_14\n",
      "7  0.024655  SandwichModel_7e50_21\n",
      "2022-07-03 19:37:35 fostool\\dataset\\data_utils.py 426 \\ - INFO - 54537 Rows Before Time Reindex.\n",
      "2022-07-03 19:37:35 fostool\\dataset\\data_utils.py 428 \\ - INFO - 54537 Rows After Time Reindex.\n",
      "2022-07-03 19:37:35 fostool\\dataset\\data_utils.py 429 \\ - INFO - --------------------\n",
      "2022-07-03 19:37:35 fostool\\dataset\\data_utils.py 457 \\ - INFO - 54537 Rows Before Fill Missing.\n"
     ]
    },
    {
     "name": "stdout",
     "output_type": "stream",
     "text": [
      "CPU times: total: 1min 8s\n",
      "Wall time: 42 s\n",
      "imf2_HRB_pd_melt_2019-08-18.csv\n"
     ]
    },
    {
     "name": "stderr",
     "output_type": "stream",
     "text": [
      "2022-07-03 19:37:41 fostool\\dataset\\data_utils.py 461 \\ - INFO - 54537 Rows After Fill Missing.\n",
      "2022-07-03 19:37:41 fostool\\dataset\\data_utils.py 462 \\ - INFO - --------------------\n",
      "2022-07-03 19:38:16 fostool\\task\\fusion.py 71 \\ - INFO -    val_loss             model_name\n",
      "6  0.028928  SandwichModel_1f18_14\n",
      "7  0.024655  SandwichModel_7e50_21\n",
      "2022-07-03 19:38:16 fostool\\dataset\\data_utils.py 426 \\ - INFO - 54537 Rows Before Time Reindex.\n",
      "2022-07-03 19:38:16 fostool\\dataset\\data_utils.py 428 \\ - INFO - 54537 Rows After Time Reindex.\n",
      "2022-07-03 19:38:16 fostool\\dataset\\data_utils.py 429 \\ - INFO - --------------------\n",
      "2022-07-03 19:38:16 fostool\\dataset\\data_utils.py 457 \\ - INFO - 54537 Rows Before Fill Missing.\n"
     ]
    },
    {
     "name": "stdout",
     "output_type": "stream",
     "text": [
      "CPU times: total: 1min 7s\n",
      "Wall time: 41.2 s\n",
      "imf2_HRB_pd_melt_2019-09-15.csv\n"
     ]
    },
    {
     "name": "stderr",
     "output_type": "stream",
     "text": [
      "2022-07-03 19:38:23 fostool\\dataset\\data_utils.py 461 \\ - INFO - 54537 Rows After Fill Missing.\n",
      "2022-07-03 19:38:23 fostool\\dataset\\data_utils.py 462 \\ - INFO - --------------------\n",
      "2022-07-03 19:38:58 fostool\\task\\fusion.py 71 \\ - INFO -    val_loss             model_name\n",
      "6  0.028928  SandwichModel_1f18_14\n",
      "7  0.024655  SandwichModel_7e50_21\n",
      "2022-07-03 19:38:58 fostool\\dataset\\data_utils.py 426 \\ - INFO - 54537 Rows Before Time Reindex.\n",
      "2022-07-03 19:38:58 fostool\\dataset\\data_utils.py 428 \\ - INFO - 54537 Rows After Time Reindex.\n",
      "2022-07-03 19:38:58 fostool\\dataset\\data_utils.py 429 \\ - INFO - --------------------\n",
      "2022-07-03 19:38:58 fostool\\dataset\\data_utils.py 457 \\ - INFO - 54537 Rows Before Fill Missing.\n"
     ]
    },
    {
     "name": "stdout",
     "output_type": "stream",
     "text": [
      "CPU times: total: 1min 8s\n",
      "Wall time: 41.8 s\n",
      "imf2_HRB_pd_melt_2019-10-13.csv\n"
     ]
    },
    {
     "name": "stderr",
     "output_type": "stream",
     "text": [
      "2022-07-03 19:39:05 fostool\\dataset\\data_utils.py 461 \\ - INFO - 54537 Rows After Fill Missing.\n",
      "2022-07-03 19:39:05 fostool\\dataset\\data_utils.py 462 \\ - INFO - --------------------\n",
      "2022-07-03 19:39:38 fostool\\task\\fusion.py 71 \\ - INFO -    val_loss             model_name\n",
      "6  0.028928  SandwichModel_1f18_14\n",
      "7  0.024655  SandwichModel_7e50_21\n",
      "2022-07-03 19:39:39 fostool\\dataset\\data_utils.py 426 \\ - INFO - 54537 Rows Before Time Reindex.\n",
      "2022-07-03 19:39:39 fostool\\dataset\\data_utils.py 428 \\ - INFO - 54537 Rows After Time Reindex.\n",
      "2022-07-03 19:39:39 fostool\\dataset\\data_utils.py 429 \\ - INFO - --------------------\n",
      "2022-07-03 19:39:39 fostool\\dataset\\data_utils.py 457 \\ - INFO - 54537 Rows Before Fill Missing.\n"
     ]
    },
    {
     "name": "stdout",
     "output_type": "stream",
     "text": [
      "CPU times: total: 1min 6s\n",
      "Wall time: 40.8 s\n",
      "imf2_HRB_pd_melt_2019-11-10.csv\n"
     ]
    },
    {
     "name": "stderr",
     "output_type": "stream",
     "text": [
      "2022-07-03 19:39:46 fostool\\dataset\\data_utils.py 461 \\ - INFO - 54537 Rows After Fill Missing.\n",
      "2022-07-03 19:39:46 fostool\\dataset\\data_utils.py 462 \\ - INFO - --------------------\n",
      "2022-07-03 19:40:20 fostool\\task\\fusion.py 71 \\ - INFO -    val_loss             model_name\n",
      "6  0.028928  SandwichModel_1f18_14\n",
      "7  0.024655  SandwichModel_7e50_21\n",
      "2022-07-03 19:40:20 fostool\\dataset\\data_utils.py 426 \\ - INFO - 54537 Rows Before Time Reindex.\n",
      "2022-07-03 19:40:20 fostool\\dataset\\data_utils.py 428 \\ - INFO - 54537 Rows After Time Reindex.\n"
     ]
    },
    {
     "name": "stdout",
     "output_type": "stream",
     "text": [
      "CPU times: total: 1min 6s\n",
      "Wall time: 41.3 s\n",
      "imf2_HRB_pd_melt_2019-12-08.csv\n"
     ]
    },
    {
     "name": "stderr",
     "output_type": "stream",
     "text": [
      "2022-07-03 19:40:20 fostool\\dataset\\data_utils.py 429 \\ - INFO - --------------------\n",
      "2022-07-03 19:40:20 fostool\\dataset\\data_utils.py 457 \\ - INFO - 54537 Rows Before Fill Missing.\n",
      "2022-07-03 19:40:27 fostool\\dataset\\data_utils.py 461 \\ - INFO - 54537 Rows After Fill Missing.\n",
      "2022-07-03 19:40:27 fostool\\dataset\\data_utils.py 462 \\ - INFO - --------------------\n",
      "2022-07-03 19:41:02 fostool\\task\\fusion.py 71 \\ - INFO -    val_loss             model_name\n",
      "6  0.028928  SandwichModel_1f18_14\n",
      "7  0.024655  SandwichModel_7e50_21\n",
      "2022-07-03 19:41:03 fostool\\dataset\\data_utils.py 426 \\ - INFO - 54537 Rows Before Time Reindex.\n",
      "2022-07-03 19:41:03 fostool\\dataset\\data_utils.py 428 \\ - INFO - 54537 Rows After Time Reindex.\n",
      "2022-07-03 19:41:03 fostool\\dataset\\data_utils.py 429 \\ - INFO - --------------------\n",
      "2022-07-03 19:41:03 fostool\\dataset\\data_utils.py 457 \\ - INFO - 54537 Rows Before Fill Missing.\n"
     ]
    },
    {
     "name": "stdout",
     "output_type": "stream",
     "text": [
      "CPU times: total: 1min 8s\n",
      "Wall time: 42.5 s\n",
      "imf2_HRB_pd_melt_2020-01-05.csv\n"
     ]
    },
    {
     "name": "stderr",
     "output_type": "stream",
     "text": [
      "2022-07-03 19:41:10 fostool\\dataset\\data_utils.py 461 \\ - INFO - 54537 Rows After Fill Missing.\n",
      "2022-07-03 19:41:10 fostool\\dataset\\data_utils.py 462 \\ - INFO - --------------------\n",
      "2022-07-03 19:41:45 fostool\\task\\fusion.py 71 \\ - INFO -    val_loss             model_name\n",
      "6  0.028928  SandwichModel_1f18_14\n",
      "7  0.024655  SandwichModel_7e50_21\n",
      "2022-07-03 19:41:45 fostool\\dataset\\data_utils.py 426 \\ - INFO - 54537 Rows Before Time Reindex.\n",
      "2022-07-03 19:41:45 fostool\\dataset\\data_utils.py 428 \\ - INFO - 54537 Rows After Time Reindex.\n",
      "2022-07-03 19:41:45 fostool\\dataset\\data_utils.py 429 \\ - INFO - --------------------\n",
      "2022-07-03 19:41:45 fostool\\dataset\\data_utils.py 457 \\ - INFO - 54537 Rows Before Fill Missing.\n"
     ]
    },
    {
     "name": "stdout",
     "output_type": "stream",
     "text": [
      "CPU times: total: 1min 7s\n",
      "Wall time: 42.4 s\n",
      "imf2_HRB_pd_melt_2020-02-02.csv\n"
     ]
    },
    {
     "name": "stderr",
     "output_type": "stream",
     "text": [
      "2022-07-03 19:41:52 fostool\\dataset\\data_utils.py 461 \\ - INFO - 54537 Rows After Fill Missing.\n",
      "2022-07-03 19:41:52 fostool\\dataset\\data_utils.py 462 \\ - INFO - --------------------\n",
      "2022-07-03 19:42:26 fostool\\task\\fusion.py 71 \\ - INFO -    val_loss             model_name\n",
      "6  0.028928  SandwichModel_1f18_14\n",
      "7  0.024655  SandwichModel_7e50_21\n",
      "2022-07-03 19:42:26 fostool\\dataset\\data_utils.py 426 \\ - INFO - 54537 Rows Before Time Reindex.\n",
      "2022-07-03 19:42:26 fostool\\dataset\\data_utils.py 428 \\ - INFO - 54537 Rows After Time Reindex.\n",
      "2022-07-03 19:42:26 fostool\\dataset\\data_utils.py 429 \\ - INFO - --------------------\n",
      "2022-07-03 19:42:26 fostool\\dataset\\data_utils.py 457 \\ - INFO - 54537 Rows Before Fill Missing.\n"
     ]
    },
    {
     "name": "stdout",
     "output_type": "stream",
     "text": [
      "CPU times: total: 1min 7s\n",
      "Wall time: 41.1 s\n",
      "imf2_HRB_pd_melt_2020-03-01.csv\n"
     ]
    },
    {
     "name": "stderr",
     "output_type": "stream",
     "text": [
      "2022-07-03 19:42:33 fostool\\dataset\\data_utils.py 461 \\ - INFO - 54537 Rows After Fill Missing.\n",
      "2022-07-03 19:42:33 fostool\\dataset\\data_utils.py 462 \\ - INFO - --------------------\n",
      "2022-07-03 19:43:07 fostool\\task\\fusion.py 71 \\ - INFO -    val_loss             model_name\n",
      "6  0.028928  SandwichModel_1f18_14\n",
      "7  0.024655  SandwichModel_7e50_21\n",
      "2022-07-03 19:43:07 fostool\\dataset\\data_utils.py 426 \\ - INFO - 54537 Rows Before Time Reindex.\n",
      "2022-07-03 19:43:07 fostool\\dataset\\data_utils.py 428 \\ - INFO - 54537 Rows After Time Reindex.\n",
      "2022-07-03 19:43:07 fostool\\dataset\\data_utils.py 429 \\ - INFO - --------------------\n",
      "2022-07-03 19:43:07 fostool\\dataset\\data_utils.py 457 \\ - INFO - 54537 Rows Before Fill Missing.\n"
     ]
    },
    {
     "name": "stdout",
     "output_type": "stream",
     "text": [
      "CPU times: total: 1min 6s\n",
      "Wall time: 41.3 s\n",
      "imf2_HRB_pd_melt_2020-03-29.csv\n"
     ]
    },
    {
     "name": "stderr",
     "output_type": "stream",
     "text": [
      "2022-07-03 19:43:14 fostool\\dataset\\data_utils.py 461 \\ - INFO - 54537 Rows After Fill Missing.\n",
      "2022-07-03 19:43:14 fostool\\dataset\\data_utils.py 462 \\ - INFO - --------------------\n",
      "2022-07-03 19:43:49 fostool\\task\\fusion.py 71 \\ - INFO -    val_loss             model_name\n",
      "6  0.028928  SandwichModel_1f18_14\n",
      "7  0.024655  SandwichModel_7e50_21\n",
      "2022-07-03 19:43:49 fostool\\dataset\\data_utils.py 426 \\ - INFO - 54537 Rows Before Time Reindex.\n",
      "2022-07-03 19:43:49 fostool\\dataset\\data_utils.py 428 \\ - INFO - 54537 Rows After Time Reindex.\n",
      "2022-07-03 19:43:49 fostool\\dataset\\data_utils.py 429 \\ - INFO - --------------------\n",
      "2022-07-03 19:43:49 fostool\\dataset\\data_utils.py 457 \\ - INFO - 54537 Rows Before Fill Missing.\n"
     ]
    },
    {
     "name": "stdout",
     "output_type": "stream",
     "text": [
      "CPU times: total: 1min 9s\n",
      "Wall time: 41.9 s\n",
      "imf2_HRB_pd_melt_2020-04-26.csv\n"
     ]
    },
    {
     "name": "stderr",
     "output_type": "stream",
     "text": [
      "2022-07-03 19:43:56 fostool\\dataset\\data_utils.py 461 \\ - INFO - 54537 Rows After Fill Missing.\n",
      "2022-07-03 19:43:56 fostool\\dataset\\data_utils.py 462 \\ - INFO - --------------------\n",
      "2022-07-03 19:44:30 fostool\\task\\fusion.py 71 \\ - INFO -    val_loss             model_name\n",
      "6  0.028928  SandwichModel_1f18_14\n",
      "7  0.024655  SandwichModel_7e50_21\n",
      "2022-07-03 19:44:30 fostool\\dataset\\data_utils.py 426 \\ - INFO - 54537 Rows Before Time Reindex.\n",
      "2022-07-03 19:44:30 fostool\\dataset\\data_utils.py 428 \\ - INFO - 54537 Rows After Time Reindex.\n",
      "2022-07-03 19:44:30 fostool\\dataset\\data_utils.py 429 \\ - INFO - --------------------\n",
      "2022-07-03 19:44:30 fostool\\dataset\\data_utils.py 457 \\ - INFO - 54537 Rows Before Fill Missing.\n"
     ]
    },
    {
     "name": "stdout",
     "output_type": "stream",
     "text": [
      "CPU times: total: 1min 5s\n",
      "Wall time: 40.8 s\n",
      "imf2_HRB_pd_melt_2020-05-24.csv\n"
     ]
    },
    {
     "name": "stderr",
     "output_type": "stream",
     "text": [
      "2022-07-03 19:44:37 fostool\\dataset\\data_utils.py 461 \\ - INFO - 54537 Rows After Fill Missing.\n",
      "2022-07-03 19:44:37 fostool\\dataset\\data_utils.py 462 \\ - INFO - --------------------\n",
      "2022-07-03 19:45:12 fostool\\task\\fusion.py 71 \\ - INFO -    val_loss             model_name\n",
      "6  0.028928  SandwichModel_1f18_14\n",
      "7  0.024655  SandwichModel_7e50_21\n",
      "2022-07-03 19:45:12 fostool\\dataset\\data_utils.py 426 \\ - INFO - 54537 Rows Before Time Reindex.\n",
      "2022-07-03 19:45:12 fostool\\dataset\\data_utils.py 428 \\ - INFO - 54537 Rows After Time Reindex.\n",
      "2022-07-03 19:45:12 fostool\\dataset\\data_utils.py 429 \\ - INFO - --------------------\n",
      "2022-07-03 19:45:12 fostool\\dataset\\data_utils.py 457 \\ - INFO - 54537 Rows Before Fill Missing.\n"
     ]
    },
    {
     "name": "stdout",
     "output_type": "stream",
     "text": [
      "CPU times: total: 1min 7s\n",
      "Wall time: 42 s\n",
      "imf2_HRB_pd_melt_2020-06-21.csv\n"
     ]
    },
    {
     "name": "stderr",
     "output_type": "stream",
     "text": [
      "2022-07-03 19:45:19 fostool\\dataset\\data_utils.py 461 \\ - INFO - 54537 Rows After Fill Missing.\n",
      "2022-07-03 19:45:19 fostool\\dataset\\data_utils.py 462 \\ - INFO - --------------------\n",
      "2022-07-03 19:45:53 fostool\\task\\fusion.py 71 \\ - INFO -    val_loss             model_name\n",
      "6  0.028928  SandwichModel_1f18_14\n",
      "7  0.024655  SandwichModel_7e50_21\n",
      "2022-07-03 19:45:54 fostool\\dataset\\data_utils.py 426 \\ - INFO - 54537 Rows Before Time Reindex.\n",
      "2022-07-03 19:45:54 fostool\\dataset\\data_utils.py 428 \\ - INFO - 54537 Rows After Time Reindex.\n",
      "2022-07-03 19:45:54 fostool\\dataset\\data_utils.py 429 \\ - INFO - --------------------\n",
      "2022-07-03 19:45:54 fostool\\dataset\\data_utils.py 457 \\ - INFO - 54537 Rows Before Fill Missing.\n"
     ]
    },
    {
     "name": "stdout",
     "output_type": "stream",
     "text": [
      "CPU times: total: 1min 6s\n",
      "Wall time: 41.3 s\n",
      "imf2_HRB_pd_melt_2020-07-19.csv\n"
     ]
    },
    {
     "name": "stderr",
     "output_type": "stream",
     "text": [
      "2022-07-03 19:46:00 fostool\\dataset\\data_utils.py 461 \\ - INFO - 54537 Rows After Fill Missing.\n",
      "2022-07-03 19:46:00 fostool\\dataset\\data_utils.py 462 \\ - INFO - --------------------\n",
      "2022-07-03 19:46:35 fostool\\task\\fusion.py 71 \\ - INFO -    val_loss             model_name\n",
      "6  0.028928  SandwichModel_1f18_14\n",
      "7  0.024655  SandwichModel_7e50_21\n",
      "2022-07-03 19:46:35 fostool\\dataset\\data_utils.py 426 \\ - INFO - 54537 Rows Before Time Reindex.\n",
      "2022-07-03 19:46:35 fostool\\dataset\\data_utils.py 428 \\ - INFO - 54537 Rows After Time Reindex.\n",
      "2022-07-03 19:46:35 fostool\\dataset\\data_utils.py 429 \\ - INFO - --------------------\n",
      "2022-07-03 19:46:35 fostool\\dataset\\data_utils.py 457 \\ - INFO - 54537 Rows Before Fill Missing.\n"
     ]
    },
    {
     "name": "stdout",
     "output_type": "stream",
     "text": [
      "CPU times: total: 1min 5s\n",
      "Wall time: 41.3 s\n",
      "imf2_HRB_pd_melt_2020-08-16.csv\n"
     ]
    },
    {
     "name": "stderr",
     "output_type": "stream",
     "text": [
      "2022-07-03 19:46:42 fostool\\dataset\\data_utils.py 461 \\ - INFO - 54537 Rows After Fill Missing.\n",
      "2022-07-03 19:46:42 fostool\\dataset\\data_utils.py 462 \\ - INFO - --------------------\n",
      "2022-07-03 19:47:16 fostool\\task\\fusion.py 71 \\ - INFO -    val_loss             model_name\n",
      "6  0.028928  SandwichModel_1f18_14\n",
      "7  0.024655  SandwichModel_7e50_21\n",
      "2022-07-03 19:47:16 fostool\\dataset\\data_utils.py 426 \\ - INFO - 54537 Rows Before Time Reindex.\n",
      "2022-07-03 19:47:16 fostool\\dataset\\data_utils.py 428 \\ - INFO - 54537 Rows After Time Reindex.\n",
      "2022-07-03 19:47:16 fostool\\dataset\\data_utils.py 429 \\ - INFO - --------------------\n",
      "2022-07-03 19:47:17 fostool\\dataset\\data_utils.py 457 \\ - INFO - 54537 Rows Before Fill Missing.\n"
     ]
    },
    {
     "name": "stdout",
     "output_type": "stream",
     "text": [
      "CPU times: total: 1min 7s\n",
      "Wall time: 41.5 s\n",
      "imf2_HRB_pd_melt_2020-09-13.csv\n"
     ]
    },
    {
     "name": "stderr",
     "output_type": "stream",
     "text": [
      "2022-07-03 19:47:23 fostool\\dataset\\data_utils.py 461 \\ - INFO - 54537 Rows After Fill Missing.\n",
      "2022-07-03 19:47:23 fostool\\dataset\\data_utils.py 462 \\ - INFO - --------------------\n",
      "2022-07-03 19:47:58 fostool\\task\\fusion.py 71 \\ - INFO -    val_loss             model_name\n",
      "6  0.028928  SandwichModel_1f18_14\n",
      "7  0.024655  SandwichModel_7e50_21\n",
      "2022-07-03 19:47:58 fostool\\dataset\\data_utils.py 426 \\ - INFO - 54537 Rows Before Time Reindex.\n",
      "2022-07-03 19:47:58 fostool\\dataset\\data_utils.py 428 \\ - INFO - 54537 Rows After Time Reindex.\n",
      "2022-07-03 19:47:58 fostool\\dataset\\data_utils.py 429 \\ - INFO - --------------------\n",
      "2022-07-03 19:47:58 fostool\\dataset\\data_utils.py 457 \\ - INFO - 54537 Rows Before Fill Missing.\n"
     ]
    },
    {
     "name": "stdout",
     "output_type": "stream",
     "text": [
      "CPU times: total: 1min 8s\n",
      "Wall time: 41.8 s\n",
      "imf2_HRB_pd_melt_2020-10-11.csv\n"
     ]
    },
    {
     "name": "stderr",
     "output_type": "stream",
     "text": [
      "2022-07-03 19:48:05 fostool\\dataset\\data_utils.py 461 \\ - INFO - 54537 Rows After Fill Missing.\n",
      "2022-07-03 19:48:05 fostool\\dataset\\data_utils.py 462 \\ - INFO - --------------------\n",
      "2022-07-03 19:48:41 fostool\\task\\fusion.py 71 \\ - INFO -    val_loss             model_name\n",
      "6  0.028928  SandwichModel_1f18_14\n",
      "7  0.024655  SandwichModel_7e50_21\n",
      "2022-07-03 19:48:42 fostool\\dataset\\data_utils.py 426 \\ - INFO - 54537 Rows Before Time Reindex.\n",
      "2022-07-03 19:48:42 fostool\\dataset\\data_utils.py 428 \\ - INFO - 54537 Rows After Time Reindex.\n",
      "2022-07-03 19:48:42 fostool\\dataset\\data_utils.py 429 \\ - INFO - --------------------\n",
      "2022-07-03 19:48:42 fostool\\dataset\\data_utils.py 457 \\ - INFO - 54537 Rows Before Fill Missing.\n"
     ]
    },
    {
     "name": "stdout",
     "output_type": "stream",
     "text": [
      "CPU times: total: 1min 8s\n",
      "Wall time: 43.1 s\n",
      "imf2_HRB_pd_melt_2020-11-08.csv\n"
     ]
    },
    {
     "name": "stderr",
     "output_type": "stream",
     "text": [
      "2022-07-03 19:48:48 fostool\\dataset\\data_utils.py 461 \\ - INFO - 54537 Rows After Fill Missing.\n",
      "2022-07-03 19:48:48 fostool\\dataset\\data_utils.py 462 \\ - INFO - --------------------\n",
      "2022-07-03 19:49:24 fostool\\task\\fusion.py 71 \\ - INFO -    val_loss             model_name\n",
      "6  0.028928  SandwichModel_1f18_14\n",
      "7  0.024655  SandwichModel_7e50_21\n",
      "2022-07-03 19:49:24 fostool\\dataset\\data_utils.py 426 \\ - INFO - 54537 Rows Before Time Reindex.\n",
      "2022-07-03 19:49:24 fostool\\dataset\\data_utils.py 428 \\ - INFO - 54537 Rows After Time Reindex.\n",
      "2022-07-03 19:49:24 fostool\\dataset\\data_utils.py 429 \\ - INFO - --------------------\n",
      "2022-07-03 19:49:24 fostool\\dataset\\data_utils.py 457 \\ - INFO - 54537 Rows Before Fill Missing.\n"
     ]
    },
    {
     "name": "stdout",
     "output_type": "stream",
     "text": [
      "CPU times: total: 1min 8s\n",
      "Wall time: 42.3 s\n",
      "imf2_HRB_pd_melt_2020-12-06.csv\n"
     ]
    },
    {
     "name": "stderr",
     "output_type": "stream",
     "text": [
      "2022-07-03 19:49:31 fostool\\dataset\\data_utils.py 461 \\ - INFO - 54537 Rows After Fill Missing.\n",
      "2022-07-03 19:49:31 fostool\\dataset\\data_utils.py 462 \\ - INFO - --------------------\n",
      "2022-07-03 19:50:06 fostool\\task\\fusion.py 71 \\ - INFO -    val_loss             model_name\n",
      "6  0.028928  SandwichModel_1f18_14\n",
      "7  0.024655  SandwichModel_7e50_21\n",
      "2022-07-03 19:50:06 fostool\\dataset\\data_utils.py 426 \\ - INFO - 54537 Rows Before Time Reindex.\n",
      "2022-07-03 19:50:06 fostool\\dataset\\data_utils.py 428 \\ - INFO - 54537 Rows After Time Reindex.\n",
      "2022-07-03 19:50:06 fostool\\dataset\\data_utils.py 429 \\ - INFO - --------------------\n",
      "2022-07-03 19:50:06 fostool\\dataset\\data_utils.py 457 \\ - INFO - 54537 Rows Before Fill Missing.\n"
     ]
    },
    {
     "name": "stdout",
     "output_type": "stream",
     "text": [
      "CPU times: total: 1min 8s\n",
      "Wall time: 42.4 s\n",
      "imf2_HRB_pd_melt_2021-01-03.csv\n"
     ]
    },
    {
     "name": "stderr",
     "output_type": "stream",
     "text": [
      "2022-07-03 19:50:13 fostool\\dataset\\data_utils.py 461 \\ - INFO - 54537 Rows After Fill Missing.\n",
      "2022-07-03 19:50:13 fostool\\dataset\\data_utils.py 462 \\ - INFO - --------------------\n",
      "2022-07-03 19:50:48 fostool\\task\\fusion.py 71 \\ - INFO -    val_loss             model_name\n",
      "6  0.028928  SandwichModel_1f18_14\n",
      "7  0.024655  SandwichModel_7e50_21\n",
      "2022-07-03 19:50:48 fostool\\task\\config_handler.py 28 \\ - INFO - yaml handler load path: C:\\Users\\Xiaoyi Wang\\.conda\\envs\\geo_env\\lib\\site-packages\\fostool\\config/default.yaml\n"
     ]
    },
    {
     "name": "stdout",
     "output_type": "stream",
     "text": [
      "CPU times: total: 1min 8s\n",
      "Wall time: 41.7 s\n"
     ]
    },
    {
     "name": "stderr",
     "output_type": "stream",
     "text": [
      "2022-07-03 19:50:48 fostool\\dataset\\data_utils.py 426 \\ - INFO - 54537 Rows Before Time Reindex.\n",
      "2022-07-03 19:50:48 fostool\\dataset\\data_utils.py 428 \\ - INFO - 54537 Rows After Time Reindex.\n",
      "2022-07-03 19:50:48 fostool\\dataset\\data_utils.py 429 \\ - INFO - --------------------\n",
      "2022-07-03 19:50:48 fostool\\dataset\\data_utils.py 457 \\ - INFO - 54537 Rows Before Fill Missing.\n"
     ]
    },
    {
     "name": "stdout",
     "output_type": "stream",
     "text": [
      "imf3_HRB_pd_melt_2019-03-03.csv\n"
     ]
    },
    {
     "name": "stderr",
     "output_type": "stream",
     "text": [
      "2022-07-03 19:50:55 fostool\\dataset\\data_utils.py 461 \\ - INFO - 54537 Rows After Fill Missing.\n",
      "2022-07-03 19:50:55 fostool\\dataset\\data_utils.py 462 \\ - INFO - --------------------\n",
      "2022-07-03 19:51:30 fostool\\task\\fusion.py 71 \\ - INFO -    val_loss             model_name\n",
      "0  0.002376      KRNNModel_01c6_14\n",
      "1  0.002121      KRNNModel_b07a_21\n",
      "2  0.003429       KRNNModel_b681_7\n",
      "6  0.002057  SandwichModel_1f18_14\n",
      "7  0.002812  SandwichModel_7e50_21\n",
      "8  0.001866   SandwichModel_a710_7\n",
      "2022-07-03 19:51:30 fostool\\dataset\\data_utils.py 426 \\ - INFO - 54537 Rows Before Time Reindex.\n",
      "2022-07-03 19:51:30 fostool\\dataset\\data_utils.py 428 \\ - INFO - 54537 Rows After Time Reindex.\n",
      "2022-07-03 19:51:30 fostool\\dataset\\data_utils.py 429 \\ - INFO - --------------------\n",
      "2022-07-03 19:51:30 fostool\\dataset\\data_utils.py 457 \\ - INFO - 54537 Rows Before Fill Missing.\n"
     ]
    },
    {
     "name": "stdout",
     "output_type": "stream",
     "text": [
      "CPU times: total: 1min 7s\n",
      "Wall time: 41.7 s\n",
      "imf3_HRB_pd_melt_2019-03-31.csv\n"
     ]
    },
    {
     "name": "stderr",
     "output_type": "stream",
     "text": [
      "2022-07-03 19:51:37 fostool\\dataset\\data_utils.py 461 \\ - INFO - 54537 Rows After Fill Missing.\n",
      "2022-07-03 19:51:37 fostool\\dataset\\data_utils.py 462 \\ - INFO - --------------------\n",
      "2022-07-03 19:52:12 fostool\\task\\fusion.py 71 \\ - INFO -    val_loss             model_name\n",
      "0  0.002376      KRNNModel_01c6_14\n",
      "1  0.002121      KRNNModel_b07a_21\n",
      "2  0.003429       KRNNModel_b681_7\n",
      "6  0.002057  SandwichModel_1f18_14\n",
      "7  0.002812  SandwichModel_7e50_21\n",
      "8  0.001866   SandwichModel_a710_7\n",
      "2022-07-03 19:52:12 fostool\\dataset\\data_utils.py 426 \\ - INFO - 54537 Rows Before Time Reindex.\n",
      "2022-07-03 19:52:12 fostool\\dataset\\data_utils.py 428 \\ - INFO - 54537 Rows After Time Reindex.\n"
     ]
    },
    {
     "name": "stdout",
     "output_type": "stream",
     "text": [
      "CPU times: total: 1min 10s\n",
      "Wall time: 42.5 s\n",
      "imf3_HRB_pd_melt_2019-04-28.csv\n"
     ]
    },
    {
     "name": "stderr",
     "output_type": "stream",
     "text": [
      "2022-07-03 19:52:12 fostool\\dataset\\data_utils.py 429 \\ - INFO - --------------------\n",
      "2022-07-03 19:52:12 fostool\\dataset\\data_utils.py 457 \\ - INFO - 54537 Rows Before Fill Missing.\n",
      "2022-07-03 19:52:20 fostool\\dataset\\data_utils.py 461 \\ - INFO - 54537 Rows After Fill Missing.\n",
      "2022-07-03 19:52:20 fostool\\dataset\\data_utils.py 462 \\ - INFO - --------------------\n",
      "2022-07-03 19:52:54 fostool\\task\\fusion.py 71 \\ - INFO -    val_loss             model_name\n",
      "0  0.002376      KRNNModel_01c6_14\n",
      "1  0.002121      KRNNModel_b07a_21\n",
      "2  0.003429       KRNNModel_b681_7\n",
      "6  0.002057  SandwichModel_1f18_14\n",
      "7  0.002812  SandwichModel_7e50_21\n",
      "8  0.001866   SandwichModel_a710_7\n",
      "2022-07-03 19:52:54 fostool\\dataset\\data_utils.py 426 \\ - INFO - 54537 Rows Before Time Reindex.\n",
      "2022-07-03 19:52:54 fostool\\dataset\\data_utils.py 428 \\ - INFO - 54537 Rows After Time Reindex.\n",
      "2022-07-03 19:52:54 fostool\\dataset\\data_utils.py 429 \\ - INFO - --------------------\n",
      "2022-07-03 19:52:54 fostool\\dataset\\data_utils.py 457 \\ - INFO - 54537 Rows Before Fill Missing.\n"
     ]
    },
    {
     "name": "stdout",
     "output_type": "stream",
     "text": [
      "CPU times: total: 1min 7s\n",
      "Wall time: 41.8 s\n",
      "imf3_HRB_pd_melt_2019-05-26.csv\n"
     ]
    },
    {
     "name": "stderr",
     "output_type": "stream",
     "text": [
      "2022-07-03 19:53:01 fostool\\dataset\\data_utils.py 461 \\ - INFO - 54537 Rows After Fill Missing.\n",
      "2022-07-03 19:53:01 fostool\\dataset\\data_utils.py 462 \\ - INFO - --------------------\n",
      "2022-07-03 19:53:37 fostool\\task\\fusion.py 71 \\ - INFO -    val_loss             model_name\n",
      "0  0.002376      KRNNModel_01c6_14\n",
      "1  0.002121      KRNNModel_b07a_21\n",
      "2  0.003429       KRNNModel_b681_7\n",
      "6  0.002057  SandwichModel_1f18_14\n",
      "7  0.002812  SandwichModel_7e50_21\n",
      "8  0.001866   SandwichModel_a710_7\n",
      "2022-07-03 19:53:37 fostool\\dataset\\data_utils.py 426 \\ - INFO - 54537 Rows Before Time Reindex.\n",
      "2022-07-03 19:53:37 fostool\\dataset\\data_utils.py 428 \\ - INFO - 54537 Rows After Time Reindex.\n",
      "2022-07-03 19:53:37 fostool\\dataset\\data_utils.py 429 \\ - INFO - --------------------\n",
      "2022-07-03 19:53:37 fostool\\dataset\\data_utils.py 457 \\ - INFO - 54537 Rows Before Fill Missing.\n"
     ]
    },
    {
     "name": "stdout",
     "output_type": "stream",
     "text": [
      "CPU times: total: 1min 11s\n",
      "Wall time: 42.9 s\n",
      "imf3_HRB_pd_melt_2019-06-23.csv\n"
     ]
    },
    {
     "name": "stderr",
     "output_type": "stream",
     "text": [
      "2022-07-03 19:53:44 fostool\\dataset\\data_utils.py 461 \\ - INFO - 54537 Rows After Fill Missing.\n",
      "2022-07-03 19:53:44 fostool\\dataset\\data_utils.py 462 \\ - INFO - --------------------\n",
      "2022-07-03 19:54:18 fostool\\task\\fusion.py 71 \\ - INFO -    val_loss             model_name\n",
      "0  0.002376      KRNNModel_01c6_14\n",
      "1  0.002121      KRNNModel_b07a_21\n",
      "2  0.003429       KRNNModel_b681_7\n",
      "6  0.002057  SandwichModel_1f18_14\n",
      "7  0.002812  SandwichModel_7e50_21\n",
      "8  0.001866   SandwichModel_a710_7\n",
      "2022-07-03 19:54:18 fostool\\dataset\\data_utils.py 426 \\ - INFO - 54537 Rows Before Time Reindex.\n",
      "2022-07-03 19:54:18 fostool\\dataset\\data_utils.py 428 \\ - INFO - 54537 Rows After Time Reindex.\n",
      "2022-07-03 19:54:18 fostool\\dataset\\data_utils.py 429 \\ - INFO - --------------------\n",
      "2022-07-03 19:54:18 fostool\\dataset\\data_utils.py 457 \\ - INFO - 54537 Rows Before Fill Missing.\n"
     ]
    },
    {
     "name": "stdout",
     "output_type": "stream",
     "text": [
      "CPU times: total: 1min 5s\n",
      "Wall time: 40.9 s\n",
      "imf3_HRB_pd_melt_2019-07-21.csv\n"
     ]
    },
    {
     "name": "stderr",
     "output_type": "stream",
     "text": [
      "2022-07-03 19:54:25 fostool\\dataset\\data_utils.py 461 \\ - INFO - 54537 Rows After Fill Missing.\n",
      "2022-07-03 19:54:25 fostool\\dataset\\data_utils.py 462 \\ - INFO - --------------------\n",
      "2022-07-03 19:55:00 fostool\\task\\fusion.py 71 \\ - INFO -    val_loss             model_name\n",
      "0  0.002376      KRNNModel_01c6_14\n",
      "1  0.002121      KRNNModel_b07a_21\n",
      "2  0.003429       KRNNModel_b681_7\n",
      "6  0.002057  SandwichModel_1f18_14\n",
      "7  0.002812  SandwichModel_7e50_21\n",
      "8  0.001866   SandwichModel_a710_7\n",
      "2022-07-03 19:55:00 fostool\\dataset\\data_utils.py 426 \\ - INFO - 54537 Rows Before Time Reindex.\n",
      "2022-07-03 19:55:00 fostool\\dataset\\data_utils.py 428 \\ - INFO - 54537 Rows After Time Reindex.\n",
      "2022-07-03 19:55:00 fostool\\dataset\\data_utils.py 429 \\ - INFO - --------------------\n",
      "2022-07-03 19:55:00 fostool\\dataset\\data_utils.py 457 \\ - INFO - 54537 Rows Before Fill Missing.\n"
     ]
    },
    {
     "name": "stdout",
     "output_type": "stream",
     "text": [
      "CPU times: total: 1min 8s\n",
      "Wall time: 41.8 s\n",
      "imf3_HRB_pd_melt_2019-08-18.csv\n"
     ]
    },
    {
     "name": "stderr",
     "output_type": "stream",
     "text": [
      "2022-07-03 19:55:07 fostool\\dataset\\data_utils.py 461 \\ - INFO - 54537 Rows After Fill Missing.\n",
      "2022-07-03 19:55:07 fostool\\dataset\\data_utils.py 462 \\ - INFO - --------------------\n",
      "2022-07-03 19:55:41 fostool\\task\\fusion.py 71 \\ - INFO -    val_loss             model_name\n",
      "0  0.002376      KRNNModel_01c6_14\n",
      "1  0.002121      KRNNModel_b07a_21\n",
      "2  0.003429       KRNNModel_b681_7\n",
      "6  0.002057  SandwichModel_1f18_14\n",
      "7  0.002812  SandwichModel_7e50_21\n",
      "8  0.001866   SandwichModel_a710_7\n",
      "2022-07-03 19:55:41 fostool\\dataset\\data_utils.py 426 \\ - INFO - 54537 Rows Before Time Reindex.\n",
      "2022-07-03 19:55:41 fostool\\dataset\\data_utils.py 428 \\ - INFO - 54537 Rows After Time Reindex.\n",
      "2022-07-03 19:55:41 fostool\\dataset\\data_utils.py 429 \\ - INFO - --------------------\n",
      "2022-07-03 19:55:41 fostool\\dataset\\data_utils.py 457 \\ - INFO - 54537 Rows Before Fill Missing.\n"
     ]
    },
    {
     "name": "stdout",
     "output_type": "stream",
     "text": [
      "CPU times: total: 1min 7s\n",
      "Wall time: 41.1 s\n",
      "imf3_HRB_pd_melt_2019-09-15.csv\n"
     ]
    },
    {
     "name": "stderr",
     "output_type": "stream",
     "text": [
      "2022-07-03 19:55:48 fostool\\dataset\\data_utils.py 461 \\ - INFO - 54537 Rows After Fill Missing.\n",
      "2022-07-03 19:55:48 fostool\\dataset\\data_utils.py 462 \\ - INFO - --------------------\n",
      "2022-07-03 19:56:23 fostool\\task\\fusion.py 71 \\ - INFO -    val_loss             model_name\n",
      "0  0.002376      KRNNModel_01c6_14\n",
      "1  0.002121      KRNNModel_b07a_21\n",
      "2  0.003429       KRNNModel_b681_7\n",
      "6  0.002057  SandwichModel_1f18_14\n",
      "7  0.002812  SandwichModel_7e50_21\n",
      "8  0.001866   SandwichModel_a710_7\n",
      "2022-07-03 19:56:23 fostool\\dataset\\data_utils.py 426 \\ - INFO - 54537 Rows Before Time Reindex.\n",
      "2022-07-03 19:56:23 fostool\\dataset\\data_utils.py 428 \\ - INFO - 54537 Rows After Time Reindex.\n",
      "2022-07-03 19:56:23 fostool\\dataset\\data_utils.py 429 \\ - INFO - --------------------\n",
      "2022-07-03 19:56:23 fostool\\dataset\\data_utils.py 457 \\ - INFO - 54537 Rows Before Fill Missing.\n"
     ]
    },
    {
     "name": "stdout",
     "output_type": "stream",
     "text": [
      "CPU times: total: 1min 8s\n",
      "Wall time: 42.2 s\n",
      "imf3_HRB_pd_melt_2019-10-13.csv\n"
     ]
    },
    {
     "name": "stderr",
     "output_type": "stream",
     "text": [
      "2022-07-03 19:56:30 fostool\\dataset\\data_utils.py 461 \\ - INFO - 54537 Rows After Fill Missing.\n",
      "2022-07-03 19:56:30 fostool\\dataset\\data_utils.py 462 \\ - INFO - --------------------\n",
      "2022-07-03 19:57:04 fostool\\task\\fusion.py 71 \\ - INFO -    val_loss             model_name\n",
      "0  0.002376      KRNNModel_01c6_14\n",
      "1  0.002121      KRNNModel_b07a_21\n",
      "2  0.003429       KRNNModel_b681_7\n",
      "6  0.002057  SandwichModel_1f18_14\n",
      "7  0.002812  SandwichModel_7e50_21\n",
      "8  0.001866   SandwichModel_a710_7\n",
      "2022-07-03 19:57:05 fostool\\dataset\\data_utils.py 426 \\ - INFO - 54537 Rows Before Time Reindex.\n",
      "2022-07-03 19:57:05 fostool\\dataset\\data_utils.py 428 \\ - INFO - 54537 Rows After Time Reindex.\n",
      "2022-07-03 19:57:05 fostool\\dataset\\data_utils.py 429 \\ - INFO - --------------------\n",
      "2022-07-03 19:57:05 fostool\\dataset\\data_utils.py 457 \\ - INFO - 54537 Rows Before Fill Missing.\n"
     ]
    },
    {
     "name": "stdout",
     "output_type": "stream",
     "text": [
      "CPU times: total: 1min 6s\n",
      "Wall time: 41.1 s\n",
      "imf3_HRB_pd_melt_2019-11-10.csv\n"
     ]
    },
    {
     "name": "stderr",
     "output_type": "stream",
     "text": [
      "2022-07-03 19:57:11 fostool\\dataset\\data_utils.py 461 \\ - INFO - 54537 Rows After Fill Missing.\n",
      "2022-07-03 19:57:11 fostool\\dataset\\data_utils.py 462 \\ - INFO - --------------------\n",
      "2022-07-03 19:57:45 fostool\\task\\fusion.py 71 \\ - INFO -    val_loss             model_name\n",
      "0  0.002376      KRNNModel_01c6_14\n",
      "1  0.002121      KRNNModel_b07a_21\n",
      "2  0.003429       KRNNModel_b681_7\n",
      "6  0.002057  SandwichModel_1f18_14\n",
      "7  0.002812  SandwichModel_7e50_21\n",
      "8  0.001866   SandwichModel_a710_7\n",
      "2022-07-03 19:57:45 fostool\\dataset\\data_utils.py 426 \\ - INFO - 54537 Rows Before Time Reindex.\n",
      "2022-07-03 19:57:45 fostool\\dataset\\data_utils.py 428 \\ - INFO - 54537 Rows After Time Reindex.\n",
      "2022-07-03 19:57:45 fostool\\dataset\\data_utils.py 429 \\ - INFO - --------------------\n",
      "2022-07-03 19:57:45 fostool\\dataset\\data_utils.py 457 \\ - INFO - 54537 Rows Before Fill Missing.\n"
     ]
    },
    {
     "name": "stdout",
     "output_type": "stream",
     "text": [
      "CPU times: total: 1min 5s\n",
      "Wall time: 40.8 s\n",
      "imf3_HRB_pd_melt_2019-12-08.csv\n"
     ]
    },
    {
     "name": "stderr",
     "output_type": "stream",
     "text": [
      "2022-07-03 19:57:53 fostool\\dataset\\data_utils.py 461 \\ - INFO - 54537 Rows After Fill Missing.\n",
      "2022-07-03 19:57:53 fostool\\dataset\\data_utils.py 462 \\ - INFO - --------------------\n",
      "2022-07-03 19:58:28 fostool\\task\\fusion.py 71 \\ - INFO -    val_loss             model_name\n",
      "0  0.002376      KRNNModel_01c6_14\n",
      "1  0.002121      KRNNModel_b07a_21\n",
      "2  0.003429       KRNNModel_b681_7\n",
      "6  0.002057  SandwichModel_1f18_14\n",
      "7  0.002812  SandwichModel_7e50_21\n",
      "8  0.001866   SandwichModel_a710_7\n",
      "2022-07-03 19:58:29 fostool\\dataset\\data_utils.py 426 \\ - INFO - 54537 Rows Before Time Reindex.\n",
      "2022-07-03 19:58:29 fostool\\dataset\\data_utils.py 428 \\ - INFO - 54537 Rows After Time Reindex.\n",
      "2022-07-03 19:58:29 fostool\\dataset\\data_utils.py 429 \\ - INFO - --------------------\n",
      "2022-07-03 19:58:29 fostool\\dataset\\data_utils.py 457 \\ - INFO - 54537 Rows Before Fill Missing.\n"
     ]
    },
    {
     "name": "stdout",
     "output_type": "stream",
     "text": [
      "CPU times: total: 1min 8s\n",
      "Wall time: 43.1 s\n",
      "imf3_HRB_pd_melt_2020-01-05.csv\n"
     ]
    },
    {
     "name": "stderr",
     "output_type": "stream",
     "text": [
      "2022-07-03 19:58:36 fostool\\dataset\\data_utils.py 461 \\ - INFO - 54537 Rows After Fill Missing.\n",
      "2022-07-03 19:58:36 fostool\\dataset\\data_utils.py 462 \\ - INFO - --------------------\n",
      "2022-07-03 19:59:11 fostool\\task\\fusion.py 71 \\ - INFO -    val_loss             model_name\n",
      "0  0.002376      KRNNModel_01c6_14\n",
      "1  0.002121      KRNNModel_b07a_21\n",
      "2  0.003429       KRNNModel_b681_7\n",
      "6  0.002057  SandwichModel_1f18_14\n",
      "7  0.002812  SandwichModel_7e50_21\n",
      "8  0.001866   SandwichModel_a710_7\n",
      "2022-07-03 19:59:11 fostool\\dataset\\data_utils.py 426 \\ - INFO - 54537 Rows Before Time Reindex.\n",
      "2022-07-03 19:59:11 fostool\\dataset\\data_utils.py 428 \\ - INFO - 54537 Rows After Time Reindex.\n",
      "2022-07-03 19:59:11 fostool\\dataset\\data_utils.py 429 \\ - INFO - --------------------\n",
      "2022-07-03 19:59:11 fostool\\dataset\\data_utils.py 457 \\ - INFO - 54537 Rows Before Fill Missing.\n"
     ]
    },
    {
     "name": "stdout",
     "output_type": "stream",
     "text": [
      "CPU times: total: 1min 8s\n",
      "Wall time: 42.8 s\n",
      "imf3_HRB_pd_melt_2020-02-02.csv\n"
     ]
    },
    {
     "name": "stderr",
     "output_type": "stream",
     "text": [
      "2022-07-03 19:59:18 fostool\\dataset\\data_utils.py 461 \\ - INFO - 54537 Rows After Fill Missing.\n",
      "2022-07-03 19:59:18 fostool\\dataset\\data_utils.py 462 \\ - INFO - --------------------\n",
      "2022-07-03 19:59:53 fostool\\task\\fusion.py 71 \\ - INFO -    val_loss             model_name\n",
      "0  0.002376      KRNNModel_01c6_14\n",
      "1  0.002121      KRNNModel_b07a_21\n",
      "2  0.003429       KRNNModel_b681_7\n",
      "6  0.002057  SandwichModel_1f18_14\n",
      "7  0.002812  SandwichModel_7e50_21\n",
      "8  0.001866   SandwichModel_a710_7\n",
      "2022-07-03 19:59:53 fostool\\dataset\\data_utils.py 426 \\ - INFO - 54537 Rows Before Time Reindex.\n",
      "2022-07-03 19:59:53 fostool\\dataset\\data_utils.py 428 \\ - INFO - 54537 Rows After Time Reindex.\n",
      "2022-07-03 19:59:53 fostool\\dataset\\data_utils.py 429 \\ - INFO - --------------------\n",
      "2022-07-03 19:59:53 fostool\\dataset\\data_utils.py 457 \\ - INFO - 54537 Rows Before Fill Missing.\n"
     ]
    },
    {
     "name": "stdout",
     "output_type": "stream",
     "text": [
      "CPU times: total: 1min 7s\n",
      "Wall time: 41.7 s\n",
      "imf3_HRB_pd_melt_2020-03-01.csv\n"
     ]
    },
    {
     "name": "stderr",
     "output_type": "stream",
     "text": [
      "2022-07-03 20:00:00 fostool\\dataset\\data_utils.py 461 \\ - INFO - 54537 Rows After Fill Missing.\n",
      "2022-07-03 20:00:00 fostool\\dataset\\data_utils.py 462 \\ - INFO - --------------------\n",
      "2022-07-03 20:00:34 fostool\\task\\fusion.py 71 \\ - INFO -    val_loss             model_name\n",
      "0  0.002376      KRNNModel_01c6_14\n",
      "1  0.002121      KRNNModel_b07a_21\n",
      "2  0.003429       KRNNModel_b681_7\n",
      "6  0.002057  SandwichModel_1f18_14\n",
      "7  0.002812  SandwichModel_7e50_21\n",
      "8  0.001866   SandwichModel_a710_7\n",
      "2022-07-03 20:00:34 fostool\\dataset\\data_utils.py 426 \\ - INFO - 54537 Rows Before Time Reindex.\n",
      "2022-07-03 20:00:34 fostool\\dataset\\data_utils.py 428 \\ - INFO - 54537 Rows After Time Reindex.\n",
      "2022-07-03 20:00:34 fostool\\dataset\\data_utils.py 429 \\ - INFO - --------------------\n",
      "2022-07-03 20:00:34 fostool\\dataset\\data_utils.py 457 \\ - INFO - 54537 Rows Before Fill Missing.\n"
     ]
    },
    {
     "name": "stdout",
     "output_type": "stream",
     "text": [
      "CPU times: total: 1min 5s\n",
      "Wall time: 41.1 s\n",
      "imf3_HRB_pd_melt_2020-03-29.csv\n"
     ]
    },
    {
     "name": "stderr",
     "output_type": "stream",
     "text": [
      "2022-07-03 20:00:41 fostool\\dataset\\data_utils.py 461 \\ - INFO - 54537 Rows After Fill Missing.\n",
      "2022-07-03 20:00:41 fostool\\dataset\\data_utils.py 462 \\ - INFO - --------------------\n",
      "2022-07-03 20:01:16 fostool\\task\\fusion.py 71 \\ - INFO -    val_loss             model_name\n",
      "0  0.002376      KRNNModel_01c6_14\n",
      "1  0.002121      KRNNModel_b07a_21\n",
      "2  0.003429       KRNNModel_b681_7\n",
      "6  0.002057  SandwichModel_1f18_14\n",
      "7  0.002812  SandwichModel_7e50_21\n",
      "8  0.001866   SandwichModel_a710_7\n",
      "2022-07-03 20:01:16 fostool\\dataset\\data_utils.py 426 \\ - INFO - 54537 Rows Before Time Reindex.\n",
      "2022-07-03 20:01:16 fostool\\dataset\\data_utils.py 428 \\ - INFO - 54537 Rows After Time Reindex.\n",
      "2022-07-03 20:01:16 fostool\\dataset\\data_utils.py 429 \\ - INFO - --------------------\n",
      "2022-07-03 20:01:16 fostool\\dataset\\data_utils.py 457 \\ - INFO - 54537 Rows Before Fill Missing.\n"
     ]
    },
    {
     "name": "stdout",
     "output_type": "stream",
     "text": [
      "CPU times: total: 1min 5s\n",
      "Wall time: 41.5 s\n",
      "imf3_HRB_pd_melt_2020-04-26.csv\n"
     ]
    },
    {
     "name": "stderr",
     "output_type": "stream",
     "text": [
      "2022-07-03 20:01:23 fostool\\dataset\\data_utils.py 461 \\ - INFO - 54537 Rows After Fill Missing.\n",
      "2022-07-03 20:01:23 fostool\\dataset\\data_utils.py 462 \\ - INFO - --------------------\n",
      "2022-07-03 20:01:57 fostool\\task\\fusion.py 71 \\ - INFO -    val_loss             model_name\n",
      "0  0.002376      KRNNModel_01c6_14\n",
      "1  0.002121      KRNNModel_b07a_21\n",
      "2  0.003429       KRNNModel_b681_7\n",
      "6  0.002057  SandwichModel_1f18_14\n",
      "7  0.002812  SandwichModel_7e50_21\n",
      "8  0.001866   SandwichModel_a710_7\n",
      "2022-07-03 20:01:57 fostool\\dataset\\data_utils.py 426 \\ - INFO - 54537 Rows Before Time Reindex.\n",
      "2022-07-03 20:01:57 fostool\\dataset\\data_utils.py 428 \\ - INFO - 54537 Rows After Time Reindex.\n",
      "2022-07-03 20:01:57 fostool\\dataset\\data_utils.py 429 \\ - INFO - --------------------\n",
      "2022-07-03 20:01:57 fostool\\dataset\\data_utils.py 457 \\ - INFO - 54537 Rows Before Fill Missing.\n"
     ]
    },
    {
     "name": "stdout",
     "output_type": "stream",
     "text": [
      "CPU times: total: 1min 7s\n",
      "Wall time: 41.1 s\n",
      "imf3_HRB_pd_melt_2020-05-24.csv\n"
     ]
    },
    {
     "name": "stderr",
     "output_type": "stream",
     "text": [
      "2022-07-03 20:02:03 fostool\\dataset\\data_utils.py 461 \\ - INFO - 54537 Rows After Fill Missing.\n",
      "2022-07-03 20:02:03 fostool\\dataset\\data_utils.py 462 \\ - INFO - --------------------\n",
      "2022-07-03 20:02:34 fostool\\task\\fusion.py 71 \\ - INFO -    val_loss             model_name\n",
      "0  0.002376      KRNNModel_01c6_14\n",
      "1  0.002121      KRNNModel_b07a_21\n",
      "2  0.003429       KRNNModel_b681_7\n",
      "6  0.002057  SandwichModel_1f18_14\n",
      "7  0.002812  SandwichModel_7e50_21\n",
      "8  0.001866   SandwichModel_a710_7\n",
      "2022-07-03 20:02:35 fostool\\dataset\\data_utils.py 426 \\ - INFO - 54537 Rows Before Time Reindex.\n",
      "2022-07-03 20:02:35 fostool\\dataset\\data_utils.py 428 \\ - INFO - 54537 Rows After Time Reindex.\n",
      "2022-07-03 20:02:35 fostool\\dataset\\data_utils.py 429 \\ - INFO - --------------------\n",
      "2022-07-03 20:02:35 fostool\\dataset\\data_utils.py 457 \\ - INFO - 54537 Rows Before Fill Missing.\n"
     ]
    },
    {
     "name": "stdout",
     "output_type": "stream",
     "text": [
      "CPU times: total: 1min 4s\n",
      "Wall time: 37.4 s\n",
      "imf3_HRB_pd_melt_2020-06-21.csv\n"
     ]
    },
    {
     "name": "stderr",
     "output_type": "stream",
     "text": [
      "2022-07-03 20:02:40 fostool\\dataset\\data_utils.py 461 \\ - INFO - 54537 Rows After Fill Missing.\n",
      "2022-07-03 20:02:40 fostool\\dataset\\data_utils.py 462 \\ - INFO - --------------------\n",
      "2022-07-03 20:03:12 fostool\\task\\fusion.py 71 \\ - INFO -    val_loss             model_name\n",
      "0  0.002376      KRNNModel_01c6_14\n",
      "1  0.002121      KRNNModel_b07a_21\n",
      "2  0.003429       KRNNModel_b681_7\n",
      "6  0.002057  SandwichModel_1f18_14\n",
      "7  0.002812  SandwichModel_7e50_21\n",
      "8  0.001866   SandwichModel_a710_7\n",
      "2022-07-03 20:03:12 fostool\\dataset\\data_utils.py 426 \\ - INFO - 54537 Rows Before Time Reindex.\n",
      "2022-07-03 20:03:12 fostool\\dataset\\data_utils.py 428 \\ - INFO - 54537 Rows After Time Reindex.\n",
      "2022-07-03 20:03:12 fostool\\dataset\\data_utils.py 429 \\ - INFO - --------------------\n",
      "2022-07-03 20:03:12 fostool\\dataset\\data_utils.py 457 \\ - INFO - 54537 Rows Before Fill Missing.\n"
     ]
    },
    {
     "name": "stdout",
     "output_type": "stream",
     "text": [
      "CPU times: total: 1min 4s\n",
      "Wall time: 37.5 s\n",
      "imf3_HRB_pd_melt_2020-07-19.csv\n"
     ]
    },
    {
     "name": "stderr",
     "output_type": "stream",
     "text": [
      "2022-07-03 20:03:18 fostool\\dataset\\data_utils.py 461 \\ - INFO - 54537 Rows After Fill Missing.\n",
      "2022-07-03 20:03:18 fostool\\dataset\\data_utils.py 462 \\ - INFO - --------------------\n",
      "2022-07-03 20:03:49 fostool\\task\\fusion.py 71 \\ - INFO -    val_loss             model_name\n",
      "0  0.002376      KRNNModel_01c6_14\n",
      "1  0.002121      KRNNModel_b07a_21\n",
      "2  0.003429       KRNNModel_b681_7\n",
      "6  0.002057  SandwichModel_1f18_14\n",
      "7  0.002812  SandwichModel_7e50_21\n",
      "8  0.001866   SandwichModel_a710_7\n",
      "2022-07-03 20:03:49 fostool\\dataset\\data_utils.py 426 \\ - INFO - 54537 Rows Before Time Reindex.\n",
      "2022-07-03 20:03:49 fostool\\dataset\\data_utils.py 428 \\ - INFO - 54537 Rows After Time Reindex.\n",
      "2022-07-03 20:03:49 fostool\\dataset\\data_utils.py 429 \\ - INFO - --------------------\n",
      "2022-07-03 20:03:49 fostool\\dataset\\data_utils.py 457 \\ - INFO - 54537 Rows Before Fill Missing.\n"
     ]
    },
    {
     "name": "stdout",
     "output_type": "stream",
     "text": [
      "CPU times: total: 1min 4s\n",
      "Wall time: 37.2 s\n",
      "imf3_HRB_pd_melt_2020-08-16.csv\n"
     ]
    },
    {
     "name": "stderr",
     "output_type": "stream",
     "text": [
      "2022-07-03 20:03:56 fostool\\dataset\\data_utils.py 461 \\ - INFO - 54537 Rows After Fill Missing.\n",
      "2022-07-03 20:03:56 fostool\\dataset\\data_utils.py 462 \\ - INFO - --------------------\n",
      "2022-07-03 20:04:29 fostool\\task\\fusion.py 71 \\ - INFO -    val_loss             model_name\n",
      "0  0.002376      KRNNModel_01c6_14\n",
      "1  0.002121      KRNNModel_b07a_21\n",
      "2  0.003429       KRNNModel_b681_7\n",
      "6  0.002057  SandwichModel_1f18_14\n",
      "7  0.002812  SandwichModel_7e50_21\n",
      "8  0.001866   SandwichModel_a710_7\n",
      "2022-07-03 20:04:29 fostool\\dataset\\data_utils.py 426 \\ - INFO - 54537 Rows Before Time Reindex.\n",
      "2022-07-03 20:04:29 fostool\\dataset\\data_utils.py 428 \\ - INFO - 54537 Rows After Time Reindex.\n"
     ]
    },
    {
     "name": "stdout",
     "output_type": "stream",
     "text": [
      "CPU times: total: 1min 2s\n",
      "Wall time: 39.3 s\n",
      "imf3_HRB_pd_melt_2020-09-13.csv\n"
     ]
    },
    {
     "name": "stderr",
     "output_type": "stream",
     "text": [
      "2022-07-03 20:04:29 fostool\\dataset\\data_utils.py 429 \\ - INFO - --------------------\n",
      "2022-07-03 20:04:29 fostool\\dataset\\data_utils.py 457 \\ - INFO - 54537 Rows Before Fill Missing.\n",
      "2022-07-03 20:04:35 fostool\\dataset\\data_utils.py 461 \\ - INFO - 54537 Rows After Fill Missing.\n",
      "2022-07-03 20:04:35 fostool\\dataset\\data_utils.py 462 \\ - INFO - --------------------\n",
      "2022-07-03 20:05:08 fostool\\task\\fusion.py 71 \\ - INFO -    val_loss             model_name\n",
      "0  0.002376      KRNNModel_01c6_14\n",
      "1  0.002121      KRNNModel_b07a_21\n",
      "2  0.003429       KRNNModel_b681_7\n",
      "6  0.002057  SandwichModel_1f18_14\n",
      "7  0.002812  SandwichModel_7e50_21\n",
      "8  0.001866   SandwichModel_a710_7\n",
      "2022-07-03 20:05:08 fostool\\dataset\\data_utils.py 426 \\ - INFO - 54537 Rows Before Time Reindex.\n",
      "2022-07-03 20:05:08 fostool\\dataset\\data_utils.py 428 \\ - INFO - 54537 Rows After Time Reindex.\n",
      "2022-07-03 20:05:08 fostool\\dataset\\data_utils.py 429 \\ - INFO - --------------------\n",
      "2022-07-03 20:05:08 fostool\\dataset\\data_utils.py 457 \\ - INFO - 54537 Rows Before Fill Missing.\n"
     ]
    },
    {
     "name": "stdout",
     "output_type": "stream",
     "text": [
      "CPU times: total: 1min 2s\n",
      "Wall time: 39.5 s\n",
      "imf3_HRB_pd_melt_2020-10-11.csv\n"
     ]
    },
    {
     "name": "stderr",
     "output_type": "stream",
     "text": [
      "2022-07-03 20:05:15 fostool\\dataset\\data_utils.py 461 \\ - INFO - 54537 Rows After Fill Missing.\n",
      "2022-07-03 20:05:15 fostool\\dataset\\data_utils.py 462 \\ - INFO - --------------------\n",
      "2022-07-03 20:05:48 fostool\\task\\fusion.py 71 \\ - INFO -    val_loss             model_name\n",
      "0  0.002376      KRNNModel_01c6_14\n",
      "1  0.002121      KRNNModel_b07a_21\n",
      "2  0.003429       KRNNModel_b681_7\n",
      "6  0.002057  SandwichModel_1f18_14\n",
      "7  0.002812  SandwichModel_7e50_21\n",
      "8  0.001866   SandwichModel_a710_7\n",
      "2022-07-03 20:05:48 fostool\\dataset\\data_utils.py 426 \\ - INFO - 54537 Rows Before Time Reindex.\n",
      "2022-07-03 20:05:48 fostool\\dataset\\data_utils.py 428 \\ - INFO - 54537 Rows After Time Reindex.\n",
      "2022-07-03 20:05:48 fostool\\dataset\\data_utils.py 429 \\ - INFO - --------------------\n",
      "2022-07-03 20:05:48 fostool\\dataset\\data_utils.py 457 \\ - INFO - 54537 Rows Before Fill Missing.\n"
     ]
    },
    {
     "name": "stdout",
     "output_type": "stream",
     "text": [
      "CPU times: total: 1min 4s\n",
      "Wall time: 40 s\n",
      "imf3_HRB_pd_melt_2020-11-08.csv\n"
     ]
    },
    {
     "name": "stderr",
     "output_type": "stream",
     "text": [
      "2022-07-03 20:05:55 fostool\\dataset\\data_utils.py 461 \\ - INFO - 54537 Rows After Fill Missing.\n",
      "2022-07-03 20:05:55 fostool\\dataset\\data_utils.py 462 \\ - INFO - --------------------\n",
      "2022-07-03 20:06:27 fostool\\task\\fusion.py 71 \\ - INFO -    val_loss             model_name\n",
      "0  0.002376      KRNNModel_01c6_14\n",
      "1  0.002121      KRNNModel_b07a_21\n",
      "2  0.003429       KRNNModel_b681_7\n",
      "6  0.002057  SandwichModel_1f18_14\n",
      "7  0.002812  SandwichModel_7e50_21\n",
      "8  0.001866   SandwichModel_a710_7\n",
      "2022-07-03 20:06:28 fostool\\dataset\\data_utils.py 426 \\ - INFO - 54537 Rows Before Time Reindex.\n",
      "2022-07-03 20:06:28 fostool\\dataset\\data_utils.py 428 \\ - INFO - 54537 Rows After Time Reindex.\n",
      "2022-07-03 20:06:28 fostool\\dataset\\data_utils.py 429 \\ - INFO - --------------------\n",
      "2022-07-03 20:06:28 fostool\\dataset\\data_utils.py 457 \\ - INFO - 54537 Rows Before Fill Missing.\n"
     ]
    },
    {
     "name": "stdout",
     "output_type": "stream",
     "text": [
      "CPU times: total: 1min 2s\n",
      "Wall time: 39.3 s\n",
      "imf3_HRB_pd_melt_2020-12-06.csv\n"
     ]
    },
    {
     "name": "stderr",
     "output_type": "stream",
     "text": [
      "2022-07-03 20:06:34 fostool\\dataset\\data_utils.py 461 \\ - INFO - 54537 Rows After Fill Missing.\n",
      "2022-07-03 20:06:34 fostool\\dataset\\data_utils.py 462 \\ - INFO - --------------------\n",
      "2022-07-03 20:07:07 fostool\\task\\fusion.py 71 \\ - INFO -    val_loss             model_name\n",
      "0  0.002376      KRNNModel_01c6_14\n",
      "1  0.002121      KRNNModel_b07a_21\n",
      "2  0.003429       KRNNModel_b681_7\n",
      "6  0.002057  SandwichModel_1f18_14\n",
      "7  0.002812  SandwichModel_7e50_21\n",
      "8  0.001866   SandwichModel_a710_7\n",
      "2022-07-03 20:07:07 fostool\\dataset\\data_utils.py 426 \\ - INFO - 54537 Rows Before Time Reindex.\n",
      "2022-07-03 20:07:07 fostool\\dataset\\data_utils.py 428 \\ - INFO - 54537 Rows After Time Reindex.\n",
      "2022-07-03 20:07:07 fostool\\dataset\\data_utils.py 429 \\ - INFO - --------------------\n",
      "2022-07-03 20:07:07 fostool\\dataset\\data_utils.py 457 \\ - INFO - 54537 Rows Before Fill Missing.\n"
     ]
    },
    {
     "name": "stdout",
     "output_type": "stream",
     "text": [
      "CPU times: total: 1min 2s\n",
      "Wall time: 39.5 s\n",
      "imf3_HRB_pd_melt_2021-01-03.csv\n"
     ]
    },
    {
     "name": "stderr",
     "output_type": "stream",
     "text": [
      "2022-07-03 20:07:14 fostool\\dataset\\data_utils.py 461 \\ - INFO - 54537 Rows After Fill Missing.\n",
      "2022-07-03 20:07:14 fostool\\dataset\\data_utils.py 462 \\ - INFO - --------------------\n",
      "2022-07-03 20:07:47 fostool\\task\\fusion.py 71 \\ - INFO -    val_loss             model_name\n",
      "0  0.002376      KRNNModel_01c6_14\n",
      "1  0.002121      KRNNModel_b07a_21\n",
      "2  0.003429       KRNNModel_b681_7\n",
      "6  0.002057  SandwichModel_1f18_14\n",
      "7  0.002812  SandwichModel_7e50_21\n",
      "8  0.001866   SandwichModel_a710_7\n",
      "2022-07-03 20:07:47 fostool\\task\\config_handler.py 28 \\ - INFO - yaml handler load path: C:\\Users\\Xiaoyi Wang\\.conda\\envs\\geo_env\\lib\\site-packages\\fostool\\config/default.yaml\n"
     ]
    },
    {
     "name": "stdout",
     "output_type": "stream",
     "text": [
      "CPU times: total: 1min 5s\n",
      "Wall time: 40.1 s\n",
      "imf4_HRB_pd_melt_2019-03-03.csv\n"
     ]
    },
    {
     "name": "stderr",
     "output_type": "stream",
     "text": [
      "2022-07-03 20:07:47 fostool\\dataset\\data_utils.py 426 \\ - INFO - 54537 Rows Before Time Reindex.\n",
      "2022-07-03 20:07:47 fostool\\dataset\\data_utils.py 428 \\ - INFO - 54537 Rows After Time Reindex.\n",
      "2022-07-03 20:07:47 fostool\\dataset\\data_utils.py 429 \\ - INFO - --------------------\n",
      "2022-07-03 20:07:47 fostool\\dataset\\data_utils.py 457 \\ - INFO - 54537 Rows Before Fill Missing.\n",
      "2022-07-03 20:07:54 fostool\\dataset\\data_utils.py 461 \\ - INFO - 54537 Rows After Fill Missing.\n",
      "2022-07-03 20:07:54 fostool\\dataset\\data_utils.py 462 \\ - INFO - --------------------\n",
      "2022-07-03 20:08:27 fostool\\task\\fusion.py 71 \\ - INFO -    val_loss             model_name\n",
      "0  0.000081      KRNNModel_01c6_14\n",
      "1  0.000092      KRNNModel_b07a_21\n",
      "6  0.000083  SandwichModel_1f18_14\n",
      "7  0.000040  SandwichModel_7e50_21\n",
      "2022-07-03 20:08:27 fostool\\dataset\\data_utils.py 426 \\ - INFO - 54537 Rows Before Time Reindex.\n",
      "2022-07-03 20:08:27 fostool\\dataset\\data_utils.py 428 \\ - INFO - 54537 Rows After Time Reindex.\n",
      "2022-07-03 20:08:27 fostool\\dataset\\data_utils.py 429 \\ - INFO - --------------------\n",
      "2022-07-03 20:08:27 fostool\\dataset\\data_utils.py 457 \\ - INFO - 54537 Rows Before Fill Missing.\n"
     ]
    },
    {
     "name": "stdout",
     "output_type": "stream",
     "text": [
      "CPU times: total: 1min 2s\n",
      "Wall time: 39.3 s\n",
      "imf4_HRB_pd_melt_2019-03-31.csv\n"
     ]
    },
    {
     "name": "stderr",
     "output_type": "stream",
     "text": [
      "2022-07-03 20:08:34 fostool\\dataset\\data_utils.py 461 \\ - INFO - 54537 Rows After Fill Missing.\n",
      "2022-07-03 20:08:34 fostool\\dataset\\data_utils.py 462 \\ - INFO - --------------------\n",
      "2022-07-03 20:09:07 fostool\\task\\fusion.py 71 \\ - INFO -    val_loss             model_name\n",
      "0  0.000081      KRNNModel_01c6_14\n",
      "1  0.000092      KRNNModel_b07a_21\n",
      "6  0.000083  SandwichModel_1f18_14\n",
      "7  0.000040  SandwichModel_7e50_21\n",
      "2022-07-03 20:09:07 fostool\\dataset\\data_utils.py 426 \\ - INFO - 54537 Rows Before Time Reindex.\n",
      "2022-07-03 20:09:07 fostool\\dataset\\data_utils.py 428 \\ - INFO - 54537 Rows After Time Reindex.\n",
      "2022-07-03 20:09:07 fostool\\dataset\\data_utils.py 429 \\ - INFO - --------------------\n",
      "2022-07-03 20:09:07 fostool\\dataset\\data_utils.py 457 \\ - INFO - 54537 Rows Before Fill Missing.\n"
     ]
    },
    {
     "name": "stdout",
     "output_type": "stream",
     "text": [
      "CPU times: total: 1min 3s\n",
      "Wall time: 39.9 s\n",
      "imf4_HRB_pd_melt_2019-04-28.csv\n"
     ]
    },
    {
     "name": "stderr",
     "output_type": "stream",
     "text": [
      "2022-07-03 20:09:14 fostool\\dataset\\data_utils.py 461 \\ - INFO - 54537 Rows After Fill Missing.\n",
      "2022-07-03 20:09:14 fostool\\dataset\\data_utils.py 462 \\ - INFO - --------------------\n",
      "2022-07-03 20:09:46 fostool\\task\\fusion.py 71 \\ - INFO -    val_loss             model_name\n",
      "0  0.000081      KRNNModel_01c6_14\n",
      "1  0.000092      KRNNModel_b07a_21\n",
      "6  0.000083  SandwichModel_1f18_14\n",
      "7  0.000040  SandwichModel_7e50_21\n",
      "2022-07-03 20:09:46 fostool\\dataset\\data_utils.py 426 \\ - INFO - 54537 Rows Before Time Reindex.\n",
      "2022-07-03 20:09:46 fostool\\dataset\\data_utils.py 428 \\ - INFO - 54537 Rows After Time Reindex.\n",
      "2022-07-03 20:09:46 fostool\\dataset\\data_utils.py 429 \\ - INFO - --------------------\n",
      "2022-07-03 20:09:46 fostool\\dataset\\data_utils.py 457 \\ - INFO - 54537 Rows Before Fill Missing.\n"
     ]
    },
    {
     "name": "stdout",
     "output_type": "stream",
     "text": [
      "CPU times: total: 1min 4s\n",
      "Wall time: 39.6 s\n",
      "imf4_HRB_pd_melt_2019-05-26.csv\n"
     ]
    },
    {
     "name": "stderr",
     "output_type": "stream",
     "text": [
      "2022-07-03 20:09:53 fostool\\dataset\\data_utils.py 461 \\ - INFO - 54537 Rows After Fill Missing.\n",
      "2022-07-03 20:09:53 fostool\\dataset\\data_utils.py 462 \\ - INFO - --------------------\n",
      "2022-07-03 20:10:25 fostool\\task\\fusion.py 71 \\ - INFO -    val_loss             model_name\n",
      "0  0.000081      KRNNModel_01c6_14\n",
      "1  0.000092      KRNNModel_b07a_21\n",
      "6  0.000083  SandwichModel_1f18_14\n",
      "7  0.000040  SandwichModel_7e50_21\n",
      "2022-07-03 20:10:25 fostool\\dataset\\data_utils.py 426 \\ - INFO - 54537 Rows Before Time Reindex.\n",
      "2022-07-03 20:10:25 fostool\\dataset\\data_utils.py 428 \\ - INFO - 54537 Rows After Time Reindex.\n",
      "2022-07-03 20:10:25 fostool\\dataset\\data_utils.py 429 \\ - INFO - --------------------\n",
      "2022-07-03 20:10:25 fostool\\dataset\\data_utils.py 457 \\ - INFO - 54537 Rows Before Fill Missing.\n"
     ]
    },
    {
     "name": "stdout",
     "output_type": "stream",
     "text": [
      "CPU times: total: 1min 2s\n",
      "Wall time: 38.9 s\n",
      "imf4_HRB_pd_melt_2019-06-23.csv\n"
     ]
    },
    {
     "name": "stderr",
     "output_type": "stream",
     "text": [
      "2022-07-03 20:10:33 fostool\\dataset\\data_utils.py 461 \\ - INFO - 54537 Rows After Fill Missing.\n",
      "2022-07-03 20:10:33 fostool\\dataset\\data_utils.py 462 \\ - INFO - --------------------\n",
      "2022-07-03 20:11:05 fostool\\task\\fusion.py 71 \\ - INFO -    val_loss             model_name\n",
      "0  0.000081      KRNNModel_01c6_14\n",
      "1  0.000092      KRNNModel_b07a_21\n",
      "6  0.000083  SandwichModel_1f18_14\n",
      "7  0.000040  SandwichModel_7e50_21\n",
      "2022-07-03 20:11:05 fostool\\dataset\\data_utils.py 426 \\ - INFO - 54537 Rows Before Time Reindex.\n",
      "2022-07-03 20:11:05 fostool\\dataset\\data_utils.py 428 \\ - INFO - 54537 Rows After Time Reindex.\n",
      "2022-07-03 20:11:05 fostool\\dataset\\data_utils.py 429 \\ - INFO - --------------------\n",
      "2022-07-03 20:11:05 fostool\\dataset\\data_utils.py 457 \\ - INFO - 54537 Rows Before Fill Missing.\n"
     ]
    },
    {
     "name": "stdout",
     "output_type": "stream",
     "text": [
      "CPU times: total: 1min 3s\n",
      "Wall time: 39.5 s\n",
      "imf4_HRB_pd_melt_2019-07-21.csv\n"
     ]
    },
    {
     "name": "stderr",
     "output_type": "stream",
     "text": [
      "2022-07-03 20:11:11 fostool\\dataset\\data_utils.py 461 \\ - INFO - 54537 Rows After Fill Missing.\n",
      "2022-07-03 20:11:11 fostool\\dataset\\data_utils.py 462 \\ - INFO - --------------------\n",
      "2022-07-03 20:11:45 fostool\\task\\fusion.py 71 \\ - INFO -    val_loss             model_name\n",
      "0  0.000081      KRNNModel_01c6_14\n",
      "1  0.000092      KRNNModel_b07a_21\n",
      "6  0.000083  SandwichModel_1f18_14\n",
      "7  0.000040  SandwichModel_7e50_21\n",
      "2022-07-03 20:11:45 fostool\\dataset\\data_utils.py 426 \\ - INFO - 54537 Rows Before Time Reindex.\n",
      "2022-07-03 20:11:45 fostool\\dataset\\data_utils.py 428 \\ - INFO - 54537 Rows After Time Reindex.\n"
     ]
    },
    {
     "name": "stdout",
     "output_type": "stream",
     "text": [
      "CPU times: total: 1min 4s\n",
      "Wall time: 40.4 s\n",
      "imf4_HRB_pd_melt_2019-08-18.csv\n"
     ]
    },
    {
     "name": "stderr",
     "output_type": "stream",
     "text": [
      "2022-07-03 20:11:45 fostool\\dataset\\data_utils.py 429 \\ - INFO - --------------------\n",
      "2022-07-03 20:11:45 fostool\\dataset\\data_utils.py 457 \\ - INFO - 54537 Rows Before Fill Missing.\n",
      "2022-07-03 20:11:52 fostool\\dataset\\data_utils.py 461 \\ - INFO - 54537 Rows After Fill Missing.\n",
      "2022-07-03 20:11:52 fostool\\dataset\\data_utils.py 462 \\ - INFO - --------------------\n",
      "2022-07-03 20:12:24 fostool\\task\\fusion.py 71 \\ - INFO -    val_loss             model_name\n",
      "0  0.000081      KRNNModel_01c6_14\n",
      "1  0.000092      KRNNModel_b07a_21\n",
      "6  0.000083  SandwichModel_1f18_14\n",
      "7  0.000040  SandwichModel_7e50_21\n",
      "2022-07-03 20:12:25 fostool\\dataset\\data_utils.py 426 \\ - INFO - 54537 Rows Before Time Reindex.\n",
      "2022-07-03 20:12:25 fostool\\dataset\\data_utils.py 428 \\ - INFO - 54537 Rows After Time Reindex.\n",
      "2022-07-03 20:12:25 fostool\\dataset\\data_utils.py 429 \\ - INFO - --------------------\n",
      "2022-07-03 20:12:25 fostool\\dataset\\data_utils.py 457 \\ - INFO - 54537 Rows Before Fill Missing.\n"
     ]
    },
    {
     "name": "stdout",
     "output_type": "stream",
     "text": [
      "CPU times: total: 1min 2s\n",
      "Wall time: 39.3 s\n",
      "imf4_HRB_pd_melt_2019-09-15.csv\n"
     ]
    },
    {
     "name": "stderr",
     "output_type": "stream",
     "text": [
      "2022-07-03 20:12:31 fostool\\dataset\\data_utils.py 461 \\ - INFO - 54537 Rows After Fill Missing.\n",
      "2022-07-03 20:12:31 fostool\\dataset\\data_utils.py 462 \\ - INFO - --------------------\n",
      "2022-07-03 20:13:05 fostool\\task\\fusion.py 71 \\ - INFO -    val_loss             model_name\n",
      "0  0.000081      KRNNModel_01c6_14\n",
      "1  0.000092      KRNNModel_b07a_21\n",
      "6  0.000083  SandwichModel_1f18_14\n",
      "7  0.000040  SandwichModel_7e50_21\n",
      "2022-07-03 20:13:05 fostool\\dataset\\data_utils.py 426 \\ - INFO - 54537 Rows Before Time Reindex.\n",
      "2022-07-03 20:13:05 fostool\\dataset\\data_utils.py 428 \\ - INFO - 54537 Rows After Time Reindex.\n",
      "2022-07-03 20:13:05 fostool\\dataset\\data_utils.py 429 \\ - INFO - --------------------\n",
      "2022-07-03 20:13:05 fostool\\dataset\\data_utils.py 457 \\ - INFO - 54537 Rows Before Fill Missing.\n"
     ]
    },
    {
     "name": "stdout",
     "output_type": "stream",
     "text": [
      "CPU times: total: 1min 5s\n",
      "Wall time: 40.6 s\n",
      "imf4_HRB_pd_melt_2019-10-13.csv\n"
     ]
    },
    {
     "name": "stderr",
     "output_type": "stream",
     "text": [
      "2022-07-03 20:13:12 fostool\\dataset\\data_utils.py 461 \\ - INFO - 54537 Rows After Fill Missing.\n",
      "2022-07-03 20:13:12 fostool\\dataset\\data_utils.py 462 \\ - INFO - --------------------\n",
      "2022-07-03 20:13:45 fostool\\task\\fusion.py 71 \\ - INFO -    val_loss             model_name\n",
      "0  0.000081      KRNNModel_01c6_14\n",
      "1  0.000092      KRNNModel_b07a_21\n",
      "6  0.000083  SandwichModel_1f18_14\n",
      "7  0.000040  SandwichModel_7e50_21\n",
      "2022-07-03 20:13:46 fostool\\dataset\\data_utils.py 426 \\ - INFO - 54537 Rows Before Time Reindex.\n",
      "2022-07-03 20:13:46 fostool\\dataset\\data_utils.py 428 \\ - INFO - 54537 Rows After Time Reindex.\n",
      "2022-07-03 20:13:46 fostool\\dataset\\data_utils.py 429 \\ - INFO - --------------------\n",
      "2022-07-03 20:13:46 fostool\\dataset\\data_utils.py 457 \\ - INFO - 54537 Rows Before Fill Missing.\n"
     ]
    },
    {
     "name": "stdout",
     "output_type": "stream",
     "text": [
      "CPU times: total: 1min 4s\n",
      "Wall time: 40.3 s\n",
      "imf4_HRB_pd_melt_2019-11-10.csv\n"
     ]
    },
    {
     "name": "stderr",
     "output_type": "stream",
     "text": [
      "2022-07-03 20:13:52 fostool\\dataset\\data_utils.py 461 \\ - INFO - 54537 Rows After Fill Missing.\n",
      "2022-07-03 20:13:52 fostool\\dataset\\data_utils.py 462 \\ - INFO - --------------------\n",
      "2022-07-03 20:14:26 fostool\\task\\fusion.py 71 \\ - INFO -    val_loss             model_name\n",
      "0  0.000081      KRNNModel_01c6_14\n",
      "1  0.000092      KRNNModel_b07a_21\n",
      "6  0.000083  SandwichModel_1f18_14\n",
      "7  0.000040  SandwichModel_7e50_21\n",
      "2022-07-03 20:14:26 fostool\\dataset\\data_utils.py 426 \\ - INFO - 54537 Rows Before Time Reindex.\n",
      "2022-07-03 20:14:26 fostool\\dataset\\data_utils.py 428 \\ - INFO - 54537 Rows After Time Reindex.\n",
      "2022-07-03 20:14:26 fostool\\dataset\\data_utils.py 429 \\ - INFO - --------------------\n",
      "2022-07-03 20:14:26 fostool\\dataset\\data_utils.py 457 \\ - INFO - 54537 Rows Before Fill Missing.\n"
     ]
    },
    {
     "name": "stdout",
     "output_type": "stream",
     "text": [
      "CPU times: total: 1min 3s\n",
      "Wall time: 40.4 s\n",
      "imf4_HRB_pd_melt_2019-12-08.csv\n"
     ]
    },
    {
     "name": "stderr",
     "output_type": "stream",
     "text": [
      "2022-07-03 20:14:33 fostool\\dataset\\data_utils.py 461 \\ - INFO - 54537 Rows After Fill Missing.\n",
      "2022-07-03 20:14:33 fostool\\dataset\\data_utils.py 462 \\ - INFO - --------------------\n",
      "2022-07-03 20:15:05 fostool\\task\\fusion.py 71 \\ - INFO -    val_loss             model_name\n",
      "0  0.000081      KRNNModel_01c6_14\n",
      "1  0.000092      KRNNModel_b07a_21\n",
      "6  0.000083  SandwichModel_1f18_14\n",
      "7  0.000040  SandwichModel_7e50_21\n",
      "2022-07-03 20:15:06 fostool\\dataset\\data_utils.py 426 \\ - INFO - 54537 Rows Before Time Reindex.\n",
      "2022-07-03 20:15:06 fostool\\dataset\\data_utils.py 428 \\ - INFO - 54537 Rows After Time Reindex.\n",
      "2022-07-03 20:15:06 fostool\\dataset\\data_utils.py 429 \\ - INFO - --------------------\n",
      "2022-07-03 20:15:06 fostool\\dataset\\data_utils.py 457 \\ - INFO - 54537 Rows Before Fill Missing.\n"
     ]
    },
    {
     "name": "stdout",
     "output_type": "stream",
     "text": [
      "CPU times: total: 1min 2s\n",
      "Wall time: 39.5 s\n",
      "imf4_HRB_pd_melt_2020-01-05.csv\n"
     ]
    },
    {
     "name": "stderr",
     "output_type": "stream",
     "text": [
      "2022-07-03 20:15:12 fostool\\dataset\\data_utils.py 461 \\ - INFO - 54537 Rows After Fill Missing.\n",
      "2022-07-03 20:15:12 fostool\\dataset\\data_utils.py 462 \\ - INFO - --------------------\n",
      "2022-07-03 20:15:45 fostool\\task\\fusion.py 71 \\ - INFO -    val_loss             model_name\n",
      "0  0.000081      KRNNModel_01c6_14\n",
      "1  0.000092      KRNNModel_b07a_21\n",
      "6  0.000083  SandwichModel_1f18_14\n",
      "7  0.000040  SandwichModel_7e50_21\n",
      "2022-07-03 20:15:45 fostool\\dataset\\data_utils.py 426 \\ - INFO - 54537 Rows Before Time Reindex.\n",
      "2022-07-03 20:15:45 fostool\\dataset\\data_utils.py 428 \\ - INFO - 54537 Rows After Time Reindex.\n",
      "2022-07-03 20:15:45 fostool\\dataset\\data_utils.py 429 \\ - INFO - --------------------\n",
      "2022-07-03 20:15:45 fostool\\dataset\\data_utils.py 457 \\ - INFO - 54537 Rows Before Fill Missing.\n"
     ]
    },
    {
     "name": "stdout",
     "output_type": "stream",
     "text": [
      "CPU times: total: 1min 2s\n",
      "Wall time: 39.5 s\n",
      "imf4_HRB_pd_melt_2020-02-02.csv\n"
     ]
    },
    {
     "name": "stderr",
     "output_type": "stream",
     "text": [
      "2022-07-03 20:15:51 fostool\\dataset\\data_utils.py 461 \\ - INFO - 54537 Rows After Fill Missing.\n",
      "2022-07-03 20:15:51 fostool\\dataset\\data_utils.py 462 \\ - INFO - --------------------\n",
      "2022-07-03 20:16:25 fostool\\task\\fusion.py 71 \\ - INFO -    val_loss             model_name\n",
      "0  0.000081      KRNNModel_01c6_14\n",
      "1  0.000092      KRNNModel_b07a_21\n",
      "6  0.000083  SandwichModel_1f18_14\n",
      "7  0.000040  SandwichModel_7e50_21\n",
      "2022-07-03 20:16:25 fostool\\dataset\\data_utils.py 426 \\ - INFO - 54537 Rows Before Time Reindex.\n",
      "2022-07-03 20:16:26 fostool\\dataset\\data_utils.py 428 \\ - INFO - 54537 Rows After Time Reindex.\n",
      "2022-07-03 20:16:26 fostool\\dataset\\data_utils.py 429 \\ - INFO - --------------------\n",
      "2022-07-03 20:16:26 fostool\\dataset\\data_utils.py 457 \\ - INFO - 54537 Rows Before Fill Missing.\n"
     ]
    },
    {
     "name": "stdout",
     "output_type": "stream",
     "text": [
      "CPU times: total: 1min 5s\n",
      "Wall time: 40.4 s\n",
      "imf4_HRB_pd_melt_2020-03-01.csv\n"
     ]
    },
    {
     "name": "stderr",
     "output_type": "stream",
     "text": [
      "2022-07-03 20:16:32 fostool\\dataset\\data_utils.py 461 \\ - INFO - 54537 Rows After Fill Missing.\n",
      "2022-07-03 20:16:32 fostool\\dataset\\data_utils.py 462 \\ - INFO - --------------------\n",
      "2022-07-03 20:17:05 fostool\\task\\fusion.py 71 \\ - INFO -    val_loss             model_name\n",
      "0  0.000081      KRNNModel_01c6_14\n",
      "1  0.000092      KRNNModel_b07a_21\n",
      "6  0.000083  SandwichModel_1f18_14\n",
      "7  0.000040  SandwichModel_7e50_21\n",
      "2022-07-03 20:17:05 fostool\\dataset\\data_utils.py 426 \\ - INFO - 54537 Rows Before Time Reindex.\n",
      "2022-07-03 20:17:05 fostool\\dataset\\data_utils.py 428 \\ - INFO - 54537 Rows After Time Reindex.\n",
      "2022-07-03 20:17:05 fostool\\dataset\\data_utils.py 429 \\ - INFO - --------------------\n",
      "2022-07-03 20:17:05 fostool\\dataset\\data_utils.py 457 \\ - INFO - 54537 Rows Before Fill Missing.\n"
     ]
    },
    {
     "name": "stdout",
     "output_type": "stream",
     "text": [
      "CPU times: total: 1min 2s\n",
      "Wall time: 39.7 s\n",
      "imf4_HRB_pd_melt_2020-03-29.csv\n"
     ]
    },
    {
     "name": "stderr",
     "output_type": "stream",
     "text": [
      "2022-07-03 20:17:12 fostool\\dataset\\data_utils.py 461 \\ - INFO - 54537 Rows After Fill Missing.\n",
      "2022-07-03 20:17:12 fostool\\dataset\\data_utils.py 462 \\ - INFO - --------------------\n",
      "2022-07-03 20:17:46 fostool\\task\\fusion.py 71 \\ - INFO -    val_loss             model_name\n",
      "0  0.000081      KRNNModel_01c6_14\n",
      "1  0.000092      KRNNModel_b07a_21\n",
      "6  0.000083  SandwichModel_1f18_14\n",
      "7  0.000040  SandwichModel_7e50_21\n",
      "2022-07-03 20:17:46 fostool\\dataset\\data_utils.py 426 \\ - INFO - 54537 Rows Before Time Reindex.\n",
      "2022-07-03 20:17:46 fostool\\dataset\\data_utils.py 428 \\ - INFO - 54537 Rows After Time Reindex.\n",
      "2022-07-03 20:17:46 fostool\\dataset\\data_utils.py 429 \\ - INFO - --------------------\n",
      "2022-07-03 20:17:46 fostool\\dataset\\data_utils.py 457 \\ - INFO - 54537 Rows Before Fill Missing.\n"
     ]
    },
    {
     "name": "stdout",
     "output_type": "stream",
     "text": [
      "CPU times: total: 1min 4s\n",
      "Wall time: 40.8 s\n",
      "imf4_HRB_pd_melt_2020-04-26.csv\n"
     ]
    },
    {
     "name": "stderr",
     "output_type": "stream",
     "text": [
      "2022-07-03 20:17:53 fostool\\dataset\\data_utils.py 461 \\ - INFO - 54537 Rows After Fill Missing.\n",
      "2022-07-03 20:17:53 fostool\\dataset\\data_utils.py 462 \\ - INFO - --------------------\n",
      "2022-07-03 20:18:26 fostool\\task\\fusion.py 71 \\ - INFO -    val_loss             model_name\n",
      "0  0.000081      KRNNModel_01c6_14\n",
      "1  0.000092      KRNNModel_b07a_21\n",
      "6  0.000083  SandwichModel_1f18_14\n",
      "7  0.000040  SandwichModel_7e50_21\n",
      "2022-07-03 20:18:26 fostool\\dataset\\data_utils.py 426 \\ - INFO - 54537 Rows Before Time Reindex.\n",
      "2022-07-03 20:18:26 fostool\\dataset\\data_utils.py 428 \\ - INFO - 54537 Rows After Time Reindex.\n",
      "2022-07-03 20:18:26 fostool\\dataset\\data_utils.py 429 \\ - INFO - --------------------\n",
      "2022-07-03 20:18:26 fostool\\dataset\\data_utils.py 457 \\ - INFO - 54537 Rows Before Fill Missing.\n"
     ]
    },
    {
     "name": "stdout",
     "output_type": "stream",
     "text": [
      "CPU times: total: 1min 3s\n",
      "Wall time: 40.1 s\n",
      "imf4_HRB_pd_melt_2020-05-24.csv\n"
     ]
    },
    {
     "name": "stderr",
     "output_type": "stream",
     "text": [
      "2022-07-03 20:18:33 fostool\\dataset\\data_utils.py 461 \\ - INFO - 54537 Rows After Fill Missing.\n",
      "2022-07-03 20:18:33 fostool\\dataset\\data_utils.py 462 \\ - INFO - --------------------\n",
      "2022-07-03 20:19:05 fostool\\task\\fusion.py 71 \\ - INFO -    val_loss             model_name\n",
      "0  0.000081      KRNNModel_01c6_14\n",
      "1  0.000092      KRNNModel_b07a_21\n",
      "6  0.000083  SandwichModel_1f18_14\n",
      "7  0.000040  SandwichModel_7e50_21\n",
      "2022-07-03 20:19:05 fostool\\dataset\\data_utils.py 426 \\ - INFO - 54537 Rows Before Time Reindex.\n",
      "2022-07-03 20:19:05 fostool\\dataset\\data_utils.py 428 \\ - INFO - 54537 Rows After Time Reindex.\n",
      "2022-07-03 20:19:05 fostool\\dataset\\data_utils.py 429 \\ - INFO - --------------------\n",
      "2022-07-03 20:19:05 fostool\\dataset\\data_utils.py 457 \\ - INFO - 54537 Rows Before Fill Missing.\n"
     ]
    },
    {
     "name": "stdout",
     "output_type": "stream",
     "text": [
      "CPU times: total: 1min 2s\n",
      "Wall time: 39.2 s\n",
      "imf4_HRB_pd_melt_2020-06-21.csv\n"
     ]
    },
    {
     "name": "stderr",
     "output_type": "stream",
     "text": [
      "2022-07-03 20:19:12 fostool\\dataset\\data_utils.py 461 \\ - INFO - 54537 Rows After Fill Missing.\n",
      "2022-07-03 20:19:12 fostool\\dataset\\data_utils.py 462 \\ - INFO - --------------------\n",
      "2022-07-03 20:19:46 fostool\\task\\fusion.py 71 \\ - INFO -    val_loss             model_name\n",
      "0  0.000081      KRNNModel_01c6_14\n",
      "1  0.000092      KRNNModel_b07a_21\n",
      "6  0.000083  SandwichModel_1f18_14\n",
      "7  0.000040  SandwichModel_7e50_21\n",
      "2022-07-03 20:19:46 fostool\\dataset\\data_utils.py 426 \\ - INFO - 54537 Rows Before Time Reindex.\n",
      "2022-07-03 20:19:46 fostool\\dataset\\data_utils.py 428 \\ - INFO - 54537 Rows After Time Reindex.\n",
      "2022-07-03 20:19:46 fostool\\dataset\\data_utils.py 429 \\ - INFO - --------------------\n",
      "2022-07-03 20:19:46 fostool\\dataset\\data_utils.py 457 \\ - INFO - 54537 Rows Before Fill Missing.\n"
     ]
    },
    {
     "name": "stdout",
     "output_type": "stream",
     "text": [
      "CPU times: total: 1min 5s\n",
      "Wall time: 40.7 s\n",
      "imf4_HRB_pd_melt_2020-07-19.csv\n"
     ]
    },
    {
     "name": "stderr",
     "output_type": "stream",
     "text": [
      "2022-07-03 20:19:53 fostool\\dataset\\data_utils.py 461 \\ - INFO - 54537 Rows After Fill Missing.\n",
      "2022-07-03 20:19:53 fostool\\dataset\\data_utils.py 462 \\ - INFO - --------------------\n",
      "2022-07-03 20:20:25 fostool\\task\\fusion.py 71 \\ - INFO -    val_loss             model_name\n",
      "0  0.000081      KRNNModel_01c6_14\n",
      "1  0.000092      KRNNModel_b07a_21\n",
      "6  0.000083  SandwichModel_1f18_14\n",
      "7  0.000040  SandwichModel_7e50_21\n",
      "2022-07-03 20:20:25 fostool\\dataset\\data_utils.py 426 \\ - INFO - 54537 Rows Before Time Reindex.\n",
      "2022-07-03 20:20:26 fostool\\dataset\\data_utils.py 428 \\ - INFO - 54537 Rows After Time Reindex.\n",
      "2022-07-03 20:20:26 fostool\\dataset\\data_utils.py 429 \\ - INFO - --------------------\n",
      "2022-07-03 20:20:26 fostool\\dataset\\data_utils.py 457 \\ - INFO - 54537 Rows Before Fill Missing.\n"
     ]
    },
    {
     "name": "stdout",
     "output_type": "stream",
     "text": [
      "CPU times: total: 1min 3s\n",
      "Wall time: 39.2 s\n",
      "imf4_HRB_pd_melt_2020-08-16.csv\n"
     ]
    },
    {
     "name": "stderr",
     "output_type": "stream",
     "text": [
      "2022-07-03 20:20:32 fostool\\dataset\\data_utils.py 461 \\ - INFO - 54537 Rows After Fill Missing.\n",
      "2022-07-03 20:20:32 fostool\\dataset\\data_utils.py 462 \\ - INFO - --------------------\n",
      "2022-07-03 20:21:05 fostool\\task\\fusion.py 71 \\ - INFO -    val_loss             model_name\n",
      "0  0.000081      KRNNModel_01c6_14\n",
      "1  0.000092      KRNNModel_b07a_21\n",
      "6  0.000083  SandwichModel_1f18_14\n",
      "7  0.000040  SandwichModel_7e50_21\n",
      "2022-07-03 20:21:05 fostool\\dataset\\data_utils.py 426 \\ - INFO - 54537 Rows Before Time Reindex.\n",
      "2022-07-03 20:21:05 fostool\\dataset\\data_utils.py 428 \\ - INFO - 54537 Rows After Time Reindex.\n",
      "2022-07-03 20:21:05 fostool\\dataset\\data_utils.py 429 \\ - INFO - --------------------\n",
      "2022-07-03 20:21:05 fostool\\dataset\\data_utils.py 457 \\ - INFO - 54537 Rows Before Fill Missing.\n"
     ]
    },
    {
     "name": "stdout",
     "output_type": "stream",
     "text": [
      "CPU times: total: 1min 3s\n",
      "Wall time: 39.8 s\n",
      "imf4_HRB_pd_melt_2020-09-13.csv\n"
     ]
    },
    {
     "name": "stderr",
     "output_type": "stream",
     "text": [
      "2022-07-03 20:21:12 fostool\\dataset\\data_utils.py 461 \\ - INFO - 54537 Rows After Fill Missing.\n",
      "2022-07-03 20:21:12 fostool\\dataset\\data_utils.py 462 \\ - INFO - --------------------\n",
      "2022-07-03 20:21:45 fostool\\task\\fusion.py 71 \\ - INFO -    val_loss             model_name\n",
      "0  0.000081      KRNNModel_01c6_14\n",
      "1  0.000092      KRNNModel_b07a_21\n",
      "6  0.000083  SandwichModel_1f18_14\n",
      "7  0.000040  SandwichModel_7e50_21\n",
      "2022-07-03 20:21:45 fostool\\dataset\\data_utils.py 426 \\ - INFO - 54537 Rows Before Time Reindex.\n",
      "2022-07-03 20:21:45 fostool\\dataset\\data_utils.py 428 \\ - INFO - 54537 Rows After Time Reindex.\n"
     ]
    },
    {
     "name": "stdout",
     "output_type": "stream",
     "text": [
      "CPU times: total: 1min 3s\n",
      "Wall time: 39.6 s\n",
      "imf4_HRB_pd_melt_2020-10-11.csv\n"
     ]
    },
    {
     "name": "stderr",
     "output_type": "stream",
     "text": [
      "2022-07-03 20:21:45 fostool\\dataset\\data_utils.py 429 \\ - INFO - --------------------\n",
      "2022-07-03 20:21:45 fostool\\dataset\\data_utils.py 457 \\ - INFO - 54537 Rows Before Fill Missing.\n",
      "2022-07-03 20:21:52 fostool\\dataset\\data_utils.py 461 \\ - INFO - 54537 Rows After Fill Missing.\n",
      "2022-07-03 20:21:52 fostool\\dataset\\data_utils.py 462 \\ - INFO - --------------------\n",
      "2022-07-03 20:22:25 fostool\\task\\fusion.py 71 \\ - INFO -    val_loss             model_name\n",
      "0  0.000081      KRNNModel_01c6_14\n",
      "1  0.000092      KRNNModel_b07a_21\n",
      "6  0.000083  SandwichModel_1f18_14\n",
      "7  0.000040  SandwichModel_7e50_21\n",
      "2022-07-03 20:22:25 fostool\\dataset\\data_utils.py 426 \\ - INFO - 54537 Rows Before Time Reindex.\n",
      "2022-07-03 20:22:25 fostool\\dataset\\data_utils.py 428 \\ - INFO - 54537 Rows After Time Reindex.\n",
      "2022-07-03 20:22:25 fostool\\dataset\\data_utils.py 429 \\ - INFO - --------------------\n",
      "2022-07-03 20:22:25 fostool\\dataset\\data_utils.py 457 \\ - INFO - 54537 Rows Before Fill Missing.\n"
     ]
    },
    {
     "name": "stdout",
     "output_type": "stream",
     "text": [
      "CPU times: total: 1min 3s\n",
      "Wall time: 39.8 s\n",
      "imf4_HRB_pd_melt_2020-11-08.csv\n"
     ]
    },
    {
     "name": "stderr",
     "output_type": "stream",
     "text": [
      "2022-07-03 20:22:32 fostool\\dataset\\data_utils.py 461 \\ - INFO - 54537 Rows After Fill Missing.\n",
      "2022-07-03 20:22:32 fostool\\dataset\\data_utils.py 462 \\ - INFO - --------------------\n",
      "2022-07-03 20:23:05 fostool\\task\\fusion.py 71 \\ - INFO -    val_loss             model_name\n",
      "0  0.000081      KRNNModel_01c6_14\n",
      "1  0.000092      KRNNModel_b07a_21\n",
      "6  0.000083  SandwichModel_1f18_14\n",
      "7  0.000040  SandwichModel_7e50_21\n",
      "2022-07-03 20:23:05 fostool\\dataset\\data_utils.py 426 \\ - INFO - 54537 Rows Before Time Reindex.\n",
      "2022-07-03 20:23:05 fostool\\dataset\\data_utils.py 428 \\ - INFO - 54537 Rows After Time Reindex.\n"
     ]
    },
    {
     "name": "stdout",
     "output_type": "stream",
     "text": [
      "CPU times: total: 1min 3s\n",
      "Wall time: 39.8 s\n",
      "imf4_HRB_pd_melt_2020-12-06.csv\n"
     ]
    },
    {
     "name": "stderr",
     "output_type": "stream",
     "text": [
      "2022-07-03 20:23:05 fostool\\dataset\\data_utils.py 429 \\ - INFO - --------------------\n",
      "2022-07-03 20:23:05 fostool\\dataset\\data_utils.py 457 \\ - INFO - 54537 Rows Before Fill Missing.\n",
      "2022-07-03 20:23:11 fostool\\dataset\\data_utils.py 461 \\ - INFO - 54537 Rows After Fill Missing.\n",
      "2022-07-03 20:23:11 fostool\\dataset\\data_utils.py 462 \\ - INFO - --------------------\n",
      "2022-07-03 20:23:44 fostool\\task\\fusion.py 71 \\ - INFO -    val_loss             model_name\n",
      "0  0.000081      KRNNModel_01c6_14\n",
      "1  0.000092      KRNNModel_b07a_21\n",
      "6  0.000083  SandwichModel_1f18_14\n",
      "7  0.000040  SandwichModel_7e50_21\n",
      "2022-07-03 20:23:45 fostool\\dataset\\data_utils.py 426 \\ - INFO - 54537 Rows Before Time Reindex.\n",
      "2022-07-03 20:23:45 fostool\\dataset\\data_utils.py 428 \\ - INFO - 54537 Rows After Time Reindex.\n",
      "2022-07-03 20:23:45 fostool\\dataset\\data_utils.py 429 \\ - INFO - --------------------\n",
      "2022-07-03 20:23:45 fostool\\dataset\\data_utils.py 457 \\ - INFO - 54537 Rows Before Fill Missing.\n"
     ]
    },
    {
     "name": "stdout",
     "output_type": "stream",
     "text": [
      "CPU times: total: 1min 3s\n",
      "Wall time: 39.8 s\n",
      "imf4_HRB_pd_melt_2021-01-03.csv\n"
     ]
    },
    {
     "name": "stderr",
     "output_type": "stream",
     "text": [
      "2022-07-03 20:23:51 fostool\\dataset\\data_utils.py 461 \\ - INFO - 54537 Rows After Fill Missing.\n",
      "2022-07-03 20:23:51 fostool\\dataset\\data_utils.py 462 \\ - INFO - --------------------\n",
      "2022-07-03 20:24:25 fostool\\task\\fusion.py 71 \\ - INFO -    val_loss             model_name\n",
      "0  0.000081      KRNNModel_01c6_14\n",
      "1  0.000092      KRNNModel_b07a_21\n",
      "6  0.000083  SandwichModel_1f18_14\n",
      "7  0.000040  SandwichModel_7e50_21\n",
      "2022-07-03 20:24:25 fostool\\task\\config_handler.py 28 \\ - INFO - yaml handler load path: C:\\Users\\Xiaoyi Wang\\.conda\\envs\\geo_env\\lib\\site-packages\\fostool\\config/default.yaml\n"
     ]
    },
    {
     "name": "stdout",
     "output_type": "stream",
     "text": [
      "CPU times: total: 1min 4s\n",
      "Wall time: 40.3 s\n",
      "imf5_HRB_pd_melt_2019-03-03.csv\n"
     ]
    },
    {
     "name": "stderr",
     "output_type": "stream",
     "text": [
      "2022-07-03 20:24:25 fostool\\dataset\\data_utils.py 426 \\ - INFO - 54537 Rows Before Time Reindex.\n",
      "2022-07-03 20:24:25 fostool\\dataset\\data_utils.py 428 \\ - INFO - 54537 Rows After Time Reindex.\n",
      "2022-07-03 20:24:25 fostool\\dataset\\data_utils.py 429 \\ - INFO - --------------------\n",
      "2022-07-03 20:24:25 fostool\\dataset\\data_utils.py 457 \\ - INFO - 54537 Rows Before Fill Missing.\n",
      "2022-07-03 20:24:32 fostool\\dataset\\data_utils.py 461 \\ - INFO - 54537 Rows After Fill Missing.\n",
      "2022-07-03 20:24:32 fostool\\dataset\\data_utils.py 462 \\ - INFO - --------------------\n",
      "2022-07-03 20:25:05 fostool\\task\\fusion.py 71 \\ - INFO -    val_loss             model_name\n",
      "0  0.000038      KRNNModel_01c6_14\n",
      "1  0.000013      KRNNModel_b07a_21\n",
      "3  0.000060        MLP_Res_2975_14\n",
      "4  0.000026        MLP_Res_8f02_21\n",
      "6  0.000063  SandwichModel_1f18_14\n",
      "7  0.000010  SandwichModel_7e50_21\n",
      "2022-07-03 20:25:05 fostool\\dataset\\data_utils.py 426 \\ - INFO - 54537 Rows Before Time Reindex.\n",
      "2022-07-03 20:25:05 fostool\\dataset\\data_utils.py 428 \\ - INFO - 54537 Rows After Time Reindex.\n",
      "2022-07-03 20:25:05 fostool\\dataset\\data_utils.py 429 \\ - INFO - --------------------\n",
      "2022-07-03 20:25:05 fostool\\dataset\\data_utils.py 457 \\ - INFO - 54537 Rows Before Fill Missing.\n"
     ]
    },
    {
     "name": "stdout",
     "output_type": "stream",
     "text": [
      "CPU times: total: 1min 2s\n",
      "Wall time: 39.8 s\n",
      "imf5_HRB_pd_melt_2019-03-31.csv\n"
     ]
    },
    {
     "name": "stderr",
     "output_type": "stream",
     "text": [
      "2022-07-03 20:25:12 fostool\\dataset\\data_utils.py 461 \\ - INFO - 54537 Rows After Fill Missing.\n",
      "2022-07-03 20:25:12 fostool\\dataset\\data_utils.py 462 \\ - INFO - --------------------\n",
      "2022-07-03 20:25:45 fostool\\task\\fusion.py 71 \\ - INFO -    val_loss             model_name\n",
      "0  0.000038      KRNNModel_01c6_14\n",
      "1  0.000013      KRNNModel_b07a_21\n",
      "3  0.000060        MLP_Res_2975_14\n",
      "4  0.000026        MLP_Res_8f02_21\n",
      "6  0.000063  SandwichModel_1f18_14\n",
      "7  0.000010  SandwichModel_7e50_21\n",
      "2022-07-03 20:25:45 fostool\\dataset\\data_utils.py 426 \\ - INFO - 54537 Rows Before Time Reindex.\n",
      "2022-07-03 20:25:45 fostool\\dataset\\data_utils.py 428 \\ - INFO - 54537 Rows After Time Reindex.\n",
      "2022-07-03 20:25:45 fostool\\dataset\\data_utils.py 429 \\ - INFO - --------------------\n",
      "2022-07-03 20:25:45 fostool\\dataset\\data_utils.py 457 \\ - INFO - 54537 Rows Before Fill Missing.\n"
     ]
    },
    {
     "name": "stdout",
     "output_type": "stream",
     "text": [
      "CPU times: total: 1min 3s\n",
      "Wall time: 39.8 s\n",
      "imf5_HRB_pd_melt_2019-04-28.csv\n"
     ]
    },
    {
     "name": "stderr",
     "output_type": "stream",
     "text": [
      "2022-07-03 20:25:51 fostool\\dataset\\data_utils.py 461 \\ - INFO - 54537 Rows After Fill Missing.\n",
      "2022-07-03 20:25:51 fostool\\dataset\\data_utils.py 462 \\ - INFO - --------------------\n",
      "2022-07-03 20:26:24 fostool\\task\\fusion.py 71 \\ - INFO -    val_loss             model_name\n",
      "0  0.000038      KRNNModel_01c6_14\n",
      "1  0.000013      KRNNModel_b07a_21\n",
      "3  0.000060        MLP_Res_2975_14\n",
      "4  0.000026        MLP_Res_8f02_21\n",
      "6  0.000063  SandwichModel_1f18_14\n",
      "7  0.000010  SandwichModel_7e50_21\n",
      "2022-07-03 20:26:25 fostool\\dataset\\data_utils.py 426 \\ - INFO - 54537 Rows Before Time Reindex.\n",
      "2022-07-03 20:26:25 fostool\\dataset\\data_utils.py 428 \\ - INFO - 54537 Rows After Time Reindex.\n",
      "2022-07-03 20:26:25 fostool\\dataset\\data_utils.py 429 \\ - INFO - --------------------\n",
      "2022-07-03 20:26:25 fostool\\dataset\\data_utils.py 457 \\ - INFO - 54537 Rows Before Fill Missing.\n"
     ]
    },
    {
     "name": "stdout",
     "output_type": "stream",
     "text": [
      "CPU times: total: 1min 2s\n",
      "Wall time: 39.8 s\n",
      "imf5_HRB_pd_melt_2019-05-26.csv\n"
     ]
    },
    {
     "name": "stderr",
     "output_type": "stream",
     "text": [
      "2022-07-03 20:26:31 fostool\\dataset\\data_utils.py 461 \\ - INFO - 54537 Rows After Fill Missing.\n",
      "2022-07-03 20:26:31 fostool\\dataset\\data_utils.py 462 \\ - INFO - --------------------\n",
      "2022-07-03 20:27:04 fostool\\task\\fusion.py 71 \\ - INFO -    val_loss             model_name\n",
      "0  0.000038      KRNNModel_01c6_14\n",
      "1  0.000013      KRNNModel_b07a_21\n",
      "3  0.000060        MLP_Res_2975_14\n",
      "4  0.000026        MLP_Res_8f02_21\n",
      "6  0.000063  SandwichModel_1f18_14\n",
      "7  0.000010  SandwichModel_7e50_21\n",
      "2022-07-03 20:27:04 fostool\\dataset\\data_utils.py 426 \\ - INFO - 54537 Rows Before Time Reindex.\n",
      "2022-07-03 20:27:04 fostool\\dataset\\data_utils.py 428 \\ - INFO - 54537 Rows After Time Reindex.\n",
      "2022-07-03 20:27:04 fostool\\dataset\\data_utils.py 429 \\ - INFO - --------------------\n",
      "2022-07-03 20:27:04 fostool\\dataset\\data_utils.py 457 \\ - INFO - 54537 Rows Before Fill Missing.\n"
     ]
    },
    {
     "name": "stdout",
     "output_type": "stream",
     "text": [
      "CPU times: total: 1min 1s\n",
      "Wall time: 39.3 s\n",
      "imf5_HRB_pd_melt_2019-06-23.csv\n"
     ]
    },
    {
     "name": "stderr",
     "output_type": "stream",
     "text": [
      "2022-07-03 20:27:11 fostool\\dataset\\data_utils.py 461 \\ - INFO - 54537 Rows After Fill Missing.\n",
      "2022-07-03 20:27:11 fostool\\dataset\\data_utils.py 462 \\ - INFO - --------------------\n",
      "2022-07-03 20:27:44 fostool\\task\\fusion.py 71 \\ - INFO -    val_loss             model_name\n",
      "0  0.000038      KRNNModel_01c6_14\n",
      "1  0.000013      KRNNModel_b07a_21\n",
      "3  0.000060        MLP_Res_2975_14\n",
      "4  0.000026        MLP_Res_8f02_21\n",
      "6  0.000063  SandwichModel_1f18_14\n",
      "7  0.000010  SandwichModel_7e50_21\n",
      "2022-07-03 20:27:44 fostool\\dataset\\data_utils.py 426 \\ - INFO - 54537 Rows Before Time Reindex.\n",
      "2022-07-03 20:27:44 fostool\\dataset\\data_utils.py 428 \\ - INFO - 54537 Rows After Time Reindex.\n",
      "2022-07-03 20:27:44 fostool\\dataset\\data_utils.py 429 \\ - INFO - --------------------\n",
      "2022-07-03 20:27:44 fostool\\dataset\\data_utils.py 457 \\ - INFO - 54537 Rows Before Fill Missing.\n"
     ]
    },
    {
     "name": "stdout",
     "output_type": "stream",
     "text": [
      "CPU times: total: 1min 2s\n",
      "Wall time: 39.9 s\n",
      "imf5_HRB_pd_melt_2019-07-21.csv\n"
     ]
    },
    {
     "name": "stderr",
     "output_type": "stream",
     "text": [
      "2022-07-03 20:27:51 fostool\\dataset\\data_utils.py 461 \\ - INFO - 54537 Rows After Fill Missing.\n",
      "2022-07-03 20:27:51 fostool\\dataset\\data_utils.py 462 \\ - INFO - --------------------\n",
      "2022-07-03 20:28:24 fostool\\task\\fusion.py 71 \\ - INFO -    val_loss             model_name\n",
      "0  0.000038      KRNNModel_01c6_14\n",
      "1  0.000013      KRNNModel_b07a_21\n",
      "3  0.000060        MLP_Res_2975_14\n",
      "4  0.000026        MLP_Res_8f02_21\n",
      "6  0.000063  SandwichModel_1f18_14\n",
      "7  0.000010  SandwichModel_7e50_21\n",
      "2022-07-03 20:28:24 fostool\\dataset\\data_utils.py 426 \\ - INFO - 54537 Rows Before Time Reindex.\n",
      "2022-07-03 20:28:24 fostool\\dataset\\data_utils.py 428 \\ - INFO - 54537 Rows After Time Reindex.\n",
      "2022-07-03 20:28:24 fostool\\dataset\\data_utils.py 429 \\ - INFO - --------------------\n",
      "2022-07-03 20:28:24 fostool\\dataset\\data_utils.py 457 \\ - INFO - 54537 Rows Before Fill Missing.\n"
     ]
    },
    {
     "name": "stdout",
     "output_type": "stream",
     "text": [
      "CPU times: total: 1min 2s\n",
      "Wall time: 40.1 s\n",
      "imf5_HRB_pd_melt_2019-08-18.csv\n"
     ]
    },
    {
     "name": "stderr",
     "output_type": "stream",
     "text": [
      "2022-07-03 20:28:31 fostool\\dataset\\data_utils.py 461 \\ - INFO - 54537 Rows After Fill Missing.\n",
      "2022-07-03 20:28:31 fostool\\dataset\\data_utils.py 462 \\ - INFO - --------------------\n",
      "2022-07-03 20:29:03 fostool\\task\\fusion.py 71 \\ - INFO -    val_loss             model_name\n",
      "0  0.000038      KRNNModel_01c6_14\n",
      "1  0.000013      KRNNModel_b07a_21\n",
      "3  0.000060        MLP_Res_2975_14\n",
      "4  0.000026        MLP_Res_8f02_21\n",
      "6  0.000063  SandwichModel_1f18_14\n",
      "7  0.000010  SandwichModel_7e50_21\n",
      "2022-07-03 20:29:03 fostool\\dataset\\data_utils.py 426 \\ - INFO - 54537 Rows Before Time Reindex.\n",
      "2022-07-03 20:29:03 fostool\\dataset\\data_utils.py 428 \\ - INFO - 54537 Rows After Time Reindex.\n",
      "2022-07-03 20:29:03 fostool\\dataset\\data_utils.py 429 \\ - INFO - --------------------\n",
      "2022-07-03 20:29:03 fostool\\dataset\\data_utils.py 457 \\ - INFO - 54537 Rows Before Fill Missing.\n"
     ]
    },
    {
     "name": "stdout",
     "output_type": "stream",
     "text": [
      "CPU times: total: 1min 1s\n",
      "Wall time: 39.2 s\n",
      "imf5_HRB_pd_melt_2019-09-15.csv\n"
     ]
    },
    {
     "name": "stderr",
     "output_type": "stream",
     "text": [
      "2022-07-03 20:29:10 fostool\\dataset\\data_utils.py 461 \\ - INFO - 54537 Rows After Fill Missing.\n",
      "2022-07-03 20:29:10 fostool\\dataset\\data_utils.py 462 \\ - INFO - --------------------\n",
      "2022-07-03 20:29:43 fostool\\task\\fusion.py 71 \\ - INFO -    val_loss             model_name\n",
      "0  0.000038      KRNNModel_01c6_14\n",
      "1  0.000013      KRNNModel_b07a_21\n",
      "3  0.000060        MLP_Res_2975_14\n",
      "4  0.000026        MLP_Res_8f02_21\n",
      "6  0.000063  SandwichModel_1f18_14\n",
      "7  0.000010  SandwichModel_7e50_21\n",
      "2022-07-03 20:29:43 fostool\\dataset\\data_utils.py 426 \\ - INFO - 54537 Rows Before Time Reindex.\n",
      "2022-07-03 20:29:43 fostool\\dataset\\data_utils.py 428 \\ - INFO - 54537 Rows After Time Reindex.\n",
      "2022-07-03 20:29:43 fostool\\dataset\\data_utils.py 429 \\ - INFO - --------------------\n",
      "2022-07-03 20:29:43 fostool\\dataset\\data_utils.py 457 \\ - INFO - 54537 Rows Before Fill Missing.\n"
     ]
    },
    {
     "name": "stdout",
     "output_type": "stream",
     "text": [
      "CPU times: total: 1min 5s\n",
      "Wall time: 39.8 s\n",
      "imf5_HRB_pd_melt_2019-10-13.csv\n"
     ]
    },
    {
     "name": "stderr",
     "output_type": "stream",
     "text": [
      "2022-07-03 20:29:49 fostool\\dataset\\data_utils.py 461 \\ - INFO - 54537 Rows After Fill Missing.\n",
      "2022-07-03 20:29:49 fostool\\dataset\\data_utils.py 462 \\ - INFO - --------------------\n",
      "2022-07-03 20:30:22 fostool\\task\\fusion.py 71 \\ - INFO -    val_loss             model_name\n",
      "0  0.000038      KRNNModel_01c6_14\n",
      "1  0.000013      KRNNModel_b07a_21\n",
      "3  0.000060        MLP_Res_2975_14\n",
      "4  0.000026        MLP_Res_8f02_21\n",
      "6  0.000063  SandwichModel_1f18_14\n",
      "7  0.000010  SandwichModel_7e50_21\n",
      "2022-07-03 20:30:22 fostool\\dataset\\data_utils.py 426 \\ - INFO - 54537 Rows Before Time Reindex.\n",
      "2022-07-03 20:30:22 fostool\\dataset\\data_utils.py 428 \\ - INFO - 54537 Rows After Time Reindex.\n",
      "2022-07-03 20:30:22 fostool\\dataset\\data_utils.py 429 \\ - INFO - --------------------\n",
      "2022-07-03 20:30:22 fostool\\dataset\\data_utils.py 457 \\ - INFO - 54537 Rows Before Fill Missing.\n"
     ]
    },
    {
     "name": "stdout",
     "output_type": "stream",
     "text": [
      "CPU times: total: 1min 3s\n",
      "Wall time: 39.2 s\n",
      "imf5_HRB_pd_melt_2019-11-10.csv\n"
     ]
    },
    {
     "name": "stderr",
     "output_type": "stream",
     "text": [
      "2022-07-03 20:30:29 fostool\\dataset\\data_utils.py 461 \\ - INFO - 54537 Rows After Fill Missing.\n",
      "2022-07-03 20:30:29 fostool\\dataset\\data_utils.py 462 \\ - INFO - --------------------\n",
      "2022-07-03 20:31:01 fostool\\task\\fusion.py 71 \\ - INFO -    val_loss             model_name\n",
      "0  0.000038      KRNNModel_01c6_14\n",
      "1  0.000013      KRNNModel_b07a_21\n",
      "3  0.000060        MLP_Res_2975_14\n",
      "4  0.000026        MLP_Res_8f02_21\n",
      "6  0.000063  SandwichModel_1f18_14\n",
      "7  0.000010  SandwichModel_7e50_21\n",
      "2022-07-03 20:31:02 fostool\\dataset\\data_utils.py 426 \\ - INFO - 54537 Rows Before Time Reindex.\n",
      "2022-07-03 20:31:02 fostool\\dataset\\data_utils.py 428 \\ - INFO - 54537 Rows After Time Reindex.\n",
      "2022-07-03 20:31:02 fostool\\dataset\\data_utils.py 429 \\ - INFO - --------------------\n",
      "2022-07-03 20:31:02 fostool\\dataset\\data_utils.py 457 \\ - INFO - 54537 Rows Before Fill Missing.\n"
     ]
    },
    {
     "name": "stdout",
     "output_type": "stream",
     "text": [
      "CPU times: total: 1min 2s\n",
      "Wall time: 39.2 s\n",
      "imf5_HRB_pd_melt_2019-12-08.csv\n"
     ]
    },
    {
     "name": "stderr",
     "output_type": "stream",
     "text": [
      "2022-07-03 20:31:08 fostool\\dataset\\data_utils.py 461 \\ - INFO - 54537 Rows After Fill Missing.\n",
      "2022-07-03 20:31:08 fostool\\dataset\\data_utils.py 462 \\ - INFO - --------------------\n",
      "2022-07-03 20:31:41 fostool\\task\\fusion.py 71 \\ - INFO -    val_loss             model_name\n",
      "0  0.000038      KRNNModel_01c6_14\n",
      "1  0.000013      KRNNModel_b07a_21\n",
      "3  0.000060        MLP_Res_2975_14\n",
      "4  0.000026        MLP_Res_8f02_21\n",
      "6  0.000063  SandwichModel_1f18_14\n",
      "7  0.000010  SandwichModel_7e50_21\n",
      "2022-07-03 20:31:41 fostool\\dataset\\data_utils.py 426 \\ - INFO - 54537 Rows Before Time Reindex.\n",
      "2022-07-03 20:31:41 fostool\\dataset\\data_utils.py 428 \\ - INFO - 54537 Rows After Time Reindex.\n",
      "2022-07-03 20:31:41 fostool\\dataset\\data_utils.py 429 \\ - INFO - --------------------\n",
      "2022-07-03 20:31:41 fostool\\dataset\\data_utils.py 457 \\ - INFO - 54537 Rows Before Fill Missing.\n"
     ]
    },
    {
     "name": "stdout",
     "output_type": "stream",
     "text": [
      "CPU times: total: 1min 2s\n",
      "Wall time: 39 s\n",
      "imf5_HRB_pd_melt_2020-01-05.csv\n"
     ]
    },
    {
     "name": "stderr",
     "output_type": "stream",
     "text": [
      "2022-07-03 20:31:47 fostool\\dataset\\data_utils.py 461 \\ - INFO - 54537 Rows After Fill Missing.\n",
      "2022-07-03 20:31:47 fostool\\dataset\\data_utils.py 462 \\ - INFO - --------------------\n",
      "2022-07-03 20:32:20 fostool\\task\\fusion.py 71 \\ - INFO -    val_loss             model_name\n",
      "0  0.000038      KRNNModel_01c6_14\n",
      "1  0.000013      KRNNModel_b07a_21\n",
      "3  0.000060        MLP_Res_2975_14\n",
      "4  0.000026        MLP_Res_8f02_21\n",
      "6  0.000063  SandwichModel_1f18_14\n",
      "7  0.000010  SandwichModel_7e50_21\n",
      "2022-07-03 20:32:20 fostool\\dataset\\data_utils.py 426 \\ - INFO - 54537 Rows Before Time Reindex.\n",
      "2022-07-03 20:32:20 fostool\\dataset\\data_utils.py 428 \\ - INFO - 54537 Rows After Time Reindex.\n",
      "2022-07-03 20:32:20 fostool\\dataset\\data_utils.py 429 \\ - INFO - --------------------\n",
      "2022-07-03 20:32:20 fostool\\dataset\\data_utils.py 457 \\ - INFO - 54537 Rows Before Fill Missing.\n"
     ]
    },
    {
     "name": "stdout",
     "output_type": "stream",
     "text": [
      "CPU times: total: 1min 1s\n",
      "Wall time: 39.1 s\n",
      "imf5_HRB_pd_melt_2020-02-02.csv\n"
     ]
    },
    {
     "name": "stderr",
     "output_type": "stream",
     "text": [
      "2022-07-03 20:32:26 fostool\\dataset\\data_utils.py 461 \\ - INFO - 54537 Rows After Fill Missing.\n",
      "2022-07-03 20:32:26 fostool\\dataset\\data_utils.py 462 \\ - INFO - --------------------\n",
      "2022-07-03 20:33:00 fostool\\task\\fusion.py 71 \\ - INFO -    val_loss             model_name\n",
      "0  0.000038      KRNNModel_01c6_14\n",
      "1  0.000013      KRNNModel_b07a_21\n",
      "3  0.000060        MLP_Res_2975_14\n",
      "4  0.000026        MLP_Res_8f02_21\n",
      "6  0.000063  SandwichModel_1f18_14\n",
      "7  0.000010  SandwichModel_7e50_21\n",
      "2022-07-03 20:33:00 fostool\\dataset\\data_utils.py 426 \\ - INFO - 54537 Rows Before Time Reindex.\n",
      "2022-07-03 20:33:00 fostool\\dataset\\data_utils.py 428 \\ - INFO - 54537 Rows After Time Reindex.\n",
      "2022-07-03 20:33:00 fostool\\dataset\\data_utils.py 429 \\ - INFO - --------------------\n",
      "2022-07-03 20:33:00 fostool\\dataset\\data_utils.py 457 \\ - INFO - 54537 Rows Before Fill Missing.\n"
     ]
    },
    {
     "name": "stdout",
     "output_type": "stream",
     "text": [
      "CPU times: total: 1min 3s\n",
      "Wall time: 39.8 s\n",
      "imf5_HRB_pd_melt_2020-03-01.csv\n"
     ]
    },
    {
     "name": "stderr",
     "output_type": "stream",
     "text": [
      "2022-07-03 20:33:06 fostool\\dataset\\data_utils.py 461 \\ - INFO - 54537 Rows After Fill Missing.\n",
      "2022-07-03 20:33:06 fostool\\dataset\\data_utils.py 462 \\ - INFO - --------------------\n",
      "2022-07-03 20:33:39 fostool\\task\\fusion.py 71 \\ - INFO -    val_loss             model_name\n",
      "0  0.000038      KRNNModel_01c6_14\n",
      "1  0.000013      KRNNModel_b07a_21\n",
      "3  0.000060        MLP_Res_2975_14\n",
      "4  0.000026        MLP_Res_8f02_21\n",
      "6  0.000063  SandwichModel_1f18_14\n",
      "7  0.000010  SandwichModel_7e50_21\n",
      "2022-07-03 20:33:39 fostool\\dataset\\data_utils.py 426 \\ - INFO - 54537 Rows Before Time Reindex.\n",
      "2022-07-03 20:33:39 fostool\\dataset\\data_utils.py 428 \\ - INFO - 54537 Rows After Time Reindex.\n",
      "2022-07-03 20:33:39 fostool\\dataset\\data_utils.py 429 \\ - INFO - --------------------\n",
      "2022-07-03 20:33:39 fostool\\dataset\\data_utils.py 457 \\ - INFO - 54537 Rows Before Fill Missing.\n"
     ]
    },
    {
     "name": "stdout",
     "output_type": "stream",
     "text": [
      "CPU times: total: 1min 2s\n",
      "Wall time: 39.5 s\n",
      "imf5_HRB_pd_melt_2020-03-29.csv\n"
     ]
    },
    {
     "name": "stderr",
     "output_type": "stream",
     "text": [
      "2022-07-03 20:33:46 fostool\\dataset\\data_utils.py 461 \\ - INFO - 54537 Rows After Fill Missing.\n",
      "2022-07-03 20:33:46 fostool\\dataset\\data_utils.py 462 \\ - INFO - --------------------\n",
      "2022-07-03 20:34:21 fostool\\task\\fusion.py 71 \\ - INFO -    val_loss             model_name\n",
      "0  0.000038      KRNNModel_01c6_14\n",
      "1  0.000013      KRNNModel_b07a_21\n",
      "3  0.000060        MLP_Res_2975_14\n",
      "4  0.000026        MLP_Res_8f02_21\n",
      "6  0.000063  SandwichModel_1f18_14\n",
      "7  0.000010  SandwichModel_7e50_21\n",
      "2022-07-03 20:34:21 fostool\\dataset\\data_utils.py 426 \\ - INFO - 54537 Rows Before Time Reindex.\n",
      "2022-07-03 20:34:21 fostool\\dataset\\data_utils.py 428 \\ - INFO - 54537 Rows After Time Reindex.\n",
      "2022-07-03 20:34:21 fostool\\dataset\\data_utils.py 429 \\ - INFO - --------------------\n",
      "2022-07-03 20:34:21 fostool\\dataset\\data_utils.py 457 \\ - INFO - 54537 Rows Before Fill Missing.\n"
     ]
    },
    {
     "name": "stdout",
     "output_type": "stream",
     "text": [
      "CPU times: total: 1min 6s\n",
      "Wall time: 41.5 s\n",
      "imf5_HRB_pd_melt_2020-04-26.csv\n"
     ]
    },
    {
     "name": "stderr",
     "output_type": "stream",
     "text": [
      "2022-07-03 20:34:28 fostool\\dataset\\data_utils.py 461 \\ - INFO - 54537 Rows After Fill Missing.\n",
      "2022-07-03 20:34:28 fostool\\dataset\\data_utils.py 462 \\ - INFO - --------------------\n",
      "2022-07-03 20:35:00 fostool\\task\\fusion.py 71 \\ - INFO -    val_loss             model_name\n",
      "0  0.000038      KRNNModel_01c6_14\n",
      "1  0.000013      KRNNModel_b07a_21\n",
      "3  0.000060        MLP_Res_2975_14\n",
      "4  0.000026        MLP_Res_8f02_21\n",
      "6  0.000063  SandwichModel_1f18_14\n",
      "7  0.000010  SandwichModel_7e50_21\n",
      "2022-07-03 20:35:00 fostool\\dataset\\data_utils.py 426 \\ - INFO - 54537 Rows Before Time Reindex.\n",
      "2022-07-03 20:35:00 fostool\\dataset\\data_utils.py 428 \\ - INFO - 54537 Rows After Time Reindex.\n",
      "2022-07-03 20:35:00 fostool\\dataset\\data_utils.py 429 \\ - INFO - --------------------\n",
      "2022-07-03 20:35:00 fostool\\dataset\\data_utils.py 457 \\ - INFO - 54537 Rows Before Fill Missing.\n"
     ]
    },
    {
     "name": "stdout",
     "output_type": "stream",
     "text": [
      "CPU times: total: 1min 2s\n",
      "Wall time: 39.3 s\n",
      "imf5_HRB_pd_melt_2020-05-24.csv\n"
     ]
    },
    {
     "name": "stderr",
     "output_type": "stream",
     "text": [
      "2022-07-03 20:35:07 fostool\\dataset\\data_utils.py 461 \\ - INFO - 54537 Rows After Fill Missing.\n",
      "2022-07-03 20:35:07 fostool\\dataset\\data_utils.py 462 \\ - INFO - --------------------\n",
      "2022-07-03 20:35:41 fostool\\task\\fusion.py 71 \\ - INFO -    val_loss             model_name\n",
      "0  0.000038      KRNNModel_01c6_14\n",
      "1  0.000013      KRNNModel_b07a_21\n",
      "3  0.000060        MLP_Res_2975_14\n",
      "4  0.000026        MLP_Res_8f02_21\n",
      "6  0.000063  SandwichModel_1f18_14\n",
      "7  0.000010  SandwichModel_7e50_21\n",
      "2022-07-03 20:35:41 fostool\\dataset\\data_utils.py 426 \\ - INFO - 54537 Rows Before Time Reindex.\n",
      "2022-07-03 20:35:41 fostool\\dataset\\data_utils.py 428 \\ - INFO - 54537 Rows After Time Reindex.\n",
      "2022-07-03 20:35:41 fostool\\dataset\\data_utils.py 429 \\ - INFO - --------------------\n",
      "2022-07-03 20:35:41 fostool\\dataset\\data_utils.py 457 \\ - INFO - 54537 Rows Before Fill Missing.\n"
     ]
    },
    {
     "name": "stdout",
     "output_type": "stream",
     "text": [
      "CPU times: total: 1min 6s\n",
      "Wall time: 40.6 s\n",
      "imf5_HRB_pd_melt_2020-06-21.csv\n"
     ]
    },
    {
     "name": "stderr",
     "output_type": "stream",
     "text": [
      "2022-07-03 20:35:47 fostool\\dataset\\data_utils.py 461 \\ - INFO - 54537 Rows After Fill Missing.\n",
      "2022-07-03 20:35:47 fostool\\dataset\\data_utils.py 462 \\ - INFO - --------------------\n",
      "2022-07-03 20:36:20 fostool\\task\\fusion.py 71 \\ - INFO -    val_loss             model_name\n",
      "0  0.000038      KRNNModel_01c6_14\n",
      "1  0.000013      KRNNModel_b07a_21\n",
      "3  0.000060        MLP_Res_2975_14\n",
      "4  0.000026        MLP_Res_8f02_21\n",
      "6  0.000063  SandwichModel_1f18_14\n",
      "7  0.000010  SandwichModel_7e50_21\n",
      "2022-07-03 20:36:21 fostool\\dataset\\data_utils.py 426 \\ - INFO - 54537 Rows Before Time Reindex.\n",
      "2022-07-03 20:36:21 fostool\\dataset\\data_utils.py 428 \\ - INFO - 54537 Rows After Time Reindex.\n",
      "2022-07-03 20:36:21 fostool\\dataset\\data_utils.py 429 \\ - INFO - --------------------\n",
      "2022-07-03 20:36:21 fostool\\dataset\\data_utils.py 457 \\ - INFO - 54537 Rows Before Fill Missing.\n"
     ]
    },
    {
     "name": "stdout",
     "output_type": "stream",
     "text": [
      "CPU times: total: 1min 2s\n",
      "Wall time: 39.7 s\n",
      "imf5_HRB_pd_melt_2020-07-19.csv\n"
     ]
    },
    {
     "name": "stderr",
     "output_type": "stream",
     "text": [
      "2022-07-03 20:36:27 fostool\\dataset\\data_utils.py 461 \\ - INFO - 54537 Rows After Fill Missing.\n",
      "2022-07-03 20:36:27 fostool\\dataset\\data_utils.py 462 \\ - INFO - --------------------\n",
      "2022-07-03 20:36:59 fostool\\task\\fusion.py 71 \\ - INFO -    val_loss             model_name\n",
      "0  0.000038      KRNNModel_01c6_14\n",
      "1  0.000013      KRNNModel_b07a_21\n",
      "3  0.000060        MLP_Res_2975_14\n",
      "4  0.000026        MLP_Res_8f02_21\n",
      "6  0.000063  SandwichModel_1f18_14\n",
      "7  0.000010  SandwichModel_7e50_21\n",
      "2022-07-03 20:36:59 fostool\\dataset\\data_utils.py 426 \\ - INFO - 54537 Rows Before Time Reindex.\n",
      "2022-07-03 20:36:59 fostool\\dataset\\data_utils.py 428 \\ - INFO - 54537 Rows After Time Reindex.\n",
      "2022-07-03 20:36:59 fostool\\dataset\\data_utils.py 429 \\ - INFO - --------------------\n",
      "2022-07-03 20:36:59 fostool\\dataset\\data_utils.py 457 \\ - INFO - 54537 Rows Before Fill Missing.\n"
     ]
    },
    {
     "name": "stdout",
     "output_type": "stream",
     "text": [
      "CPU times: total: 1min\n",
      "Wall time: 38.5 s\n",
      "imf5_HRB_pd_melt_2020-08-16.csv\n"
     ]
    },
    {
     "name": "stderr",
     "output_type": "stream",
     "text": [
      "2022-07-03 20:37:06 fostool\\dataset\\data_utils.py 461 \\ - INFO - 54537 Rows After Fill Missing.\n",
      "2022-07-03 20:37:06 fostool\\dataset\\data_utils.py 462 \\ - INFO - --------------------\n",
      "2022-07-03 20:37:39 fostool\\task\\fusion.py 71 \\ - INFO -    val_loss             model_name\n",
      "0  0.000038      KRNNModel_01c6_14\n",
      "1  0.000013      KRNNModel_b07a_21\n",
      "3  0.000060        MLP_Res_2975_14\n",
      "4  0.000026        MLP_Res_8f02_21\n",
      "6  0.000063  SandwichModel_1f18_14\n",
      "7  0.000010  SandwichModel_7e50_21\n",
      "2022-07-03 20:37:39 fostool\\dataset\\data_utils.py 426 \\ - INFO - 54537 Rows Before Time Reindex.\n",
      "2022-07-03 20:37:39 fostool\\dataset\\data_utils.py 428 \\ - INFO - 54537 Rows After Time Reindex.\n",
      "2022-07-03 20:37:39 fostool\\dataset\\data_utils.py 429 \\ - INFO - --------------------\n",
      "2022-07-03 20:37:39 fostool\\dataset\\data_utils.py 457 \\ - INFO - 54537 Rows Before Fill Missing.\n"
     ]
    },
    {
     "name": "stdout",
     "output_type": "stream",
     "text": [
      "CPU times: total: 1min 4s\n",
      "Wall time: 39.8 s\n",
      "imf5_HRB_pd_melt_2020-09-13.csv\n"
     ]
    },
    {
     "name": "stderr",
     "output_type": "stream",
     "text": [
      "2022-07-03 20:37:46 fostool\\dataset\\data_utils.py 461 \\ - INFO - 54537 Rows After Fill Missing.\n",
      "2022-07-03 20:37:46 fostool\\dataset\\data_utils.py 462 \\ - INFO - --------------------\n",
      "2022-07-03 20:38:19 fostool\\task\\fusion.py 71 \\ - INFO -    val_loss             model_name\n",
      "0  0.000038      KRNNModel_01c6_14\n",
      "1  0.000013      KRNNModel_b07a_21\n",
      "3  0.000060        MLP_Res_2975_14\n",
      "4  0.000026        MLP_Res_8f02_21\n",
      "6  0.000063  SandwichModel_1f18_14\n",
      "7  0.000010  SandwichModel_7e50_21\n",
      "2022-07-03 20:38:19 fostool\\dataset\\data_utils.py 426 \\ - INFO - 54537 Rows Before Time Reindex.\n",
      "2022-07-03 20:38:19 fostool\\dataset\\data_utils.py 428 \\ - INFO - 54537 Rows After Time Reindex.\n",
      "2022-07-03 20:38:19 fostool\\dataset\\data_utils.py 429 \\ - INFO - --------------------\n",
      "2022-07-03 20:38:19 fostool\\dataset\\data_utils.py 457 \\ - INFO - 54537 Rows Before Fill Missing.\n"
     ]
    },
    {
     "name": "stdout",
     "output_type": "stream",
     "text": [
      "CPU times: total: 1min 2s\n",
      "Wall time: 39.9 s\n",
      "imf5_HRB_pd_melt_2020-10-11.csv\n"
     ]
    },
    {
     "name": "stderr",
     "output_type": "stream",
     "text": [
      "2022-07-03 20:38:25 fostool\\dataset\\data_utils.py 461 \\ - INFO - 54537 Rows After Fill Missing.\n",
      "2022-07-03 20:38:25 fostool\\dataset\\data_utils.py 462 \\ - INFO - --------------------\n",
      "2022-07-03 20:38:59 fostool\\task\\fusion.py 71 \\ - INFO -    val_loss             model_name\n",
      "0  0.000038      KRNNModel_01c6_14\n",
      "1  0.000013      KRNNModel_b07a_21\n",
      "3  0.000060        MLP_Res_2975_14\n",
      "4  0.000026        MLP_Res_8f02_21\n",
      "6  0.000063  SandwichModel_1f18_14\n",
      "7  0.000010  SandwichModel_7e50_21\n",
      "2022-07-03 20:38:59 fostool\\dataset\\data_utils.py 426 \\ - INFO - 54537 Rows Before Time Reindex.\n",
      "2022-07-03 20:38:59 fostool\\dataset\\data_utils.py 428 \\ - INFO - 54537 Rows After Time Reindex.\n",
      "2022-07-03 20:38:59 fostool\\dataset\\data_utils.py 429 \\ - INFO - --------------------\n",
      "2022-07-03 20:38:59 fostool\\dataset\\data_utils.py 457 \\ - INFO - 54537 Rows Before Fill Missing.\n"
     ]
    },
    {
     "name": "stdout",
     "output_type": "stream",
     "text": [
      "CPU times: total: 1min 5s\n",
      "Wall time: 40.5 s\n",
      "imf5_HRB_pd_melt_2020-11-08.csv\n"
     ]
    },
    {
     "name": "stderr",
     "output_type": "stream",
     "text": [
      "2022-07-03 20:39:06 fostool\\dataset\\data_utils.py 461 \\ - INFO - 54537 Rows After Fill Missing.\n",
      "2022-07-03 20:39:06 fostool\\dataset\\data_utils.py 462 \\ - INFO - --------------------\n",
      "2022-07-03 20:39:40 fostool\\task\\fusion.py 71 \\ - INFO -    val_loss             model_name\n",
      "0  0.000038      KRNNModel_01c6_14\n",
      "1  0.000013      KRNNModel_b07a_21\n",
      "3  0.000060        MLP_Res_2975_14\n",
      "4  0.000026        MLP_Res_8f02_21\n",
      "6  0.000063  SandwichModel_1f18_14\n",
      "7  0.000010  SandwichModel_7e50_21\n",
      "2022-07-03 20:39:40 fostool\\dataset\\data_utils.py 426 \\ - INFO - 54537 Rows Before Time Reindex.\n",
      "2022-07-03 20:39:40 fostool\\dataset\\data_utils.py 428 \\ - INFO - 54537 Rows After Time Reindex.\n",
      "2022-07-03 20:39:40 fostool\\dataset\\data_utils.py 429 \\ - INFO - --------------------\n",
      "2022-07-03 20:39:40 fostool\\dataset\\data_utils.py 457 \\ - INFO - 54537 Rows Before Fill Missing.\n"
     ]
    },
    {
     "name": "stdout",
     "output_type": "stream",
     "text": [
      "CPU times: total: 1min 5s\n",
      "Wall time: 40.3 s\n",
      "imf5_HRB_pd_melt_2020-12-06.csv\n"
     ]
    },
    {
     "name": "stderr",
     "output_type": "stream",
     "text": [
      "2022-07-03 20:39:46 fostool\\dataset\\data_utils.py 461 \\ - INFO - 54537 Rows After Fill Missing.\n",
      "2022-07-03 20:39:46 fostool\\dataset\\data_utils.py 462 \\ - INFO - --------------------\n",
      "2022-07-03 20:40:19 fostool\\task\\fusion.py 71 \\ - INFO -    val_loss             model_name\n",
      "0  0.000038      KRNNModel_01c6_14\n",
      "1  0.000013      KRNNModel_b07a_21\n",
      "3  0.000060        MLP_Res_2975_14\n",
      "4  0.000026        MLP_Res_8f02_21\n",
      "6  0.000063  SandwichModel_1f18_14\n",
      "7  0.000010  SandwichModel_7e50_21\n",
      "2022-07-03 20:40:19 fostool\\dataset\\data_utils.py 426 \\ - INFO - 54537 Rows Before Time Reindex.\n",
      "2022-07-03 20:40:19 fostool\\dataset\\data_utils.py 428 \\ - INFO - 54537 Rows After Time Reindex.\n",
      "2022-07-03 20:40:19 fostool\\dataset\\data_utils.py 429 \\ - INFO - --------------------\n",
      "2022-07-03 20:40:19 fostool\\dataset\\data_utils.py 457 \\ - INFO - 54537 Rows Before Fill Missing.\n"
     ]
    },
    {
     "name": "stdout",
     "output_type": "stream",
     "text": [
      "CPU times: total: 1min 4s\n",
      "Wall time: 39.3 s\n",
      "imf5_HRB_pd_melt_2021-01-03.csv\n"
     ]
    },
    {
     "name": "stderr",
     "output_type": "stream",
     "text": [
      "2022-07-03 20:40:26 fostool\\dataset\\data_utils.py 461 \\ - INFO - 54537 Rows After Fill Missing.\n",
      "2022-07-03 20:40:26 fostool\\dataset\\data_utils.py 462 \\ - INFO - --------------------\n",
      "2022-07-03 20:40:59 fostool\\task\\fusion.py 71 \\ - INFO -    val_loss             model_name\n",
      "0  0.000038      KRNNModel_01c6_14\n",
      "1  0.000013      KRNNModel_b07a_21\n",
      "3  0.000060        MLP_Res_2975_14\n",
      "4  0.000026        MLP_Res_8f02_21\n",
      "6  0.000063  SandwichModel_1f18_14\n",
      "7  0.000010  SandwichModel_7e50_21\n",
      "2022-07-03 20:40:59 fostool\\task\\config_handler.py 28 \\ - INFO - yaml handler load path: C:\\Users\\Xiaoyi Wang\\.conda\\envs\\geo_env\\lib\\site-packages\\fostool\\config/default.yaml\n"
     ]
    },
    {
     "name": "stdout",
     "output_type": "stream",
     "text": [
      "CPU times: total: 1min 4s\n",
      "Wall time: 40.2 s\n",
      "imf6_HRB_pd_melt_2019-03-03.csv\n"
     ]
    },
    {
     "name": "stderr",
     "output_type": "stream",
     "text": [
      "2022-07-03 20:40:59 fostool\\dataset\\data_utils.py 426 \\ - INFO - 54537 Rows Before Time Reindex.\n",
      "2022-07-03 20:40:59 fostool\\dataset\\data_utils.py 428 \\ - INFO - 54537 Rows After Time Reindex.\n",
      "2022-07-03 20:40:59 fostool\\dataset\\data_utils.py 429 \\ - INFO - --------------------\n",
      "2022-07-03 20:40:59 fostool\\dataset\\data_utils.py 457 \\ - INFO - 54537 Rows Before Fill Missing.\n",
      "2022-07-03 20:41:06 fostool\\dataset\\data_utils.py 461 \\ - INFO - 54537 Rows After Fill Missing.\n",
      "2022-07-03 20:41:06 fostool\\dataset\\data_utils.py 462 \\ - INFO - --------------------\n",
      "2022-07-03 20:41:39 fostool\\task\\fusion.py 71 \\ - INFO -    val_loss             model_name\n",
      "0  0.000023      KRNNModel_01c6_14\n",
      "1  0.000017      KRNNModel_b07a_21\n",
      "2  0.000022       KRNNModel_b681_7\n",
      "3  0.000022        MLP_Res_2975_14\n",
      "4  0.000007        MLP_Res_8f02_21\n",
      "5  0.000009         MLP_Res_9b96_7\n",
      "7  0.000007  SandwichModel_7e50_21\n",
      "2022-07-03 20:41:39 fostool\\dataset\\data_utils.py 426 \\ - INFO - 54537 Rows Before Time Reindex.\n",
      "2022-07-03 20:41:39 fostool\\dataset\\data_utils.py 428 \\ - INFO - 54537 Rows After Time Reindex.\n",
      "2022-07-03 20:41:39 fostool\\dataset\\data_utils.py 429 \\ - INFO - --------------------\n",
      "2022-07-03 20:41:39 fostool\\dataset\\data_utils.py 457 \\ - INFO - 54537 Rows Before Fill Missing.\n"
     ]
    },
    {
     "name": "stdout",
     "output_type": "stream",
     "text": [
      "CPU times: total: 1min 1s\n",
      "Wall time: 39.3 s\n",
      "imf6_HRB_pd_melt_2019-03-31.csv\n"
     ]
    },
    {
     "name": "stderr",
     "output_type": "stream",
     "text": [
      "2022-07-03 20:41:45 fostool\\dataset\\data_utils.py 461 \\ - INFO - 54537 Rows After Fill Missing.\n",
      "2022-07-03 20:41:45 fostool\\dataset\\data_utils.py 462 \\ - INFO - --------------------\n",
      "2022-07-03 20:42:18 fostool\\task\\fusion.py 71 \\ - INFO -    val_loss             model_name\n",
      "0  0.000023      KRNNModel_01c6_14\n",
      "1  0.000017      KRNNModel_b07a_21\n",
      "2  0.000022       KRNNModel_b681_7\n",
      "3  0.000022        MLP_Res_2975_14\n",
      "4  0.000007        MLP_Res_8f02_21\n",
      "5  0.000009         MLP_Res_9b96_7\n",
      "7  0.000007  SandwichModel_7e50_21\n",
      "2022-07-03 20:42:18 fostool\\dataset\\data_utils.py 426 \\ - INFO - 54537 Rows Before Time Reindex.\n",
      "2022-07-03 20:42:18 fostool\\dataset\\data_utils.py 428 \\ - INFO - 54537 Rows After Time Reindex.\n",
      "2022-07-03 20:42:18 fostool\\dataset\\data_utils.py 429 \\ - INFO - --------------------\n",
      "2022-07-03 20:42:18 fostool\\dataset\\data_utils.py 457 \\ - INFO - 54537 Rows Before Fill Missing.\n"
     ]
    },
    {
     "name": "stdout",
     "output_type": "stream",
     "text": [
      "CPU times: total: 1min 3s\n",
      "Wall time: 39.8 s\n",
      "imf6_HRB_pd_melt_2019-04-28.csv\n"
     ]
    },
    {
     "name": "stderr",
     "output_type": "stream",
     "text": [
      "2022-07-03 20:42:25 fostool\\dataset\\data_utils.py 461 \\ - INFO - 54537 Rows After Fill Missing.\n",
      "2022-07-03 20:42:25 fostool\\dataset\\data_utils.py 462 \\ - INFO - --------------------\n",
      "2022-07-03 20:42:58 fostool\\task\\fusion.py 71 \\ - INFO -    val_loss             model_name\n",
      "0  0.000023      KRNNModel_01c6_14\n",
      "1  0.000017      KRNNModel_b07a_21\n",
      "2  0.000022       KRNNModel_b681_7\n",
      "3  0.000022        MLP_Res_2975_14\n",
      "4  0.000007        MLP_Res_8f02_21\n",
      "5  0.000009         MLP_Res_9b96_7\n",
      "7  0.000007  SandwichModel_7e50_21\n",
      "2022-07-03 20:42:58 fostool\\dataset\\data_utils.py 426 \\ - INFO - 54537 Rows Before Time Reindex.\n",
      "2022-07-03 20:42:58 fostool\\dataset\\data_utils.py 428 \\ - INFO - 54537 Rows After Time Reindex.\n",
      "2022-07-03 20:42:58 fostool\\dataset\\data_utils.py 429 \\ - INFO - --------------------\n",
      "2022-07-03 20:42:58 fostool\\dataset\\data_utils.py 457 \\ - INFO - 54537 Rows Before Fill Missing.\n"
     ]
    },
    {
     "name": "stdout",
     "output_type": "stream",
     "text": [
      "CPU times: total: 1min 2s\n",
      "Wall time: 39.6 s\n",
      "imf6_HRB_pd_melt_2019-05-26.csv\n"
     ]
    },
    {
     "name": "stderr",
     "output_type": "stream",
     "text": [
      "2022-07-03 20:43:04 fostool\\dataset\\data_utils.py 461 \\ - INFO - 54537 Rows After Fill Missing.\n",
      "2022-07-03 20:43:04 fostool\\dataset\\data_utils.py 462 \\ - INFO - --------------------\n",
      "2022-07-03 20:43:37 fostool\\task\\fusion.py 71 \\ - INFO -    val_loss             model_name\n",
      "0  0.000023      KRNNModel_01c6_14\n",
      "1  0.000017      KRNNModel_b07a_21\n",
      "2  0.000022       KRNNModel_b681_7\n",
      "3  0.000022        MLP_Res_2975_14\n",
      "4  0.000007        MLP_Res_8f02_21\n",
      "5  0.000009         MLP_Res_9b96_7\n",
      "7  0.000007  SandwichModel_7e50_21\n",
      "2022-07-03 20:43:37 fostool\\dataset\\data_utils.py 426 \\ - INFO - 54537 Rows Before Time Reindex.\n",
      "2022-07-03 20:43:37 fostool\\dataset\\data_utils.py 428 \\ - INFO - 54537 Rows After Time Reindex.\n",
      "2022-07-03 20:43:37 fostool\\dataset\\data_utils.py 429 \\ - INFO - --------------------\n",
      "2022-07-03 20:43:37 fostool\\dataset\\data_utils.py 457 \\ - INFO - 54537 Rows Before Fill Missing.\n"
     ]
    },
    {
     "name": "stdout",
     "output_type": "stream",
     "text": [
      "CPU times: total: 1min 4s\n",
      "Wall time: 39.1 s\n",
      "imf6_HRB_pd_melt_2019-06-23.csv\n"
     ]
    },
    {
     "name": "stderr",
     "output_type": "stream",
     "text": [
      "2022-07-03 20:43:44 fostool\\dataset\\data_utils.py 461 \\ - INFO - 54537 Rows After Fill Missing.\n",
      "2022-07-03 20:43:44 fostool\\dataset\\data_utils.py 462 \\ - INFO - --------------------\n",
      "2022-07-03 20:44:17 fostool\\task\\fusion.py 71 \\ - INFO -    val_loss             model_name\n",
      "0  0.000023      KRNNModel_01c6_14\n",
      "1  0.000017      KRNNModel_b07a_21\n",
      "2  0.000022       KRNNModel_b681_7\n",
      "3  0.000022        MLP_Res_2975_14\n",
      "4  0.000007        MLP_Res_8f02_21\n",
      "5  0.000009         MLP_Res_9b96_7\n",
      "7  0.000007  SandwichModel_7e50_21\n",
      "2022-07-03 20:44:17 fostool\\dataset\\data_utils.py 426 \\ - INFO - 54537 Rows Before Time Reindex.\n",
      "2022-07-03 20:44:17 fostool\\dataset\\data_utils.py 428 \\ - INFO - 54537 Rows After Time Reindex.\n",
      "2022-07-03 20:44:17 fostool\\dataset\\data_utils.py 429 \\ - INFO - --------------------\n",
      "2022-07-03 20:44:17 fostool\\dataset\\data_utils.py 457 \\ - INFO - 54537 Rows Before Fill Missing.\n"
     ]
    },
    {
     "name": "stdout",
     "output_type": "stream",
     "text": [
      "CPU times: total: 1min 4s\n",
      "Wall time: 39.6 s\n",
      "imf6_HRB_pd_melt_2019-07-21.csv\n"
     ]
    },
    {
     "name": "stderr",
     "output_type": "stream",
     "text": [
      "2022-07-03 20:44:23 fostool\\dataset\\data_utils.py 461 \\ - INFO - 54537 Rows After Fill Missing.\n",
      "2022-07-03 20:44:23 fostool\\dataset\\data_utils.py 462 \\ - INFO - --------------------\n",
      "2022-07-03 20:44:57 fostool\\task\\fusion.py 71 \\ - INFO -    val_loss             model_name\n",
      "0  0.000023      KRNNModel_01c6_14\n",
      "1  0.000017      KRNNModel_b07a_21\n",
      "2  0.000022       KRNNModel_b681_7\n",
      "3  0.000022        MLP_Res_2975_14\n",
      "4  0.000007        MLP_Res_8f02_21\n",
      "5  0.000009         MLP_Res_9b96_7\n",
      "7  0.000007  SandwichModel_7e50_21\n",
      "2022-07-03 20:44:57 fostool\\dataset\\data_utils.py 426 \\ - INFO - 54537 Rows Before Time Reindex.\n",
      "2022-07-03 20:44:57 fostool\\dataset\\data_utils.py 428 \\ - INFO - 54537 Rows After Time Reindex.\n",
      "2022-07-03 20:44:57 fostool\\dataset\\data_utils.py 429 \\ - INFO - --------------------\n",
      "2022-07-03 20:44:57 fostool\\dataset\\data_utils.py 457 \\ - INFO - 54537 Rows Before Fill Missing.\n"
     ]
    },
    {
     "name": "stdout",
     "output_type": "stream",
     "text": [
      "CPU times: total: 1min 5s\n",
      "Wall time: 40.5 s\n",
      "imf6_HRB_pd_melt_2019-08-18.csv\n"
     ]
    },
    {
     "name": "stderr",
     "output_type": "stream",
     "text": [
      "2022-07-03 20:45:04 fostool\\dataset\\data_utils.py 461 \\ - INFO - 54537 Rows After Fill Missing.\n",
      "2022-07-03 20:45:04 fostool\\dataset\\data_utils.py 462 \\ - INFO - --------------------\n",
      "2022-07-03 20:45:37 fostool\\task\\fusion.py 71 \\ - INFO -    val_loss             model_name\n",
      "0  0.000023      KRNNModel_01c6_14\n",
      "1  0.000017      KRNNModel_b07a_21\n",
      "2  0.000022       KRNNModel_b681_7\n",
      "3  0.000022        MLP_Res_2975_14\n",
      "4  0.000007        MLP_Res_8f02_21\n",
      "5  0.000009         MLP_Res_9b96_7\n",
      "7  0.000007  SandwichModel_7e50_21\n",
      "2022-07-03 20:45:37 fostool\\dataset\\data_utils.py 426 \\ - INFO - 54537 Rows Before Time Reindex.\n",
      "2022-07-03 20:45:37 fostool\\dataset\\data_utils.py 428 \\ - INFO - 54537 Rows After Time Reindex.\n",
      "2022-07-03 20:45:37 fostool\\dataset\\data_utils.py 429 \\ - INFO - --------------------\n",
      "2022-07-03 20:45:37 fostool\\dataset\\data_utils.py 457 \\ - INFO - 54537 Rows Before Fill Missing.\n"
     ]
    },
    {
     "name": "stdout",
     "output_type": "stream",
     "text": [
      "CPU times: total: 1min 3s\n",
      "Wall time: 39.5 s\n",
      "imf6_HRB_pd_melt_2019-09-15.csv\n"
     ]
    },
    {
     "name": "stderr",
     "output_type": "stream",
     "text": [
      "2022-07-03 20:45:44 fostool\\dataset\\data_utils.py 461 \\ - INFO - 54537 Rows After Fill Missing.\n",
      "2022-07-03 20:45:44 fostool\\dataset\\data_utils.py 462 \\ - INFO - --------------------\n",
      "2022-07-03 20:46:17 fostool\\task\\fusion.py 71 \\ - INFO -    val_loss             model_name\n",
      "0  0.000023      KRNNModel_01c6_14\n",
      "1  0.000017      KRNNModel_b07a_21\n",
      "2  0.000022       KRNNModel_b681_7\n",
      "3  0.000022        MLP_Res_2975_14\n",
      "4  0.000007        MLP_Res_8f02_21\n",
      "5  0.000009         MLP_Res_9b96_7\n",
      "7  0.000007  SandwichModel_7e50_21\n",
      "2022-07-03 20:46:17 fostool\\dataset\\data_utils.py 426 \\ - INFO - 54537 Rows Before Time Reindex.\n",
      "2022-07-03 20:46:17 fostool\\dataset\\data_utils.py 428 \\ - INFO - 54537 Rows After Time Reindex.\n",
      "2022-07-03 20:46:17 fostool\\dataset\\data_utils.py 429 \\ - INFO - --------------------\n",
      "2022-07-03 20:46:17 fostool\\dataset\\data_utils.py 457 \\ - INFO - 54537 Rows Before Fill Missing.\n"
     ]
    },
    {
     "name": "stdout",
     "output_type": "stream",
     "text": [
      "CPU times: total: 1min 2s\n",
      "Wall time: 40 s\n",
      "imf6_HRB_pd_melt_2019-10-13.csv\n"
     ]
    },
    {
     "name": "stderr",
     "output_type": "stream",
     "text": [
      "2022-07-03 20:46:24 fostool\\dataset\\data_utils.py 461 \\ - INFO - 54537 Rows After Fill Missing.\n",
      "2022-07-03 20:46:24 fostool\\dataset\\data_utils.py 462 \\ - INFO - --------------------\n",
      "2022-07-03 20:46:57 fostool\\task\\fusion.py 71 \\ - INFO -    val_loss             model_name\n",
      "0  0.000023      KRNNModel_01c6_14\n",
      "1  0.000017      KRNNModel_b07a_21\n",
      "2  0.000022       KRNNModel_b681_7\n",
      "3  0.000022        MLP_Res_2975_14\n",
      "4  0.000007        MLP_Res_8f02_21\n",
      "5  0.000009         MLP_Res_9b96_7\n",
      "7  0.000007  SandwichModel_7e50_21\n",
      "2022-07-03 20:46:57 fostool\\dataset\\data_utils.py 426 \\ - INFO - 54537 Rows Before Time Reindex.\n",
      "2022-07-03 20:46:58 fostool\\dataset\\data_utils.py 428 \\ - INFO - 54537 Rows After Time Reindex.\n",
      "2022-07-03 20:46:58 fostool\\dataset\\data_utils.py 429 \\ - INFO - --------------------\n",
      "2022-07-03 20:46:58 fostool\\dataset\\data_utils.py 457 \\ - INFO - 54537 Rows Before Fill Missing.\n"
     ]
    },
    {
     "name": "stdout",
     "output_type": "stream",
     "text": [
      "CPU times: total: 1min 3s\n",
      "Wall time: 40.4 s\n",
      "imf6_HRB_pd_melt_2019-11-10.csv\n"
     ]
    },
    {
     "name": "stderr",
     "output_type": "stream",
     "text": [
      "2022-07-03 20:47:04 fostool\\dataset\\data_utils.py 461 \\ - INFO - 54537 Rows After Fill Missing.\n",
      "2022-07-03 20:47:04 fostool\\dataset\\data_utils.py 462 \\ - INFO - --------------------\n",
      "2022-07-03 20:47:37 fostool\\task\\fusion.py 71 \\ - INFO -    val_loss             model_name\n",
      "0  0.000023      KRNNModel_01c6_14\n",
      "1  0.000017      KRNNModel_b07a_21\n",
      "2  0.000022       KRNNModel_b681_7\n",
      "3  0.000022        MLP_Res_2975_14\n",
      "4  0.000007        MLP_Res_8f02_21\n",
      "5  0.000009         MLP_Res_9b96_7\n",
      "7  0.000007  SandwichModel_7e50_21\n",
      "2022-07-03 20:47:37 fostool\\dataset\\data_utils.py 426 \\ - INFO - 54537 Rows Before Time Reindex.\n",
      "2022-07-03 20:47:37 fostool\\dataset\\data_utils.py 428 \\ - INFO - 54537 Rows After Time Reindex.\n",
      "2022-07-03 20:47:37 fostool\\dataset\\data_utils.py 429 \\ - INFO - --------------------\n",
      "2022-07-03 20:47:37 fostool\\dataset\\data_utils.py 457 \\ - INFO - 54537 Rows Before Fill Missing.\n"
     ]
    },
    {
     "name": "stdout",
     "output_type": "stream",
     "text": [
      "CPU times: total: 1min 2s\n",
      "Wall time: 39.9 s\n",
      "imf6_HRB_pd_melt_2019-12-08.csv\n"
     ]
    },
    {
     "name": "stderr",
     "output_type": "stream",
     "text": [
      "2022-07-03 20:47:44 fostool\\dataset\\data_utils.py 461 \\ - INFO - 54537 Rows After Fill Missing.\n",
      "2022-07-03 20:47:44 fostool\\dataset\\data_utils.py 462 \\ - INFO - --------------------\n",
      "2022-07-03 20:48:17 fostool\\task\\fusion.py 71 \\ - INFO -    val_loss             model_name\n",
      "0  0.000023      KRNNModel_01c6_14\n",
      "1  0.000017      KRNNModel_b07a_21\n",
      "2  0.000022       KRNNModel_b681_7\n",
      "3  0.000022        MLP_Res_2975_14\n",
      "4  0.000007        MLP_Res_8f02_21\n",
      "5  0.000009         MLP_Res_9b96_7\n",
      "7  0.000007  SandwichModel_7e50_21\n",
      "2022-07-03 20:48:17 fostool\\dataset\\data_utils.py 426 \\ - INFO - 54537 Rows Before Time Reindex.\n",
      "2022-07-03 20:48:17 fostool\\dataset\\data_utils.py 428 \\ - INFO - 54537 Rows After Time Reindex.\n",
      "2022-07-03 20:48:17 fostool\\dataset\\data_utils.py 429 \\ - INFO - --------------------\n",
      "2022-07-03 20:48:17 fostool\\dataset\\data_utils.py 457 \\ - INFO - 54537 Rows Before Fill Missing.\n"
     ]
    },
    {
     "name": "stdout",
     "output_type": "stream",
     "text": [
      "CPU times: total: 1min 2s\n",
      "Wall time: 39.7 s\n",
      "imf6_HRB_pd_melt_2020-01-05.csv\n"
     ]
    },
    {
     "name": "stderr",
     "output_type": "stream",
     "text": [
      "2022-07-03 20:48:24 fostool\\dataset\\data_utils.py 461 \\ - INFO - 54537 Rows After Fill Missing.\n",
      "2022-07-03 20:48:24 fostool\\dataset\\data_utils.py 462 \\ - INFO - --------------------\n",
      "2022-07-03 20:48:58 fostool\\task\\fusion.py 71 \\ - INFO -    val_loss             model_name\n",
      "0  0.000023      KRNNModel_01c6_14\n",
      "1  0.000017      KRNNModel_b07a_21\n",
      "2  0.000022       KRNNModel_b681_7\n",
      "3  0.000022        MLP_Res_2975_14\n",
      "4  0.000007        MLP_Res_8f02_21\n",
      "5  0.000009         MLP_Res_9b96_7\n",
      "7  0.000007  SandwichModel_7e50_21\n",
      "2022-07-03 20:48:58 fostool\\dataset\\data_utils.py 426 \\ - INFO - 54537 Rows Before Time Reindex.\n",
      "2022-07-03 20:48:58 fostool\\dataset\\data_utils.py 428 \\ - INFO - 54537 Rows After Time Reindex.\n",
      "2022-07-03 20:48:58 fostool\\dataset\\data_utils.py 429 \\ - INFO - --------------------\n",
      "2022-07-03 20:48:58 fostool\\dataset\\data_utils.py 457 \\ - INFO - 54537 Rows Before Fill Missing.\n"
     ]
    },
    {
     "name": "stdout",
     "output_type": "stream",
     "text": [
      "CPU times: total: 1min 4s\n",
      "Wall time: 40.4 s\n",
      "imf6_HRB_pd_melt_2020-02-02.csv\n"
     ]
    },
    {
     "name": "stderr",
     "output_type": "stream",
     "text": [
      "2022-07-03 20:49:04 fostool\\dataset\\data_utils.py 461 \\ - INFO - 54537 Rows After Fill Missing.\n",
      "2022-07-03 20:49:04 fostool\\dataset\\data_utils.py 462 \\ - INFO - --------------------\n",
      "2022-07-03 20:49:37 fostool\\task\\fusion.py 71 \\ - INFO -    val_loss             model_name\n",
      "0  0.000023      KRNNModel_01c6_14\n",
      "1  0.000017      KRNNModel_b07a_21\n",
      "2  0.000022       KRNNModel_b681_7\n",
      "3  0.000022        MLP_Res_2975_14\n",
      "4  0.000007        MLP_Res_8f02_21\n",
      "5  0.000009         MLP_Res_9b96_7\n",
      "7  0.000007  SandwichModel_7e50_21\n",
      "2022-07-03 20:49:37 fostool\\dataset\\data_utils.py 426 \\ - INFO - 54537 Rows Before Time Reindex.\n",
      "2022-07-03 20:49:37 fostool\\dataset\\data_utils.py 428 \\ - INFO - 54537 Rows After Time Reindex.\n",
      "2022-07-03 20:49:38 fostool\\dataset\\data_utils.py 429 \\ - INFO - --------------------\n",
      "2022-07-03 20:49:38 fostool\\dataset\\data_utils.py 457 \\ - INFO - 54537 Rows Before Fill Missing.\n"
     ]
    },
    {
     "name": "stdout",
     "output_type": "stream",
     "text": [
      "CPU times: total: 1min 4s\n",
      "Wall time: 39.8 s\n",
      "imf6_HRB_pd_melt_2020-03-01.csv\n"
     ]
    },
    {
     "name": "stderr",
     "output_type": "stream",
     "text": [
      "2022-07-03 20:49:44 fostool\\dataset\\data_utils.py 461 \\ - INFO - 54537 Rows After Fill Missing.\n",
      "2022-07-03 20:49:44 fostool\\dataset\\data_utils.py 462 \\ - INFO - --------------------\n",
      "2022-07-03 20:50:17 fostool\\task\\fusion.py 71 \\ - INFO -    val_loss             model_name\n",
      "0  0.000023      KRNNModel_01c6_14\n",
      "1  0.000017      KRNNModel_b07a_21\n",
      "2  0.000022       KRNNModel_b681_7\n",
      "3  0.000022        MLP_Res_2975_14\n",
      "4  0.000007        MLP_Res_8f02_21\n",
      "5  0.000009         MLP_Res_9b96_7\n",
      "7  0.000007  SandwichModel_7e50_21\n",
      "2022-07-03 20:50:17 fostool\\dataset\\data_utils.py 426 \\ - INFO - 54537 Rows Before Time Reindex.\n",
      "2022-07-03 20:50:17 fostool\\dataset\\data_utils.py 428 \\ - INFO - 54537 Rows After Time Reindex.\n",
      "2022-07-03 20:50:17 fostool\\dataset\\data_utils.py 429 \\ - INFO - --------------------\n",
      "2022-07-03 20:50:17 fostool\\dataset\\data_utils.py 457 \\ - INFO - 54537 Rows Before Fill Missing.\n"
     ]
    },
    {
     "name": "stdout",
     "output_type": "stream",
     "text": [
      "CPU times: total: 1min 2s\n",
      "Wall time: 39.2 s\n",
      "imf6_HRB_pd_melt_2020-03-29.csv\n"
     ]
    },
    {
     "name": "stderr",
     "output_type": "stream",
     "text": [
      "2022-07-03 20:50:24 fostool\\dataset\\data_utils.py 461 \\ - INFO - 54537 Rows After Fill Missing.\n",
      "2022-07-03 20:50:24 fostool\\dataset\\data_utils.py 462 \\ - INFO - --------------------\n",
      "2022-07-03 20:50:57 fostool\\task\\fusion.py 71 \\ - INFO -    val_loss             model_name\n",
      "0  0.000023      KRNNModel_01c6_14\n",
      "1  0.000017      KRNNModel_b07a_21\n",
      "2  0.000022       KRNNModel_b681_7\n",
      "3  0.000022        MLP_Res_2975_14\n",
      "4  0.000007        MLP_Res_8f02_21\n",
      "5  0.000009         MLP_Res_9b96_7\n",
      "7  0.000007  SandwichModel_7e50_21\n",
      "2022-07-03 20:50:57 fostool\\dataset\\data_utils.py 426 \\ - INFO - 54537 Rows Before Time Reindex.\n",
      "2022-07-03 20:50:57 fostool\\dataset\\data_utils.py 428 \\ - INFO - 54537 Rows After Time Reindex.\n",
      "2022-07-03 20:50:57 fostool\\dataset\\data_utils.py 429 \\ - INFO - --------------------\n",
      "2022-07-03 20:50:57 fostool\\dataset\\data_utils.py 457 \\ - INFO - 54537 Rows Before Fill Missing.\n"
     ]
    },
    {
     "name": "stdout",
     "output_type": "stream",
     "text": [
      "CPU times: total: 1min 2s\n",
      "Wall time: 39.9 s\n",
      "imf6_HRB_pd_melt_2020-04-26.csv\n"
     ]
    },
    {
     "name": "stderr",
     "output_type": "stream",
     "text": [
      "2022-07-03 20:51:03 fostool\\dataset\\data_utils.py 461 \\ - INFO - 54537 Rows After Fill Missing.\n",
      "2022-07-03 20:51:03 fostool\\dataset\\data_utils.py 462 \\ - INFO - --------------------\n",
      "2022-07-03 20:51:36 fostool\\task\\fusion.py 71 \\ - INFO -    val_loss             model_name\n",
      "0  0.000023      KRNNModel_01c6_14\n",
      "1  0.000017      KRNNModel_b07a_21\n",
      "2  0.000022       KRNNModel_b681_7\n",
      "3  0.000022        MLP_Res_2975_14\n",
      "4  0.000007        MLP_Res_8f02_21\n",
      "5  0.000009         MLP_Res_9b96_7\n",
      "7  0.000007  SandwichModel_7e50_21\n",
      "2022-07-03 20:51:36 fostool\\dataset\\data_utils.py 426 \\ - INFO - 54537 Rows Before Time Reindex.\n",
      "2022-07-03 20:51:36 fostool\\dataset\\data_utils.py 428 \\ - INFO - 54537 Rows After Time Reindex.\n"
     ]
    },
    {
     "name": "stdout",
     "output_type": "stream",
     "text": [
      "CPU times: total: 1min 2s\n",
      "Wall time: 39 s\n",
      "imf6_HRB_pd_melt_2020-05-24.csv\n"
     ]
    },
    {
     "name": "stderr",
     "output_type": "stream",
     "text": [
      "2022-07-03 20:51:36 fostool\\dataset\\data_utils.py 429 \\ - INFO - --------------------\n",
      "2022-07-03 20:51:36 fostool\\dataset\\data_utils.py 457 \\ - INFO - 54537 Rows Before Fill Missing.\n",
      "2022-07-03 20:51:43 fostool\\dataset\\data_utils.py 461 \\ - INFO - 54537 Rows After Fill Missing.\n",
      "2022-07-03 20:51:43 fostool\\dataset\\data_utils.py 462 \\ - INFO - --------------------\n",
      "2022-07-03 20:52:16 fostool\\task\\fusion.py 71 \\ - INFO -    val_loss             model_name\n",
      "0  0.000023      KRNNModel_01c6_14\n",
      "1  0.000017      KRNNModel_b07a_21\n",
      "2  0.000022       KRNNModel_b681_7\n",
      "3  0.000022        MLP_Res_2975_14\n",
      "4  0.000007        MLP_Res_8f02_21\n",
      "5  0.000009         MLP_Res_9b96_7\n",
      "7  0.000007  SandwichModel_7e50_21\n",
      "2022-07-03 20:52:16 fostool\\dataset\\data_utils.py 426 \\ - INFO - 54537 Rows Before Time Reindex.\n",
      "2022-07-03 20:52:16 fostool\\dataset\\data_utils.py 428 \\ - INFO - 54537 Rows After Time Reindex.\n",
      "2022-07-03 20:52:16 fostool\\dataset\\data_utils.py 429 \\ - INFO - --------------------\n",
      "2022-07-03 20:52:16 fostool\\dataset\\data_utils.py 457 \\ - INFO - 54537 Rows Before Fill Missing.\n"
     ]
    },
    {
     "name": "stdout",
     "output_type": "stream",
     "text": [
      "CPU times: total: 1min 3s\n",
      "Wall time: 40.1 s\n",
      "imf6_HRB_pd_melt_2020-06-21.csv\n"
     ]
    },
    {
     "name": "stderr",
     "output_type": "stream",
     "text": [
      "2022-07-03 20:52:22 fostool\\dataset\\data_utils.py 461 \\ - INFO - 54537 Rows After Fill Missing.\n",
      "2022-07-03 20:52:22 fostool\\dataset\\data_utils.py 462 \\ - INFO - --------------------\n",
      "2022-07-03 20:52:56 fostool\\task\\fusion.py 71 \\ - INFO -    val_loss             model_name\n",
      "0  0.000023      KRNNModel_01c6_14\n",
      "1  0.000017      KRNNModel_b07a_21\n",
      "2  0.000022       KRNNModel_b681_7\n",
      "3  0.000022        MLP_Res_2975_14\n",
      "4  0.000007        MLP_Res_8f02_21\n",
      "5  0.000009         MLP_Res_9b96_7\n",
      "7  0.000007  SandwichModel_7e50_21\n",
      "2022-07-03 20:52:56 fostool\\dataset\\data_utils.py 426 \\ - INFO - 54537 Rows Before Time Reindex.\n",
      "2022-07-03 20:52:56 fostool\\dataset\\data_utils.py 428 \\ - INFO - 54537 Rows After Time Reindex.\n",
      "2022-07-03 20:52:56 fostool\\dataset\\data_utils.py 429 \\ - INFO - --------------------\n",
      "2022-07-03 20:52:56 fostool\\dataset\\data_utils.py 457 \\ - INFO - 54537 Rows Before Fill Missing.\n"
     ]
    },
    {
     "name": "stdout",
     "output_type": "stream",
     "text": [
      "CPU times: total: 1min 4s\n",
      "Wall time: 40 s\n",
      "imf6_HRB_pd_melt_2020-07-19.csv\n"
     ]
    },
    {
     "name": "stderr",
     "output_type": "stream",
     "text": [
      "2022-07-03 20:53:03 fostool\\dataset\\data_utils.py 461 \\ - INFO - 54537 Rows After Fill Missing.\n",
      "2022-07-03 20:53:03 fostool\\dataset\\data_utils.py 462 \\ - INFO - --------------------\n",
      "2022-07-03 20:53:35 fostool\\task\\fusion.py 71 \\ - INFO -    val_loss             model_name\n",
      "0  0.000023      KRNNModel_01c6_14\n",
      "1  0.000017      KRNNModel_b07a_21\n",
      "2  0.000022       KRNNModel_b681_7\n",
      "3  0.000022        MLP_Res_2975_14\n",
      "4  0.000007        MLP_Res_8f02_21\n",
      "5  0.000009         MLP_Res_9b96_7\n",
      "7  0.000007  SandwichModel_7e50_21\n",
      "2022-07-03 20:53:35 fostool\\dataset\\data_utils.py 426 \\ - INFO - 54537 Rows Before Time Reindex.\n",
      "2022-07-03 20:53:35 fostool\\dataset\\data_utils.py 428 \\ - INFO - 54537 Rows After Time Reindex.\n",
      "2022-07-03 20:53:35 fostool\\dataset\\data_utils.py 429 \\ - INFO - --------------------\n",
      "2022-07-03 20:53:35 fostool\\dataset\\data_utils.py 457 \\ - INFO - 54537 Rows Before Fill Missing.\n"
     ]
    },
    {
     "name": "stdout",
     "output_type": "stream",
     "text": [
      "CPU times: total: 1min 1s\n",
      "Wall time: 39.3 s\n",
      "imf6_HRB_pd_melt_2020-08-16.csv\n"
     ]
    },
    {
     "name": "stderr",
     "output_type": "stream",
     "text": [
      "2022-07-03 20:53:42 fostool\\dataset\\data_utils.py 461 \\ - INFO - 54537 Rows After Fill Missing.\n",
      "2022-07-03 20:53:42 fostool\\dataset\\data_utils.py 462 \\ - INFO - --------------------\n",
      "2022-07-03 20:54:15 fostool\\task\\fusion.py 71 \\ - INFO -    val_loss             model_name\n",
      "0  0.000023      KRNNModel_01c6_14\n",
      "1  0.000017      KRNNModel_b07a_21\n",
      "2  0.000022       KRNNModel_b681_7\n",
      "3  0.000022        MLP_Res_2975_14\n",
      "4  0.000007        MLP_Res_8f02_21\n",
      "5  0.000009         MLP_Res_9b96_7\n",
      "7  0.000007  SandwichModel_7e50_21\n",
      "2022-07-03 20:54:16 fostool\\dataset\\data_utils.py 426 \\ - INFO - 54537 Rows Before Time Reindex.\n",
      "2022-07-03 20:54:16 fostool\\dataset\\data_utils.py 428 \\ - INFO - 54537 Rows After Time Reindex.\n"
     ]
    },
    {
     "name": "stdout",
     "output_type": "stream",
     "text": [
      "CPU times: total: 1min 5s\n",
      "Wall time: 40.2 s\n",
      "imf6_HRB_pd_melt_2020-09-13.csv\n"
     ]
    },
    {
     "name": "stderr",
     "output_type": "stream",
     "text": [
      "2022-07-03 20:54:16 fostool\\dataset\\data_utils.py 429 \\ - INFO - --------------------\n",
      "2022-07-03 20:54:16 fostool\\dataset\\data_utils.py 457 \\ - INFO - 54537 Rows Before Fill Missing.\n",
      "2022-07-03 20:54:22 fostool\\dataset\\data_utils.py 461 \\ - INFO - 54537 Rows After Fill Missing.\n",
      "2022-07-03 20:54:22 fostool\\dataset\\data_utils.py 462 \\ - INFO - --------------------\n",
      "2022-07-03 20:54:55 fostool\\task\\fusion.py 71 \\ - INFO -    val_loss             model_name\n",
      "0  0.000023      KRNNModel_01c6_14\n",
      "1  0.000017      KRNNModel_b07a_21\n",
      "2  0.000022       KRNNModel_b681_7\n",
      "3  0.000022        MLP_Res_2975_14\n",
      "4  0.000007        MLP_Res_8f02_21\n",
      "5  0.000009         MLP_Res_9b96_7\n",
      "7  0.000007  SandwichModel_7e50_21\n",
      "2022-07-03 20:54:55 fostool\\dataset\\data_utils.py 426 \\ - INFO - 54537 Rows Before Time Reindex.\n",
      "2022-07-03 20:54:55 fostool\\dataset\\data_utils.py 428 \\ - INFO - 54537 Rows After Time Reindex.\n",
      "2022-07-03 20:54:55 fostool\\dataset\\data_utils.py 429 \\ - INFO - --------------------\n",
      "2022-07-03 20:54:55 fostool\\dataset\\data_utils.py 457 \\ - INFO - 54537 Rows Before Fill Missing.\n"
     ]
    },
    {
     "name": "stdout",
     "output_type": "stream",
     "text": [
      "CPU times: total: 1min 3s\n",
      "Wall time: 39.6 s\n",
      "imf6_HRB_pd_melt_2020-10-11.csv\n"
     ]
    },
    {
     "name": "stderr",
     "output_type": "stream",
     "text": [
      "2022-07-03 20:55:02 fostool\\dataset\\data_utils.py 461 \\ - INFO - 54537 Rows After Fill Missing.\n",
      "2022-07-03 20:55:02 fostool\\dataset\\data_utils.py 462 \\ - INFO - --------------------\n",
      "2022-07-03 20:55:35 fostool\\task\\fusion.py 71 \\ - INFO -    val_loss             model_name\n",
      "0  0.000023      KRNNModel_01c6_14\n",
      "1  0.000017      KRNNModel_b07a_21\n",
      "2  0.000022       KRNNModel_b681_7\n",
      "3  0.000022        MLP_Res_2975_14\n",
      "4  0.000007        MLP_Res_8f02_21\n",
      "5  0.000009         MLP_Res_9b96_7\n",
      "7  0.000007  SandwichModel_7e50_21\n",
      "2022-07-03 20:55:36 fostool\\dataset\\data_utils.py 426 \\ - INFO - 54537 Rows Before Time Reindex.\n",
      "2022-07-03 20:55:36 fostool\\dataset\\data_utils.py 428 \\ - INFO - 54537 Rows After Time Reindex.\n",
      "2022-07-03 20:55:36 fostool\\dataset\\data_utils.py 429 \\ - INFO - --------------------\n",
      "2022-07-03 20:55:36 fostool\\dataset\\data_utils.py 457 \\ - INFO - 54537 Rows Before Fill Missing.\n"
     ]
    },
    {
     "name": "stdout",
     "output_type": "stream",
     "text": [
      "CPU times: total: 1min 5s\n",
      "Wall time: 40.4 s\n",
      "imf6_HRB_pd_melt_2020-11-08.csv\n"
     ]
    },
    {
     "name": "stderr",
     "output_type": "stream",
     "text": [
      "2022-07-03 20:55:42 fostool\\dataset\\data_utils.py 461 \\ - INFO - 54537 Rows After Fill Missing.\n",
      "2022-07-03 20:55:42 fostool\\dataset\\data_utils.py 462 \\ - INFO - --------------------\n",
      "2022-07-03 20:56:16 fostool\\task\\fusion.py 71 \\ - INFO -    val_loss             model_name\n",
      "0  0.000023      KRNNModel_01c6_14\n",
      "1  0.000017      KRNNModel_b07a_21\n",
      "2  0.000022       KRNNModel_b681_7\n",
      "3  0.000022        MLP_Res_2975_14\n",
      "4  0.000007        MLP_Res_8f02_21\n",
      "5  0.000009         MLP_Res_9b96_7\n",
      "7  0.000007  SandwichModel_7e50_21\n",
      "2022-07-03 20:56:16 fostool\\dataset\\data_utils.py 426 \\ - INFO - 54537 Rows Before Time Reindex.\n",
      "2022-07-03 20:56:16 fostool\\dataset\\data_utils.py 428 \\ - INFO - 54537 Rows After Time Reindex.\n",
      "2022-07-03 20:56:16 fostool\\dataset\\data_utils.py 429 \\ - INFO - --------------------\n",
      "2022-07-03 20:56:16 fostool\\dataset\\data_utils.py 457 \\ - INFO - 54537 Rows Before Fill Missing.\n"
     ]
    },
    {
     "name": "stdout",
     "output_type": "stream",
     "text": [
      "CPU times: total: 1min 4s\n",
      "Wall time: 40.3 s\n",
      "imf6_HRB_pd_melt_2020-12-06.csv\n"
     ]
    },
    {
     "name": "stderr",
     "output_type": "stream",
     "text": [
      "2022-07-03 20:56:23 fostool\\dataset\\data_utils.py 461 \\ - INFO - 54537 Rows After Fill Missing.\n",
      "2022-07-03 20:56:23 fostool\\dataset\\data_utils.py 462 \\ - INFO - --------------------\n",
      "2022-07-03 20:56:56 fostool\\task\\fusion.py 71 \\ - INFO -    val_loss             model_name\n",
      "0  0.000023      KRNNModel_01c6_14\n",
      "1  0.000017      KRNNModel_b07a_21\n",
      "2  0.000022       KRNNModel_b681_7\n",
      "3  0.000022        MLP_Res_2975_14\n",
      "4  0.000007        MLP_Res_8f02_21\n",
      "5  0.000009         MLP_Res_9b96_7\n",
      "7  0.000007  SandwichModel_7e50_21\n",
      "2022-07-03 20:56:56 fostool\\dataset\\data_utils.py 426 \\ - INFO - 54537 Rows Before Time Reindex.\n",
      "2022-07-03 20:56:56 fostool\\dataset\\data_utils.py 428 \\ - INFO - 54537 Rows After Time Reindex.\n",
      "2022-07-03 20:56:56 fostool\\dataset\\data_utils.py 429 \\ - INFO - --------------------\n",
      "2022-07-03 20:56:56 fostool\\dataset\\data_utils.py 457 \\ - INFO - 54537 Rows Before Fill Missing.\n"
     ]
    },
    {
     "name": "stdout",
     "output_type": "stream",
     "text": [
      "CPU times: total: 1min 3s\n",
      "Wall time: 39.8 s\n",
      "imf6_HRB_pd_melt_2021-01-03.csv\n"
     ]
    },
    {
     "name": "stderr",
     "output_type": "stream",
     "text": [
      "2022-07-03 20:57:02 fostool\\dataset\\data_utils.py 461 \\ - INFO - 54537 Rows After Fill Missing.\n",
      "2022-07-03 20:57:02 fostool\\dataset\\data_utils.py 462 \\ - INFO - --------------------\n",
      "2022-07-03 20:57:35 fostool\\task\\fusion.py 71 \\ - INFO -    val_loss             model_name\n",
      "0  0.000023      KRNNModel_01c6_14\n",
      "1  0.000017      KRNNModel_b07a_21\n",
      "2  0.000022       KRNNModel_b681_7\n",
      "3  0.000022        MLP_Res_2975_14\n",
      "4  0.000007        MLP_Res_8f02_21\n",
      "5  0.000009         MLP_Res_9b96_7\n",
      "7  0.000007  SandwichModel_7e50_21\n",
      "2022-07-03 20:57:35 fostool\\task\\config_handler.py 28 \\ - INFO - yaml handler load path: C:\\Users\\Xiaoyi Wang\\.conda\\envs\\geo_env\\lib\\site-packages\\fostool\\config/default.yaml\n"
     ]
    },
    {
     "name": "stdout",
     "output_type": "stream",
     "text": [
      "CPU times: total: 1min 3s\n",
      "Wall time: 39.4 s\n",
      "imf7_HRB_pd_melt_2019-03-03.csv\n"
     ]
    },
    {
     "name": "stderr",
     "output_type": "stream",
     "text": [
      "2022-07-03 20:57:35 fostool\\dataset\\data_utils.py 426 \\ - INFO - 54537 Rows Before Time Reindex.\n",
      "2022-07-03 20:57:35 fostool\\dataset\\data_utils.py 428 \\ - INFO - 54537 Rows After Time Reindex.\n",
      "2022-07-03 20:57:35 fostool\\dataset\\data_utils.py 429 \\ - INFO - --------------------\n",
      "2022-07-03 20:57:35 fostool\\dataset\\data_utils.py 457 \\ - INFO - 54537 Rows Before Fill Missing.\n",
      "2022-07-03 20:57:42 fostool\\dataset\\data_utils.py 461 \\ - INFO - 54537 Rows After Fill Missing.\n",
      "2022-07-03 20:57:42 fostool\\dataset\\data_utils.py 462 \\ - INFO - --------------------\n",
      "2022-07-03 20:58:16 fostool\\task\\fusion.py 71 \\ - INFO -    val_loss        model_name\n",
      "2  0.212436  KRNNModel_b681_7\n",
      "4  0.240665   MLP_Res_8f02_21\n",
      "5  0.186115    MLP_Res_9b96_7\n",
      "2022-07-03 20:58:16 fostool\\dataset\\data_utils.py 426 \\ - INFO - 54537 Rows Before Time Reindex.\n",
      "2022-07-03 20:58:16 fostool\\dataset\\data_utils.py 428 \\ - INFO - 54537 Rows After Time Reindex.\n",
      "2022-07-03 20:58:16 fostool\\dataset\\data_utils.py 429 \\ - INFO - --------------------\n",
      "2022-07-03 20:58:16 fostool\\dataset\\data_utils.py 457 \\ - INFO - 54537 Rows Before Fill Missing.\n"
     ]
    },
    {
     "name": "stdout",
     "output_type": "stream",
     "text": [
      "CPU times: total: 1min 3s\n",
      "Wall time: 40.6 s\n",
      "imf7_HRB_pd_melt_2019-03-31.csv\n"
     ]
    },
    {
     "name": "stderr",
     "output_type": "stream",
     "text": [
      "2022-07-03 20:58:23 fostool\\dataset\\data_utils.py 461 \\ - INFO - 54537 Rows After Fill Missing.\n",
      "2022-07-03 20:58:23 fostool\\dataset\\data_utils.py 462 \\ - INFO - --------------------\n",
      "2022-07-03 20:58:55 fostool\\task\\fusion.py 71 \\ - INFO -    val_loss        model_name\n",
      "2  0.212436  KRNNModel_b681_7\n",
      "4  0.240665   MLP_Res_8f02_21\n",
      "5  0.186115    MLP_Res_9b96_7\n",
      "2022-07-03 20:58:56 fostool\\dataset\\data_utils.py 426 \\ - INFO - 54537 Rows Before Time Reindex.\n",
      "2022-07-03 20:58:56 fostool\\dataset\\data_utils.py 428 \\ - INFO - 54537 Rows After Time Reindex.\n",
      "2022-07-03 20:58:56 fostool\\dataset\\data_utils.py 429 \\ - INFO - --------------------\n",
      "2022-07-03 20:58:56 fostool\\dataset\\data_utils.py 457 \\ - INFO - 54537 Rows Before Fill Missing.\n"
     ]
    },
    {
     "name": "stdout",
     "output_type": "stream",
     "text": [
      "CPU times: total: 1min 2s\n",
      "Wall time: 39.6 s\n",
      "imf7_HRB_pd_melt_2019-04-28.csv\n"
     ]
    },
    {
     "name": "stderr",
     "output_type": "stream",
     "text": [
      "2022-07-03 20:59:02 fostool\\dataset\\data_utils.py 461 \\ - INFO - 54537 Rows After Fill Missing.\n",
      "2022-07-03 20:59:02 fostool\\dataset\\data_utils.py 462 \\ - INFO - --------------------\n",
      "2022-07-03 20:59:36 fostool\\task\\fusion.py 71 \\ - INFO -    val_loss        model_name\n",
      "2  0.212436  KRNNModel_b681_7\n",
      "4  0.240665   MLP_Res_8f02_21\n",
      "5  0.186115    MLP_Res_9b96_7\n",
      "2022-07-03 20:59:36 fostool\\dataset\\data_utils.py 426 \\ - INFO - 54537 Rows Before Time Reindex.\n",
      "2022-07-03 20:59:36 fostool\\dataset\\data_utils.py 428 \\ - INFO - 54537 Rows After Time Reindex.\n"
     ]
    },
    {
     "name": "stdout",
     "output_type": "stream",
     "text": [
      "CPU times: total: 1min 4s\n",
      "Wall time: 40.5 s\n",
      "imf7_HRB_pd_melt_2019-05-26.csv\n"
     ]
    },
    {
     "name": "stderr",
     "output_type": "stream",
     "text": [
      "2022-07-03 20:59:36 fostool\\dataset\\data_utils.py 429 \\ - INFO - --------------------\n",
      "2022-07-03 20:59:36 fostool\\dataset\\data_utils.py 457 \\ - INFO - 54537 Rows Before Fill Missing.\n",
      "2022-07-03 20:59:43 fostool\\dataset\\data_utils.py 461 \\ - INFO - 54537 Rows After Fill Missing.\n",
      "2022-07-03 20:59:43 fostool\\dataset\\data_utils.py 462 \\ - INFO - --------------------\n",
      "2022-07-03 21:00:17 fostool\\task\\fusion.py 71 \\ - INFO -    val_loss        model_name\n",
      "2  0.212436  KRNNModel_b681_7\n",
      "4  0.240665   MLP_Res_8f02_21\n",
      "5  0.186115    MLP_Res_9b96_7\n",
      "2022-07-03 21:00:17 fostool\\dataset\\data_utils.py 426 \\ - INFO - 54537 Rows Before Time Reindex.\n",
      "2022-07-03 21:00:17 fostool\\dataset\\data_utils.py 428 \\ - INFO - 54537 Rows After Time Reindex.\n",
      "2022-07-03 21:00:17 fostool\\dataset\\data_utils.py 429 \\ - INFO - --------------------\n",
      "2022-07-03 21:00:17 fostool\\dataset\\data_utils.py 457 \\ - INFO - 54537 Rows Before Fill Missing.\n"
     ]
    },
    {
     "name": "stdout",
     "output_type": "stream",
     "text": [
      "CPU times: total: 1min 6s\n",
      "Wall time: 41.1 s\n",
      "imf7_HRB_pd_melt_2019-06-23.csv\n"
     ]
    },
    {
     "name": "stderr",
     "output_type": "stream",
     "text": [
      "2022-07-03 21:00:24 fostool\\dataset\\data_utils.py 461 \\ - INFO - 54537 Rows After Fill Missing.\n",
      "2022-07-03 21:00:24 fostool\\dataset\\data_utils.py 462 \\ - INFO - --------------------\n",
      "2022-07-03 21:00:57 fostool\\task\\fusion.py 71 \\ - INFO -    val_loss        model_name\n",
      "2  0.212436  KRNNModel_b681_7\n",
      "4  0.240665   MLP_Res_8f02_21\n",
      "5  0.186115    MLP_Res_9b96_7\n",
      "2022-07-03 21:00:57 fostool\\dataset\\data_utils.py 426 \\ - INFO - 54537 Rows Before Time Reindex.\n",
      "2022-07-03 21:00:57 fostool\\dataset\\data_utils.py 428 \\ - INFO - 54537 Rows After Time Reindex.\n",
      "2022-07-03 21:00:57 fostool\\dataset\\data_utils.py 429 \\ - INFO - --------------------\n",
      "2022-07-03 21:00:57 fostool\\dataset\\data_utils.py 457 \\ - INFO - 54537 Rows Before Fill Missing.\n"
     ]
    },
    {
     "name": "stdout",
     "output_type": "stream",
     "text": [
      "CPU times: total: 1min 3s\n",
      "Wall time: 39.6 s\n",
      "imf7_HRB_pd_melt_2019-07-21.csv\n"
     ]
    },
    {
     "name": "stderr",
     "output_type": "stream",
     "text": [
      "2022-07-03 21:01:03 fostool\\dataset\\data_utils.py 461 \\ - INFO - 54537 Rows After Fill Missing.\n",
      "2022-07-03 21:01:03 fostool\\dataset\\data_utils.py 462 \\ - INFO - --------------------\n",
      "2022-07-03 21:01:36 fostool\\task\\fusion.py 71 \\ - INFO -    val_loss        model_name\n",
      "2  0.212436  KRNNModel_b681_7\n",
      "4  0.240665   MLP_Res_8f02_21\n",
      "5  0.186115    MLP_Res_9b96_7\n",
      "2022-07-03 21:01:36 fostool\\dataset\\data_utils.py 426 \\ - INFO - 54537 Rows Before Time Reindex.\n",
      "2022-07-03 21:01:36 fostool\\dataset\\data_utils.py 428 \\ - INFO - 54537 Rows After Time Reindex.\n",
      "2022-07-03 21:01:36 fostool\\dataset\\data_utils.py 429 \\ - INFO - --------------------\n",
      "2022-07-03 21:01:36 fostool\\dataset\\data_utils.py 457 \\ - INFO - 54537 Rows Before Fill Missing.\n"
     ]
    },
    {
     "name": "stdout",
     "output_type": "stream",
     "text": [
      "CPU times: total: 1min 2s\n",
      "Wall time: 39.2 s\n",
      "imf7_HRB_pd_melt_2019-08-18.csv\n"
     ]
    },
    {
     "name": "stderr",
     "output_type": "stream",
     "text": [
      "2022-07-03 21:01:43 fostool\\dataset\\data_utils.py 461 \\ - INFO - 54537 Rows After Fill Missing.\n",
      "2022-07-03 21:01:43 fostool\\dataset\\data_utils.py 462 \\ - INFO - --------------------\n",
      "2022-07-03 21:02:16 fostool\\task\\fusion.py 71 \\ - INFO -    val_loss        model_name\n",
      "2  0.212436  KRNNModel_b681_7\n",
      "4  0.240665   MLP_Res_8f02_21\n",
      "5  0.186115    MLP_Res_9b96_7\n",
      "2022-07-03 21:02:16 fostool\\dataset\\data_utils.py 426 \\ - INFO - 54537 Rows Before Time Reindex.\n",
      "2022-07-03 21:02:16 fostool\\dataset\\data_utils.py 428 \\ - INFO - 54537 Rows After Time Reindex.\n",
      "2022-07-03 21:02:16 fostool\\dataset\\data_utils.py 429 \\ - INFO - --------------------\n",
      "2022-07-03 21:02:16 fostool\\dataset\\data_utils.py 457 \\ - INFO - 54537 Rows Before Fill Missing.\n"
     ]
    },
    {
     "name": "stdout",
     "output_type": "stream",
     "text": [
      "CPU times: total: 1min 3s\n",
      "Wall time: 39.4 s\n",
      "imf7_HRB_pd_melt_2019-09-15.csv\n"
     ]
    },
    {
     "name": "stderr",
     "output_type": "stream",
     "text": [
      "2022-07-03 21:02:22 fostool\\dataset\\data_utils.py 461 \\ - INFO - 54537 Rows After Fill Missing.\n",
      "2022-07-03 21:02:22 fostool\\dataset\\data_utils.py 462 \\ - INFO - --------------------\n",
      "2022-07-03 21:02:56 fostool\\task\\fusion.py 71 \\ - INFO -    val_loss        model_name\n",
      "2  0.212436  KRNNModel_b681_7\n",
      "4  0.240665   MLP_Res_8f02_21\n",
      "5  0.186115    MLP_Res_9b96_7\n",
      "2022-07-03 21:02:56 fostool\\dataset\\data_utils.py 426 \\ - INFO - 54537 Rows Before Time Reindex.\n",
      "2022-07-03 21:02:56 fostool\\dataset\\data_utils.py 428 \\ - INFO - 54537 Rows After Time Reindex.\n",
      "2022-07-03 21:02:56 fostool\\dataset\\data_utils.py 429 \\ - INFO - --------------------\n",
      "2022-07-03 21:02:56 fostool\\dataset\\data_utils.py 457 \\ - INFO - 54537 Rows Before Fill Missing.\n"
     ]
    },
    {
     "name": "stdout",
     "output_type": "stream",
     "text": [
      "CPU times: total: 1min 5s\n",
      "Wall time: 40.7 s\n",
      "imf7_HRB_pd_melt_2019-10-13.csv\n"
     ]
    },
    {
     "name": "stderr",
     "output_type": "stream",
     "text": [
      "2022-07-03 21:03:03 fostool\\dataset\\data_utils.py 461 \\ - INFO - 54537 Rows After Fill Missing.\n",
      "2022-07-03 21:03:03 fostool\\dataset\\data_utils.py 462 \\ - INFO - --------------------\n",
      "2022-07-03 21:03:36 fostool\\task\\fusion.py 71 \\ - INFO -    val_loss        model_name\n",
      "2  0.212436  KRNNModel_b681_7\n",
      "4  0.240665   MLP_Res_8f02_21\n",
      "5  0.186115    MLP_Res_9b96_7\n",
      "2022-07-03 21:03:36 fostool\\dataset\\data_utils.py 426 \\ - INFO - 54537 Rows Before Time Reindex.\n",
      "2022-07-03 21:03:36 fostool\\dataset\\data_utils.py 428 \\ - INFO - 54537 Rows After Time Reindex.\n",
      "2022-07-03 21:03:36 fostool\\dataset\\data_utils.py 429 \\ - INFO - --------------------\n",
      "2022-07-03 21:03:36 fostool\\dataset\\data_utils.py 457 \\ - INFO - 54537 Rows Before Fill Missing.\n"
     ]
    },
    {
     "name": "stdout",
     "output_type": "stream",
     "text": [
      "CPU times: total: 1min 2s\n",
      "Wall time: 39.9 s\n",
      "imf7_HRB_pd_melt_2019-11-10.csv\n"
     ]
    },
    {
     "name": "stderr",
     "output_type": "stream",
     "text": [
      "2022-07-03 21:03:43 fostool\\dataset\\data_utils.py 461 \\ - INFO - 54537 Rows After Fill Missing.\n",
      "2022-07-03 21:03:43 fostool\\dataset\\data_utils.py 462 \\ - INFO - --------------------\n",
      "2022-07-03 21:04:16 fostool\\task\\fusion.py 71 \\ - INFO -    val_loss        model_name\n",
      "2  0.212436  KRNNModel_b681_7\n",
      "4  0.240665   MLP_Res_8f02_21\n",
      "5  0.186115    MLP_Res_9b96_7\n",
      "2022-07-03 21:04:17 fostool\\dataset\\data_utils.py 426 \\ - INFO - 54537 Rows Before Time Reindex.\n",
      "2022-07-03 21:04:17 fostool\\dataset\\data_utils.py 428 \\ - INFO - 54537 Rows After Time Reindex.\n",
      "2022-07-03 21:04:17 fostool\\dataset\\data_utils.py 429 \\ - INFO - --------------------\n",
      "2022-07-03 21:04:17 fostool\\dataset\\data_utils.py 457 \\ - INFO - 54537 Rows Before Fill Missing.\n"
     ]
    },
    {
     "name": "stdout",
     "output_type": "stream",
     "text": [
      "CPU times: total: 1min 4s\n",
      "Wall time: 40.1 s\n",
      "imf7_HRB_pd_melt_2019-12-08.csv\n"
     ]
    },
    {
     "name": "stderr",
     "output_type": "stream",
     "text": [
      "2022-07-03 21:04:23 fostool\\dataset\\data_utils.py 461 \\ - INFO - 54537 Rows After Fill Missing.\n",
      "2022-07-03 21:04:23 fostool\\dataset\\data_utils.py 462 \\ - INFO - --------------------\n",
      "2022-07-03 21:04:56 fostool\\task\\fusion.py 71 \\ - INFO -    val_loss        model_name\n",
      "2  0.212436  KRNNModel_b681_7\n",
      "4  0.240665   MLP_Res_8f02_21\n",
      "5  0.186115    MLP_Res_9b96_7\n",
      "2022-07-03 21:04:56 fostool\\dataset\\data_utils.py 426 \\ - INFO - 54537 Rows Before Time Reindex.\n",
      "2022-07-03 21:04:56 fostool\\dataset\\data_utils.py 428 \\ - INFO - 54537 Rows After Time Reindex.\n",
      "2022-07-03 21:04:56 fostool\\dataset\\data_utils.py 429 \\ - INFO - --------------------\n",
      "2022-07-03 21:04:56 fostool\\dataset\\data_utils.py 457 \\ - INFO - 54537 Rows Before Fill Missing.\n"
     ]
    },
    {
     "name": "stdout",
     "output_type": "stream",
     "text": [
      "CPU times: total: 1min 1s\n",
      "Wall time: 39.2 s\n",
      "imf7_HRB_pd_melt_2020-01-05.csv\n"
     ]
    },
    {
     "name": "stderr",
     "output_type": "stream",
     "text": [
      "2022-07-03 21:05:02 fostool\\dataset\\data_utils.py 461 \\ - INFO - 54537 Rows After Fill Missing.\n",
      "2022-07-03 21:05:02 fostool\\dataset\\data_utils.py 462 \\ - INFO - --------------------\n",
      "2022-07-03 21:05:36 fostool\\task\\fusion.py 71 \\ - INFO -    val_loss        model_name\n",
      "2  0.212436  KRNNModel_b681_7\n",
      "4  0.240665   MLP_Res_8f02_21\n",
      "5  0.186115    MLP_Res_9b96_7\n",
      "2022-07-03 21:05:36 fostool\\dataset\\data_utils.py 426 \\ - INFO - 54537 Rows Before Time Reindex.\n",
      "2022-07-03 21:05:36 fostool\\dataset\\data_utils.py 428 \\ - INFO - 54537 Rows After Time Reindex.\n",
      "2022-07-03 21:05:36 fostool\\dataset\\data_utils.py 429 \\ - INFO - --------------------\n",
      "2022-07-03 21:05:36 fostool\\dataset\\data_utils.py 457 \\ - INFO - 54537 Rows Before Fill Missing.\n"
     ]
    },
    {
     "name": "stdout",
     "output_type": "stream",
     "text": [
      "CPU times: total: 1min 5s\n",
      "Wall time: 40.5 s\n",
      "imf7_HRB_pd_melt_2020-02-02.csv\n"
     ]
    },
    {
     "name": "stderr",
     "output_type": "stream",
     "text": [
      "2022-07-03 21:05:43 fostool\\dataset\\data_utils.py 461 \\ - INFO - 54537 Rows After Fill Missing.\n",
      "2022-07-03 21:05:43 fostool\\dataset\\data_utils.py 462 \\ - INFO - --------------------\n",
      "2022-07-03 21:06:16 fostool\\task\\fusion.py 71 \\ - INFO -    val_loss        model_name\n",
      "2  0.212436  KRNNModel_b681_7\n",
      "4  0.240665   MLP_Res_8f02_21\n",
      "5  0.186115    MLP_Res_9b96_7\n",
      "2022-07-03 21:06:16 fostool\\dataset\\data_utils.py 426 \\ - INFO - 54537 Rows Before Time Reindex.\n",
      "2022-07-03 21:06:16 fostool\\dataset\\data_utils.py 428 \\ - INFO - 54537 Rows After Time Reindex.\n",
      "2022-07-03 21:06:16 fostool\\dataset\\data_utils.py 429 \\ - INFO - --------------------\n",
      "2022-07-03 21:06:16 fostool\\dataset\\data_utils.py 457 \\ - INFO - 54537 Rows Before Fill Missing.\n"
     ]
    },
    {
     "name": "stdout",
     "output_type": "stream",
     "text": [
      "CPU times: total: 1min 3s\n",
      "Wall time: 39.6 s\n",
      "imf7_HRB_pd_melt_2020-03-01.csv\n"
     ]
    },
    {
     "name": "stderr",
     "output_type": "stream",
     "text": [
      "2022-07-03 21:06:22 fostool\\dataset\\data_utils.py 461 \\ - INFO - 54537 Rows After Fill Missing.\n",
      "2022-07-03 21:06:22 fostool\\dataset\\data_utils.py 462 \\ - INFO - --------------------\n",
      "2022-07-03 21:06:55 fostool\\task\\fusion.py 71 \\ - INFO -    val_loss        model_name\n",
      "2  0.212436  KRNNModel_b681_7\n",
      "4  0.240665   MLP_Res_8f02_21\n",
      "5  0.186115    MLP_Res_9b96_7\n",
      "2022-07-03 21:06:55 fostool\\dataset\\data_utils.py 426 \\ - INFO - 54537 Rows Before Time Reindex.\n",
      "2022-07-03 21:06:55 fostool\\dataset\\data_utils.py 428 \\ - INFO - 54537 Rows After Time Reindex.\n",
      "2022-07-03 21:06:55 fostool\\dataset\\data_utils.py 429 \\ - INFO - --------------------\n",
      "2022-07-03 21:06:55 fostool\\dataset\\data_utils.py 457 \\ - INFO - 54537 Rows Before Fill Missing.\n"
     ]
    },
    {
     "name": "stdout",
     "output_type": "stream",
     "text": [
      "CPU times: total: 1min 2s\n",
      "Wall time: 38.9 s\n",
      "imf7_HRB_pd_melt_2020-03-29.csv\n"
     ]
    },
    {
     "name": "stderr",
     "output_type": "stream",
     "text": [
      "2022-07-03 21:07:01 fostool\\dataset\\data_utils.py 461 \\ - INFO - 54537 Rows After Fill Missing.\n",
      "2022-07-03 21:07:01 fostool\\dataset\\data_utils.py 462 \\ - INFO - --------------------\n",
      "2022-07-03 21:07:35 fostool\\task\\fusion.py 71 \\ - INFO -    val_loss        model_name\n",
      "2  0.212436  KRNNModel_b681_7\n",
      "4  0.240665   MLP_Res_8f02_21\n",
      "5  0.186115    MLP_Res_9b96_7\n",
      "2022-07-03 21:07:35 fostool\\dataset\\data_utils.py 426 \\ - INFO - 54537 Rows Before Time Reindex.\n",
      "2022-07-03 21:07:36 fostool\\dataset\\data_utils.py 428 \\ - INFO - 54537 Rows After Time Reindex.\n",
      "2022-07-03 21:07:36 fostool\\dataset\\data_utils.py 429 \\ - INFO - --------------------\n",
      "2022-07-03 21:07:36 fostool\\dataset\\data_utils.py 457 \\ - INFO - 54537 Rows Before Fill Missing.\n"
     ]
    },
    {
     "name": "stdout",
     "output_type": "stream",
     "text": [
      "CPU times: total: 1min 5s\n",
      "Wall time: 40.6 s\n",
      "imf7_HRB_pd_melt_2020-04-26.csv\n"
     ]
    },
    {
     "name": "stderr",
     "output_type": "stream",
     "text": [
      "2022-07-03 21:07:42 fostool\\dataset\\data_utils.py 461 \\ - INFO - 54537 Rows After Fill Missing.\n",
      "2022-07-03 21:07:42 fostool\\dataset\\data_utils.py 462 \\ - INFO - --------------------\n",
      "2022-07-03 21:08:16 fostool\\task\\fusion.py 71 \\ - INFO -    val_loss        model_name\n",
      "2  0.212436  KRNNModel_b681_7\n",
      "4  0.240665   MLP_Res_8f02_21\n",
      "5  0.186115    MLP_Res_9b96_7\n",
      "2022-07-03 21:08:16 fostool\\dataset\\data_utils.py 426 \\ - INFO - 54537 Rows Before Time Reindex.\n",
      "2022-07-03 21:08:16 fostool\\dataset\\data_utils.py 428 \\ - INFO - 54537 Rows After Time Reindex.\n",
      "2022-07-03 21:08:16 fostool\\dataset\\data_utils.py 429 \\ - INFO - --------------------\n",
      "2022-07-03 21:08:16 fostool\\dataset\\data_utils.py 457 \\ - INFO - 54537 Rows Before Fill Missing.\n"
     ]
    },
    {
     "name": "stdout",
     "output_type": "stream",
     "text": [
      "CPU times: total: 1min 4s\n",
      "Wall time: 40.2 s\n",
      "imf7_HRB_pd_melt_2020-05-24.csv\n"
     ]
    },
    {
     "name": "stderr",
     "output_type": "stream",
     "text": [
      "2022-07-03 21:08:22 fostool\\dataset\\data_utils.py 461 \\ - INFO - 54537 Rows After Fill Missing.\n",
      "2022-07-03 21:08:22 fostool\\dataset\\data_utils.py 462 \\ - INFO - --------------------\n",
      "2022-07-03 21:08:56 fostool\\task\\fusion.py 71 \\ - INFO -    val_loss        model_name\n",
      "2  0.212436  KRNNModel_b681_7\n",
      "4  0.240665   MLP_Res_8f02_21\n",
      "5  0.186115    MLP_Res_9b96_7\n",
      "2022-07-03 21:08:56 fostool\\dataset\\data_utils.py 426 \\ - INFO - 54537 Rows Before Time Reindex.\n",
      "2022-07-03 21:08:56 fostool\\dataset\\data_utils.py 428 \\ - INFO - 54537 Rows After Time Reindex.\n",
      "2022-07-03 21:08:56 fostool\\dataset\\data_utils.py 429 \\ - INFO - --------------------\n",
      "2022-07-03 21:08:56 fostool\\dataset\\data_utils.py 457 \\ - INFO - 54537 Rows Before Fill Missing.\n"
     ]
    },
    {
     "name": "stdout",
     "output_type": "stream",
     "text": [
      "CPU times: total: 1min 4s\n",
      "Wall time: 40.1 s\n",
      "imf7_HRB_pd_melt_2020-06-21.csv\n"
     ]
    },
    {
     "name": "stderr",
     "output_type": "stream",
     "text": [
      "2022-07-03 21:09:03 fostool\\dataset\\data_utils.py 461 \\ - INFO - 54537 Rows After Fill Missing.\n",
      "2022-07-03 21:09:03 fostool\\dataset\\data_utils.py 462 \\ - INFO - --------------------\n",
      "2022-07-03 21:09:36 fostool\\task\\fusion.py 71 \\ - INFO -    val_loss        model_name\n",
      "2  0.212436  KRNNModel_b681_7\n",
      "4  0.240665   MLP_Res_8f02_21\n",
      "5  0.186115    MLP_Res_9b96_7\n",
      "2022-07-03 21:09:36 fostool\\dataset\\data_utils.py 426 \\ - INFO - 54537 Rows Before Time Reindex.\n",
      "2022-07-03 21:09:36 fostool\\dataset\\data_utils.py 428 \\ - INFO - 54537 Rows After Time Reindex.\n",
      "2022-07-03 21:09:36 fostool\\dataset\\data_utils.py 429 \\ - INFO - --------------------\n",
      "2022-07-03 21:09:36 fostool\\dataset\\data_utils.py 457 \\ - INFO - 54537 Rows Before Fill Missing.\n"
     ]
    },
    {
     "name": "stdout",
     "output_type": "stream",
     "text": [
      "CPU times: total: 1min 3s\n",
      "Wall time: 40 s\n",
      "imf7_HRB_pd_melt_2020-07-19.csv\n"
     ]
    },
    {
     "name": "stderr",
     "output_type": "stream",
     "text": [
      "2022-07-03 21:09:43 fostool\\dataset\\data_utils.py 461 \\ - INFO - 54537 Rows After Fill Missing.\n",
      "2022-07-03 21:09:43 fostool\\dataset\\data_utils.py 462 \\ - INFO - --------------------\n",
      "2022-07-03 21:10:15 fostool\\task\\fusion.py 71 \\ - INFO -    val_loss        model_name\n",
      "2  0.212436  KRNNModel_b681_7\n",
      "4  0.240665   MLP_Res_8f02_21\n",
      "5  0.186115    MLP_Res_9b96_7\n",
      "2022-07-03 21:10:15 fostool\\dataset\\data_utils.py 426 \\ - INFO - 54537 Rows Before Time Reindex.\n",
      "2022-07-03 21:10:15 fostool\\dataset\\data_utils.py 428 \\ - INFO - 54537 Rows After Time Reindex.\n",
      "2022-07-03 21:10:15 fostool\\dataset\\data_utils.py 429 \\ - INFO - --------------------\n",
      "2022-07-03 21:10:15 fostool\\dataset\\data_utils.py 457 \\ - INFO - 54537 Rows Before Fill Missing.\n"
     ]
    },
    {
     "name": "stdout",
     "output_type": "stream",
     "text": [
      "CPU times: total: 1min 2s\n",
      "Wall time: 39 s\n",
      "imf7_HRB_pd_melt_2020-08-16.csv\n"
     ]
    },
    {
     "name": "stderr",
     "output_type": "stream",
     "text": [
      "2022-07-03 21:10:22 fostool\\dataset\\data_utils.py 461 \\ - INFO - 54537 Rows After Fill Missing.\n",
      "2022-07-03 21:10:22 fostool\\dataset\\data_utils.py 462 \\ - INFO - --------------------\n",
      "2022-07-03 21:10:55 fostool\\task\\fusion.py 71 \\ - INFO -    val_loss        model_name\n",
      "2  0.212436  KRNNModel_b681_7\n",
      "4  0.240665   MLP_Res_8f02_21\n",
      "5  0.186115    MLP_Res_9b96_7\n",
      "2022-07-03 21:10:55 fostool\\dataset\\data_utils.py 426 \\ - INFO - 54537 Rows Before Time Reindex.\n",
      "2022-07-03 21:10:55 fostool\\dataset\\data_utils.py 428 \\ - INFO - 54537 Rows After Time Reindex.\n",
      "2022-07-03 21:10:55 fostool\\dataset\\data_utils.py 429 \\ - INFO - --------------------\n",
      "2022-07-03 21:10:55 fostool\\dataset\\data_utils.py 457 \\ - INFO - 54537 Rows Before Fill Missing.\n"
     ]
    },
    {
     "name": "stdout",
     "output_type": "stream",
     "text": [
      "CPU times: total: 1min 3s\n",
      "Wall time: 39.7 s\n",
      "imf7_HRB_pd_melt_2020-09-13.csv\n"
     ]
    },
    {
     "name": "stderr",
     "output_type": "stream",
     "text": [
      "2022-07-03 21:11:01 fostool\\dataset\\data_utils.py 461 \\ - INFO - 54537 Rows After Fill Missing.\n",
      "2022-07-03 21:11:01 fostool\\dataset\\data_utils.py 462 \\ - INFO - --------------------\n",
      "2022-07-03 21:11:35 fostool\\task\\fusion.py 71 \\ - INFO -    val_loss        model_name\n",
      "2  0.212436  KRNNModel_b681_7\n",
      "4  0.240665   MLP_Res_8f02_21\n",
      "5  0.186115    MLP_Res_9b96_7\n",
      "2022-07-03 21:11:35 fostool\\dataset\\data_utils.py 426 \\ - INFO - 54537 Rows Before Time Reindex.\n",
      "2022-07-03 21:11:35 fostool\\dataset\\data_utils.py 428 \\ - INFO - 54537 Rows After Time Reindex.\n",
      "2022-07-03 21:11:35 fostool\\dataset\\data_utils.py 429 \\ - INFO - --------------------\n",
      "2022-07-03 21:11:35 fostool\\dataset\\data_utils.py 457 \\ - INFO - 54537 Rows Before Fill Missing.\n"
     ]
    },
    {
     "name": "stdout",
     "output_type": "stream",
     "text": [
      "CPU times: total: 1min 3s\n",
      "Wall time: 40 s\n",
      "imf7_HRB_pd_melt_2020-10-11.csv\n"
     ]
    },
    {
     "name": "stderr",
     "output_type": "stream",
     "text": [
      "2022-07-03 21:11:41 fostool\\dataset\\data_utils.py 461 \\ - INFO - 54537 Rows After Fill Missing.\n",
      "2022-07-03 21:11:41 fostool\\dataset\\data_utils.py 462 \\ - INFO - --------------------\n",
      "2022-07-03 21:12:15 fostool\\task\\fusion.py 71 \\ - INFO -    val_loss        model_name\n",
      "2  0.212436  KRNNModel_b681_7\n",
      "4  0.240665   MLP_Res_8f02_21\n",
      "5  0.186115    MLP_Res_9b96_7\n",
      "2022-07-03 21:12:15 fostool\\dataset\\data_utils.py 426 \\ - INFO - 54537 Rows Before Time Reindex.\n",
      "2022-07-03 21:12:15 fostool\\dataset\\data_utils.py 428 \\ - INFO - 54537 Rows After Time Reindex.\n",
      "2022-07-03 21:12:15 fostool\\dataset\\data_utils.py 429 \\ - INFO - --------------------\n",
      "2022-07-03 21:12:15 fostool\\dataset\\data_utils.py 457 \\ - INFO - 54537 Rows Before Fill Missing.\n"
     ]
    },
    {
     "name": "stdout",
     "output_type": "stream",
     "text": [
      "CPU times: total: 1min 3s\n",
      "Wall time: 40 s\n",
      "imf7_HRB_pd_melt_2020-11-08.csv\n"
     ]
    },
    {
     "name": "stderr",
     "output_type": "stream",
     "text": [
      "2022-07-03 21:12:22 fostool\\dataset\\data_utils.py 461 \\ - INFO - 54537 Rows After Fill Missing.\n",
      "2022-07-03 21:12:22 fostool\\dataset\\data_utils.py 462 \\ - INFO - --------------------\n",
      "2022-07-03 21:12:54 fostool\\task\\fusion.py 71 \\ - INFO -    val_loss        model_name\n",
      "2  0.212436  KRNNModel_b681_7\n",
      "4  0.240665   MLP_Res_8f02_21\n",
      "5  0.186115    MLP_Res_9b96_7\n",
      "2022-07-03 21:12:54 fostool\\dataset\\data_utils.py 426 \\ - INFO - 54537 Rows Before Time Reindex.\n",
      "2022-07-03 21:12:54 fostool\\dataset\\data_utils.py 428 \\ - INFO - 54537 Rows After Time Reindex.\n",
      "2022-07-03 21:12:54 fostool\\dataset\\data_utils.py 429 \\ - INFO - --------------------\n",
      "2022-07-03 21:12:54 fostool\\dataset\\data_utils.py 457 \\ - INFO - 54537 Rows Before Fill Missing.\n"
     ]
    },
    {
     "name": "stdout",
     "output_type": "stream",
     "text": [
      "CPU times: total: 1min 1s\n",
      "Wall time: 38.9 s\n",
      "imf7_HRB_pd_melt_2020-12-06.csv\n"
     ]
    },
    {
     "name": "stderr",
     "output_type": "stream",
     "text": [
      "2022-07-03 21:13:00 fostool\\dataset\\data_utils.py 461 \\ - INFO - 54537 Rows After Fill Missing.\n",
      "2022-07-03 21:13:00 fostool\\dataset\\data_utils.py 462 \\ - INFO - --------------------\n",
      "2022-07-03 21:13:34 fostool\\task\\fusion.py 71 \\ - INFO -    val_loss        model_name\n",
      "2  0.212436  KRNNModel_b681_7\n",
      "4  0.240665   MLP_Res_8f02_21\n",
      "5  0.186115    MLP_Res_9b96_7\n",
      "2022-07-03 21:13:34 fostool\\dataset\\data_utils.py 426 \\ - INFO - 54537 Rows Before Time Reindex.\n",
      "2022-07-03 21:13:34 fostool\\dataset\\data_utils.py 428 \\ - INFO - 54537 Rows After Time Reindex.\n",
      "2022-07-03 21:13:34 fostool\\dataset\\data_utils.py 429 \\ - INFO - --------------------\n",
      "2022-07-03 21:13:34 fostool\\dataset\\data_utils.py 457 \\ - INFO - 54537 Rows Before Fill Missing.\n"
     ]
    },
    {
     "name": "stdout",
     "output_type": "stream",
     "text": [
      "CPU times: total: 1min 3s\n",
      "Wall time: 40.1 s\n",
      "imf7_HRB_pd_melt_2021-01-03.csv\n"
     ]
    },
    {
     "name": "stderr",
     "output_type": "stream",
     "text": [
      "2022-07-03 21:13:41 fostool\\dataset\\data_utils.py 461 \\ - INFO - 54537 Rows After Fill Missing.\n",
      "2022-07-03 21:13:41 fostool\\dataset\\data_utils.py 462 \\ - INFO - --------------------\n",
      "2022-07-03 21:14:13 fostool\\task\\fusion.py 71 \\ - INFO -    val_loss        model_name\n",
      "2  0.212436  KRNNModel_b681_7\n",
      "4  0.240665   MLP_Res_8f02_21\n",
      "5  0.186115    MLP_Res_9b96_7\n"
     ]
    },
    {
     "name": "stdout",
     "output_type": "stream",
     "text": [
      "CPU times: total: 1min 1s\n",
      "Wall time: 39 s\n"
     ]
    }
   ],
   "source": [
    "root_model = 'E:\\\\jupyter_output_figs\\\\fost_models_out'\n",
    "dirlist_model = [ item for item in os.listdir(root_model) if os.path.isdir(os.path.join(root_model, item))]\n",
    "root_input = 'E:\\\\Data_inputs\\\\fost_test_in_VAL_v1'\n",
    "dirlist_input = [ item for item in os.listdir(root_input) if os.path.isdir(os.path.join(root_input, item))]\n",
    "for ii in tqdm(range(len(dirlist_model))):\n",
    "    pipeline_path = root_model+'\\\\'+dirlist_model[ii]\n",
    "    fost = Pipeline(lookahead=4, load_path = pipeline_path)\n",
    "    test_folder = root_input+'\\\\'+dirlist_input[ii]\n",
    "    test_files = read_file(test_folder, '.csv')\n",
    "    os.makedirs('E:\\\\Data_inputs\\\\fost_outputs_VAL_v1\\\\'+'val_predicted_imfs_'+str(ii))\n",
    "    #test_path = root_model+'\\\\'+dirlist_model[ii]\n",
    "    for jj in range(len(test_files)):\n",
    "        print(test_files[jj]) \n",
    "        test_path = root_input+'\\\\'+dirlist_input[ii]+'\\\\'+test_files[jj]\n",
    "        %time imf_fct = fost.predict(test_path=test_path,mode='test')\n",
    "        imf_fct.to_csv('E:\\\\Data_inputs\\\\fost_outputs_VAL_v1\\\\'+'val_predicted_imfs_'\n",
    "               +str(ii)+'\\\\''fost_predicted'+test_files[jj]) \n",
    "        #print(ii,jj)\n",
    "        #print(test_path)   \n",
    "#  \n",
    "#files = read_file(dir_path, '.csv')"
   ]
  },
  {
   "cell_type": "code",
   "execution_count": 39,
   "id": "72a8ca03",
   "metadata": {},
   "outputs": [
    {
     "data": {
      "text/plain": [
       "['seq_models_0',\n",
       " 'seq_models_1',\n",
       " 'seq_models_2',\n",
       " 'seq_models_3',\n",
       " 'seq_models_4',\n",
       " 'seq_models_5',\n",
       " 'seq_models_6',\n",
       " 'seq_models_7']"
      ]
     },
     "execution_count": 39,
     "metadata": {},
     "output_type": "execute_result"
    }
   ],
   "source": [
    "root_model = 'E:\\\\jupyter_output_figs\\\\fost_models_out'\n",
    "dirlist_model = [ item for item in os.listdir(root_model) if os.path.isdir(os.path.join(root_model, item))]\n",
    "root_input = 'E:\\\\Data_inputs\\\\fost_prediction_VAL'\n",
    "dirlist_input = [ item for item in os.listdir(root_input) if os.path.isdir(os.path.join(root_input, item))]"
   ]
  },
  {
   "cell_type": "code",
   "execution_count": 41,
   "id": "26b13c40",
   "metadata": {},
   "outputs": [
    {
     "data": {
      "text/plain": [
       "['val_input_imfs_0',\n",
       " 'val_input_imfs_1',\n",
       " 'val_input_imfs_2',\n",
       " 'val_input_imfs_3',\n",
       " 'val_input_imfs_4',\n",
       " 'val_input_imfs_5',\n",
       " 'val_input_imfs_6',\n",
       " 'val_input_imfs_7']"
      ]
     },
     "execution_count": 41,
     "metadata": {},
     "output_type": "execute_result"
    }
   ],
   "source": [
    "root_input = 'E:\\\\Data_inputs\\\\fost_prediction_VAL'\n",
    "dirlist_input = [ item for item in os.listdir(root_input) if os.path.isdir(os.path.join(root_input, item))]\n",
    "dirlist_input"
   ]
  },
  {
   "cell_type": "code",
   "execution_count": null,
   "id": "1ef1e1c5",
   "metadata": {},
   "outputs": [],
   "source": []
  },
  {
   "cell_type": "code",
   "execution_count": null,
   "id": "52838646",
   "metadata": {},
   "outputs": [],
   "source": [
    "for ii in range():"
   ]
  },
  {
   "cell_type": "code",
   "execution_count": null,
   "id": "66143af6",
   "metadata": {},
   "outputs": [],
   "source": []
  },
  {
   "cell_type": "code",
   "execution_count": null,
   "id": "8b25f36f",
   "metadata": {},
   "outputs": [],
   "source": []
  },
  {
   "cell_type": "code",
   "execution_count": null,
   "id": "ae9d02a8",
   "metadata": {},
   "outputs": [],
   "source": []
  },
  {
   "cell_type": "code",
   "execution_count": 21,
   "id": "38779ec5",
   "metadata": {},
   "outputs": [
    {
     "name": "stderr",
     "output_type": "stream",
     "text": [
      "2022-06-27 13:18:12 fostool\\task\\config_handler.py 28 \\ - INFO - yaml handler load path: C:\\Users\\Xiaoyi Wang\\.conda\\envs\\geo_env\\lib\\site-packages\\fostool\\config/default.yaml\n",
      "2022-06-27 13:18:12 fostool\\dataset\\data_utils.py 426 \\ - INFO - 54537 Rows Before Time Reindex.\n",
      "2022-06-27 13:18:12 fostool\\dataset\\data_utils.py 428 \\ - INFO - 54537 Rows After Time Reindex.\n",
      "2022-06-27 13:18:12 fostool\\dataset\\data_utils.py 429 \\ - INFO - --------------------\n",
      "2022-06-27 13:18:12 fostool\\dataset\\data_utils.py 457 \\ - INFO - 54537 Rows Before Fill Missing.\n",
      "2022-06-27 13:18:17 fostool\\dataset\\data_utils.py 461 \\ - INFO - 54537 Rows After Fill Missing.\n",
      "2022-06-27 13:18:17 fostool\\dataset\\data_utils.py 462 \\ - INFO - --------------------\n",
      "2022-06-27 13:18:43 fostool\\task\\fusion.py 71 \\ - INFO -    val_loss             model_name\n",
      "0  0.179740      KRNNModel_01c6_14\n",
      "1  0.156839      KRNNModel_b07a_21\n",
      "4  0.187240        MLP_Res_8f02_21\n",
      "7  0.205605  SandwichModel_7e50_21\n"
     ]
    },
    {
     "name": "stdout",
     "output_type": "stream",
     "text": [
      "CPU times: total: 51.4 s\n",
      "Wall time: 30.7 s\n"
     ]
    },
    {
     "data": {
      "text/html": [
       "<div>\n",
       "<style scoped>\n",
       "    .dataframe tbody tr th:only-of-type {\n",
       "        vertical-align: middle;\n",
       "    }\n",
       "\n",
       "    .dataframe tbody tr th {\n",
       "        vertical-align: top;\n",
       "    }\n",
       "\n",
       "    .dataframe thead th {\n",
       "        text-align: right;\n",
       "    }\n",
       "</style>\n",
       "<table border=\"1\" class=\"dataframe\">\n",
       "  <thead>\n",
       "    <tr style=\"text-align: right;\">\n",
       "      <th></th>\n",
       "      <th></th>\n",
       "      <th>TARGET</th>\n",
       "    </tr>\n",
       "    <tr>\n",
       "      <th>Node</th>\n",
       "      <th>Date</th>\n",
       "      <th></th>\n",
       "    </tr>\n",
       "  </thead>\n",
       "  <tbody>\n",
       "    <tr>\n",
       "      <th rowspan=\"4\" valign=\"top\">689</th>\n",
       "      <th>2019-01-20</th>\n",
       "      <td>0.034228</td>\n",
       "    </tr>\n",
       "    <tr>\n",
       "      <th>2019-01-27</th>\n",
       "      <td>-0.018008</td>\n",
       "    </tr>\n",
       "    <tr>\n",
       "      <th>2019-02-03</th>\n",
       "      <td>0.046168</td>\n",
       "    </tr>\n",
       "    <tr>\n",
       "      <th>2019-02-10</th>\n",
       "      <td>-0.046468</td>\n",
       "    </tr>\n",
       "    <tr>\n",
       "      <th>690</th>\n",
       "      <th>2019-01-20</th>\n",
       "      <td>0.025228</td>\n",
       "    </tr>\n",
       "    <tr>\n",
       "      <th>...</th>\n",
       "      <th>...</th>\n",
       "      <td>...</td>\n",
       "    </tr>\n",
       "    <tr>\n",
       "      <th>6079</th>\n",
       "      <th>2019-02-10</th>\n",
       "      <td>-0.010719</td>\n",
       "    </tr>\n",
       "    <tr>\n",
       "      <th rowspan=\"4\" valign=\"top\">6080</th>\n",
       "      <th>2019-01-20</th>\n",
       "      <td>0.004940</td>\n",
       "    </tr>\n",
       "    <tr>\n",
       "      <th>2019-01-27</th>\n",
       "      <td>-0.005308</td>\n",
       "    </tr>\n",
       "    <tr>\n",
       "      <th>2019-02-03</th>\n",
       "      <td>0.019139</td>\n",
       "    </tr>\n",
       "    <tr>\n",
       "      <th>2019-02-10</th>\n",
       "      <td>-0.013105</td>\n",
       "    </tr>\n",
       "  </tbody>\n",
       "</table>\n",
       "<p>10388 rows × 1 columns</p>\n",
       "</div>"
      ],
      "text/plain": [
       "                   TARGET\n",
       "Node Date                \n",
       "689  2019-01-20  0.034228\n",
       "     2019-01-27 -0.018008\n",
       "     2019-02-03  0.046168\n",
       "     2019-02-10 -0.046468\n",
       "690  2019-01-20  0.025228\n",
       "...                   ...\n",
       "6079 2019-02-10 -0.010719\n",
       "6080 2019-01-20  0.004940\n",
       "     2019-01-27 -0.005308\n",
       "     2019-02-03  0.019139\n",
       "     2019-02-10 -0.013105\n",
       "\n",
       "[10388 rows x 1 columns]"
      ]
     },
     "execution_count": 21,
     "metadata": {},
     "output_type": "execute_result"
    }
   ],
   "source": [
    "ii = 0\n",
    "pipeline_path = 'E:\\\\jupyter_output_figs\\\\fost_models_out\\\\seq_models_'+str(ii)\n",
    "fost = Pipeline(lookahead=4, load_path = pipeline_path)\n",
    "jj = 0\n",
    "test_path = root+'\\\\'+dirlist[ii]+'\\\\'+files[jj]\n",
    "%time imf_fct = fost.predict(test_path=test_path,mode='test')\n",
    "kk = 0\n",
    "ii = 2019\n",
    "month = np.arange(1,13)\n",
    "jj = month[0]+1\n"
   ]
  },
  {
   "cell_type": "code",
   "execution_count": 23,
   "id": "5f2cff37",
   "metadata": {},
   "outputs": [],
   "source": []
  },
  {
   "cell_type": "code",
   "execution_count": null,
   "id": "c721ee45",
   "metadata": {},
   "outputs": [],
   "source": []
  },
  {
   "cell_type": "code",
   "execution_count": 32,
   "id": "3fe355dc",
   "metadata": {},
   "outputs": [
    {
     "ename": "FileExistsError",
     "evalue": "[WinError 183] 当文件已存在时，无法创建该文件。: 'E:\\\\Data_inputs\\\\fost_outputs_VAL\\\\val_predict_imfs_0'",
     "output_type": "error",
     "traceback": [
      "\u001b[1;31m---------------------------------------------------------------------------\u001b[0m",
      "\u001b[1;31mFileExistsError\u001b[0m                           Traceback (most recent call last)",
      "Input \u001b[1;32mIn [32]\u001b[0m, in \u001b[0;36m<cell line: 5>\u001b[1;34m()\u001b[0m\n\u001b[0;32m      3\u001b[0m month \u001b[38;5;241m=\u001b[39m np\u001b[38;5;241m.\u001b[39marange(\u001b[38;5;241m1\u001b[39m,\u001b[38;5;241m13\u001b[39m)\n\u001b[0;32m      4\u001b[0m jj \u001b[38;5;241m=\u001b[39m month[\u001b[38;5;241m0\u001b[39m]\u001b[38;5;241m+\u001b[39m\u001b[38;5;241m1\u001b[39m\n\u001b[1;32m----> 5\u001b[0m \u001b[43mos\u001b[49m\u001b[38;5;241;43m.\u001b[39;49m\u001b[43mmakedirs\u001b[49m\u001b[43m(\u001b[49m\u001b[38;5;124;43m'\u001b[39;49m\u001b[38;5;124;43mE:\u001b[39;49m\u001b[38;5;130;43;01m\\\\\u001b[39;49;00m\u001b[38;5;124;43mData_inputs\u001b[39;49m\u001b[38;5;130;43;01m\\\\\u001b[39;49;00m\u001b[38;5;124;43mfost_outputs_VAL\u001b[39;49m\u001b[38;5;130;43;01m\\\\\u001b[39;49;00m\u001b[38;5;124;43m'\u001b[39;49m\u001b[38;5;241;43m+\u001b[39;49m\u001b[38;5;124;43m'\u001b[39;49m\u001b[38;5;124;43mval_predict_imfs_\u001b[39;49m\u001b[38;5;124;43m'\u001b[39;49m\u001b[38;5;241;43m+\u001b[39;49m\u001b[38;5;28;43mstr\u001b[39;49m\u001b[43m(\u001b[49m\u001b[43mkk\u001b[49m\u001b[43m)\u001b[49m\u001b[43m)\u001b[49m\n\u001b[0;32m      6\u001b[0m imf_fct\u001b[38;5;241m.\u001b[39mto_csv(\u001b[38;5;124m'\u001b[39m\u001b[38;5;124mE:\u001b[39m\u001b[38;5;130;01m\\\\\u001b[39;00m\u001b[38;5;124mData_inputs\u001b[39m\u001b[38;5;130;01m\\\\\u001b[39;00m\u001b[38;5;124mfost_outputs_VAL\u001b[39m\u001b[38;5;130;01m\\\\\u001b[39;00m\u001b[38;5;124m'\u001b[39m\u001b[38;5;241m+\u001b[39m\u001b[38;5;124m'\u001b[39m\u001b[38;5;124mval_predict_imfs_\u001b[39m\u001b[38;5;124m'\u001b[39m\n\u001b[0;32m      7\u001b[0m                \u001b[38;5;241m+\u001b[39m\u001b[38;5;28mstr\u001b[39m(kk)\u001b[38;5;241m+\u001b[39m\u001b[38;5;124m'\u001b[39m\u001b[38;5;130;01m\\\\\u001b[39;00m\u001b[38;5;124m'\u001b[39m\n\u001b[0;32m      8\u001b[0m                \u001b[38;5;124m'\u001b[39m\u001b[38;5;124mimf\u001b[39m\u001b[38;5;124m'\u001b[39m\u001b[38;5;241m+\u001b[39m\u001b[38;5;28mstr\u001b[39m(kk)\u001b[38;5;241m+\u001b[39m\u001b[38;5;124m'\u001b[39m\u001b[38;5;124m_HRB_pd_melt_\u001b[39m\u001b[38;5;124m'\u001b[39m\u001b[38;5;241m+\u001b[39m\u001b[38;5;28mstr\u001b[39m(ii)\u001b[38;5;241m+\u001b[39m\u001b[38;5;124m'\u001b[39m\u001b[38;5;124m-\u001b[39m\u001b[38;5;124m'\u001b[39m\u001b[38;5;241m+\u001b[39m\u001b[38;5;28mstr\u001b[39m(vfunc(jj))\u001b[38;5;241m+\u001b[39m\u001b[38;5;124m'\u001b[39m\u001b[38;5;124m.csv\u001b[39m\u001b[38;5;124m'\u001b[39m)\n",
      "File \u001b[1;32m~\\.conda\\envs\\geo_env\\lib\\os.py:225\u001b[0m, in \u001b[0;36mmakedirs\u001b[1;34m(name, mode, exist_ok)\u001b[0m\n\u001b[0;32m    223\u001b[0m         \u001b[38;5;28;01mreturn\u001b[39;00m\n\u001b[0;32m    224\u001b[0m \u001b[38;5;28;01mtry\u001b[39;00m:\n\u001b[1;32m--> 225\u001b[0m     \u001b[43mmkdir\u001b[49m\u001b[43m(\u001b[49m\u001b[43mname\u001b[49m\u001b[43m,\u001b[49m\u001b[43m \u001b[49m\u001b[43mmode\u001b[49m\u001b[43m)\u001b[49m\n\u001b[0;32m    226\u001b[0m \u001b[38;5;28;01mexcept\u001b[39;00m \u001b[38;5;167;01mOSError\u001b[39;00m:\n\u001b[0;32m    227\u001b[0m     \u001b[38;5;66;03m# Cannot rely on checking for EEXIST, since the operating system\u001b[39;00m\n\u001b[0;32m    228\u001b[0m     \u001b[38;5;66;03m# could give priority to other errors like EACCES or EROFS\u001b[39;00m\n\u001b[0;32m    229\u001b[0m     \u001b[38;5;28;01mif\u001b[39;00m \u001b[38;5;129;01mnot\u001b[39;00m exist_ok \u001b[38;5;129;01mor\u001b[39;00m \u001b[38;5;129;01mnot\u001b[39;00m path\u001b[38;5;241m.\u001b[39misdir(name):\n",
      "\u001b[1;31mFileExistsError\u001b[0m: [WinError 183] 当文件已存在时，无法创建该文件。: 'E:\\\\Data_inputs\\\\fost_outputs_VAL\\\\val_predict_imfs_0'"
     ]
    }
   ],
   "source": [
    "kk = 0\n",
    "ii = 2019\n",
    "month = np.arange(1,13)\n",
    "jj = month[0]+1\n",
    "os.makedirs('E:\\\\Data_inputs\\\\fost_outputs_VAL\\\\'+'val_predict_imfs_'+str(kk))\n",
    "imf_fct.to_csv('E:\\\\Data_inputs\\\\fost_outputs_VAL\\\\'+'val_predict_imfs_'\n",
    "               +str(kk)+'\\\\'\n",
    "               'imf'+str(kk)+'_HRB_pd_melt_'+str(ii)+'-'+str(vfunc(jj))+'.csv')\n"
   ]
  },
  {
   "cell_type": "code",
   "execution_count": null,
   "id": "ff67fae3",
   "metadata": {},
   "outputs": [],
   "source": []
  }
 ],
 "metadata": {
  "kernelspec": {
   "display_name": "Python 3 (ipykernel)",
   "language": "python",
   "name": "python3"
  },
  "language_info": {
   "codemirror_mode": {
    "name": "ipython",
    "version": 3
   },
   "file_extension": ".py",
   "mimetype": "text/x-python",
   "name": "python",
   "nbconvert_exporter": "python",
   "pygments_lexer": "ipython3",
   "version": "3.10.4"
  }
 },
 "nbformat": 4,
 "nbformat_minor": 5
}
