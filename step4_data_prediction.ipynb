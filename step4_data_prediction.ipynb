{
 "cells": [
  {
   "cell_type": "code",
   "execution_count": 1,
   "id": "2b1e5019",
   "metadata": {},
   "outputs": [],
   "source": [
    "#-----------------------------------#\n",
    "# Target: for preparing the test data before runing trained FOST model\n",
    "# FOST only receives .csv\n",
    "# DATA: IMFS and smapi within Huai river Plain \n",
    "# This practice is to remove all the invalid grids (for reducing computation) \n",
    "# author: X.W.\n",
    "# 6-26-2022\n",
    "#-----------------------------------#\n",
    "import xarray as xr\n",
    "import pandas as pd\n",
    "#import geopandas as gpd\n",
    "import numpy as np\n",
    "import os\n",
    "import glob"
   ]
  },
  {
   "cell_type": "code",
   "execution_count": 2,
   "id": "838e93ba",
   "metadata": {},
   "outputs": [],
   "source": [
    "# 读取文件名的函数\n",
    "def read_file(path, file_type):  # path 是指需要提取的文件夹所在路径;file_type是指文件的拓展名;txt格式的文件则输入‘.txt’\n",
    "    filenames = os.listdir(path)\n",
    "    filenames1 = []\n",
    "    for filename in filenames:\n",
    "        if os.path.splitext(filename)[1] == file_type:\n",
    "            filenames1.append(filename)\n",
    "    return filenames1"
   ]
  },
  {
   "cell_type": "code",
   "execution_count": 4,
   "id": "3e338a08",
   "metadata": {},
   "outputs": [],
   "source": [
    "import numpy as np\n",
    "\n",
    "def pad(value):\n",
    "    try:\n",
    "        return '{0:0>2}'.format(int(value))\n",
    "    except:\n",
    "        return value\n",
    "\n",
    "vfunc = np.vectorize(pad)\n",
    "# arr = vfunc(month)\n",
    "# print(arr)"
   ]
  },
  {
   "cell_type": "code",
   "execution_count": 14,
   "id": "8477cc54",
   "metadata": {},
   "outputs": [
    {
     "data": {
      "text/plain": [
       "['imfs0_HRB_from_1980_to_2021.nc',\n",
       " 'imfs1_HRB_from_1980_to_2021.nc',\n",
       " 'imfs2_HRB_from_1980_to_2021.nc',\n",
       " 'imfs3_HRB_from_1980_to_2021.nc',\n",
       " 'imfs4_HRB_from_1980_to_2021.nc',\n",
       " 'imfs5_HRB_from_1980_to_2021.nc',\n",
       " 'imfs6_HRB_from_1980_to_2021.nc',\n",
       " 'smapi_HRB_from_1980_to_2021.nc']"
      ]
     },
     "execution_count": 14,
     "metadata": {},
     "output_type": "execute_result"
    }
   ],
   "source": [
    "os.chdir(r'E:\\Data_inputs\\masked_data_HRB')  # 更改工作路径\n",
    "curr_path = os.getcwd()  # 获取当前路径\n",
    "files = read_file(curr_path, '.nc')  # 利用上述函数获取当前文件夹内的.nc文件名\n",
    "# 最后一个文件是smapi，注意区分\n",
    "files"
   ]
  },
  {
   "cell_type": "code",
   "execution_count": null,
   "id": "331e7e26",
   "metadata": {},
   "outputs": [],
   "source": [
    "t_end = pd_date[(pd_date.date.dt.month == jj) & (pd_date.date.dt.year == ii)].index.values[0]"
   ]
  },
  {
   "cell_type": "code",
   "execution_count": null,
   "id": "44adcac2",
   "metadata": {},
   "outputs": [],
   "source": []
  },
  {
   "cell_type": "code",
   "execution_count": 34,
   "id": "9e64695f",
   "metadata": {},
   "outputs": [],
   "source": [
    "# select the data from specific month\n",
    "pd_date = pd.DataFrame({'date':pd.date_range(start='1980-1-6', periods=2140, freq='7D')})\n",
    "#pd.DataFrame({'date':pd.date_range(start='1979-12-31', periods=2140, freq='7D')})\n",
    "month = np.arange(1,13)\n",
    "year = np.arange(2019,2021)\n",
    "ds = xr.open_dataset(files[0])\n",
    "for kk in range(len(files)):\n",
    "    os.makedirs('E:\\\\Data_inputs\\\\fost_test_in_VAL\\\\'+'val_input_imfs_'+str(kk))\n",
    "    data = xr.open_dataset(files[kk])\n",
    "    if kk == 7:\n",
    "        dt = data['smapi'].values\n",
    "    else: \n",
    "        dt = data['imf'].values\n",
    "    df = pd.DataFrame(dt.reshape((dt.shape[0],-1)))\n",
    "    id_nan = pd_date[pd_date.columns[pd_date.isnull().any()]].columns\n",
    "    # 获得均为nan的列，df_new = df.iloc[:,id_nan.values]\n",
    "    df = df.dropna(axis=1, how='all')\n",
    "    for ii in year:\n",
    "        for jj in month:\n",
    "            t_end = pd_date[(pd_date.date.dt.month == jj) & (pd_date.date.dt.year == ii)].index.values[0]\n",
    "            #t2 = pd_date[(pd_date.date.dt.month == jj) & (pd_date.date.dt.year == ii)].index.values[-1]\n",
    "            df_val = df.loc[t_end-21:t_end-1,:]\n",
    "            df_date = pd.DataFrame()\n",
    "            df_date['Date'] = data.time[t_end-21:t_end]\n",
    "            n = df_val.shape[1]\n",
    "            df_date = pd.concat([df_date] * n, axis=1, ignore_index=True)\n",
    "            df_val = pd.melt(df_val)\n",
    "            df_date = pd.melt(df_date)\n",
    "            df_val['Date'] = df_date.value\n",
    "#             df_val = df.loc[t_end-21:t_end-1,:]\n",
    "#             df_date = pd.DataFrame()\n",
    "#             df_date['Date'] = data.time[t_end-20:t_end+1]\n",
    "#             n = df_val.shape[1]\n",
    "#             df_date = pd.concat([df_date] * n, axis=1, ignore_index=True)\n",
    "#             df_val = pd.melt(df_val)\n",
    "#             df_date = pd.melt(df_date)\n",
    "#             df_val['Date'] = data.time[t_end-21:t_end]\n",
    "            df_val.rename(columns = {'variable':'Node','value':'TARGET'}, inplace = True)\n",
    "            # save to directed folder\n",
    "            df_val.to_csv('E:\\\\Data_inputs\\\\fost_test_in_VAL\\\\'+'val_input_imfs_'\n",
    "                          +str(kk)+'\\\\'\n",
    "                          'imf'+str(kk)+'_HRB_pd_melt_'+str(ii)+'-'+str(vfunc(jj))+'.csv')\n",
    "            \n",
    "\n",
    "#df[(df.date.dt.month == 3) & (df.date.dt.year == 2019)].index.values[0]"
   ]
  },
  {
   "cell_type": "code",
   "execution_count": null,
   "id": "4ba1e28e",
   "metadata": {},
   "outputs": [],
   "source": []
  }
 ],
 "metadata": {
  "kernelspec": {
   "display_name": "Python 3 (ipykernel)",
   "language": "python",
   "name": "python3"
  },
  "language_info": {
   "codemirror_mode": {
    "name": "ipython",
    "version": 3
   },
   "file_extension": ".py",
   "mimetype": "text/x-python",
   "name": "python",
   "nbconvert_exporter": "python",
   "pygments_lexer": "ipython3",
   "version": "3.10.4"
  }
 },
 "nbformat": 4,
 "nbformat_minor": 5
}
